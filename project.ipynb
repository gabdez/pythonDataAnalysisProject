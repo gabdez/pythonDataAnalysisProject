{
 "cells": [
  {
   "cell_type": "markdown",
   "metadata": {},
   "source": [
    "## Import Dataset"
   ]
  },
  {
   "cell_type": "code",
   "execution_count": 37,
   "metadata": {},
   "outputs": [
    {
     "data": {
      "text/html": [
       "<div>\n",
       "<style scoped>\n",
       "    .dataframe tbody tr th:only-of-type {\n",
       "        vertical-align: middle;\n",
       "    }\n",
       "\n",
       "    .dataframe tbody tr th {\n",
       "        vertical-align: top;\n",
       "    }\n",
       "\n",
       "    .dataframe thead th {\n",
       "        text-align: right;\n",
       "    }\n",
       "</style>\n",
       "<table border=\"1\" class=\"dataframe\">\n",
       "  <thead>\n",
       "    <tr style=\"text-align: right;\">\n",
       "      <th></th>\n",
       "      <th>url</th>\n",
       "      <th>timedelta</th>\n",
       "      <th>n_tokens_title</th>\n",
       "      <th>n_tokens_content</th>\n",
       "      <th>n_unique_tokens</th>\n",
       "      <th>n_non_stop_words</th>\n",
       "      <th>n_non_stop_unique_tokens</th>\n",
       "      <th>num_hrefs</th>\n",
       "      <th>num_self_hrefs</th>\n",
       "      <th>num_imgs</th>\n",
       "      <th>...</th>\n",
       "      <th>min_positive_polarity</th>\n",
       "      <th>max_positive_polarity</th>\n",
       "      <th>avg_negative_polarity</th>\n",
       "      <th>min_negative_polarity</th>\n",
       "      <th>max_negative_polarity</th>\n",
       "      <th>title_subjectivity</th>\n",
       "      <th>title_sentiment_polarity</th>\n",
       "      <th>abs_title_subjectivity</th>\n",
       "      <th>abs_title_sentiment_polarity</th>\n",
       "      <th>shares</th>\n",
       "    </tr>\n",
       "  </thead>\n",
       "  <tbody>\n",
       "    <tr>\n",
       "      <th>0</th>\n",
       "      <td>http://mashable.com/2013/01/07/amazon-instant-...</td>\n",
       "      <td>731.0</td>\n",
       "      <td>12.0</td>\n",
       "      <td>219.0</td>\n",
       "      <td>0.663594</td>\n",
       "      <td>1.0</td>\n",
       "      <td>0.815385</td>\n",
       "      <td>4.0</td>\n",
       "      <td>2.0</td>\n",
       "      <td>1.0</td>\n",
       "      <td>...</td>\n",
       "      <td>0.100000</td>\n",
       "      <td>0.7</td>\n",
       "      <td>-0.350000</td>\n",
       "      <td>-0.600</td>\n",
       "      <td>-0.200000</td>\n",
       "      <td>0.500000</td>\n",
       "      <td>-0.187500</td>\n",
       "      <td>0.000000</td>\n",
       "      <td>0.187500</td>\n",
       "      <td>593</td>\n",
       "    </tr>\n",
       "    <tr>\n",
       "      <th>1</th>\n",
       "      <td>http://mashable.com/2013/01/07/ap-samsung-spon...</td>\n",
       "      <td>731.0</td>\n",
       "      <td>9.0</td>\n",
       "      <td>255.0</td>\n",
       "      <td>0.604743</td>\n",
       "      <td>1.0</td>\n",
       "      <td>0.791946</td>\n",
       "      <td>3.0</td>\n",
       "      <td>1.0</td>\n",
       "      <td>1.0</td>\n",
       "      <td>...</td>\n",
       "      <td>0.033333</td>\n",
       "      <td>0.7</td>\n",
       "      <td>-0.118750</td>\n",
       "      <td>-0.125</td>\n",
       "      <td>-0.100000</td>\n",
       "      <td>0.000000</td>\n",
       "      <td>0.000000</td>\n",
       "      <td>0.500000</td>\n",
       "      <td>0.000000</td>\n",
       "      <td>711</td>\n",
       "    </tr>\n",
       "    <tr>\n",
       "      <th>2</th>\n",
       "      <td>http://mashable.com/2013/01/07/apple-40-billio...</td>\n",
       "      <td>731.0</td>\n",
       "      <td>9.0</td>\n",
       "      <td>211.0</td>\n",
       "      <td>0.575130</td>\n",
       "      <td>1.0</td>\n",
       "      <td>0.663866</td>\n",
       "      <td>3.0</td>\n",
       "      <td>1.0</td>\n",
       "      <td>1.0</td>\n",
       "      <td>...</td>\n",
       "      <td>0.100000</td>\n",
       "      <td>1.0</td>\n",
       "      <td>-0.466667</td>\n",
       "      <td>-0.800</td>\n",
       "      <td>-0.133333</td>\n",
       "      <td>0.000000</td>\n",
       "      <td>0.000000</td>\n",
       "      <td>0.500000</td>\n",
       "      <td>0.000000</td>\n",
       "      <td>1500</td>\n",
       "    </tr>\n",
       "    <tr>\n",
       "      <th>3</th>\n",
       "      <td>http://mashable.com/2013/01/07/astronaut-notre...</td>\n",
       "      <td>731.0</td>\n",
       "      <td>9.0</td>\n",
       "      <td>531.0</td>\n",
       "      <td>0.503788</td>\n",
       "      <td>1.0</td>\n",
       "      <td>0.665635</td>\n",
       "      <td>9.0</td>\n",
       "      <td>0.0</td>\n",
       "      <td>1.0</td>\n",
       "      <td>...</td>\n",
       "      <td>0.136364</td>\n",
       "      <td>0.8</td>\n",
       "      <td>-0.369697</td>\n",
       "      <td>-0.600</td>\n",
       "      <td>-0.166667</td>\n",
       "      <td>0.000000</td>\n",
       "      <td>0.000000</td>\n",
       "      <td>0.500000</td>\n",
       "      <td>0.000000</td>\n",
       "      <td>1200</td>\n",
       "    </tr>\n",
       "    <tr>\n",
       "      <th>4</th>\n",
       "      <td>http://mashable.com/2013/01/07/att-u-verse-apps/</td>\n",
       "      <td>731.0</td>\n",
       "      <td>13.0</td>\n",
       "      <td>1072.0</td>\n",
       "      <td>0.415646</td>\n",
       "      <td>1.0</td>\n",
       "      <td>0.540890</td>\n",
       "      <td>19.0</td>\n",
       "      <td>19.0</td>\n",
       "      <td>20.0</td>\n",
       "      <td>...</td>\n",
       "      <td>0.033333</td>\n",
       "      <td>1.0</td>\n",
       "      <td>-0.220192</td>\n",
       "      <td>-0.500</td>\n",
       "      <td>-0.050000</td>\n",
       "      <td>0.454545</td>\n",
       "      <td>0.136364</td>\n",
       "      <td>0.045455</td>\n",
       "      <td>0.136364</td>\n",
       "      <td>505</td>\n",
       "    </tr>\n",
       "  </tbody>\n",
       "</table>\n",
       "<p>5 rows × 61 columns</p>\n",
       "</div>"
      ],
      "text/plain": [
       "                                                 url  timedelta  \\\n",
       "0  http://mashable.com/2013/01/07/amazon-instant-...      731.0   \n",
       "1  http://mashable.com/2013/01/07/ap-samsung-spon...      731.0   \n",
       "2  http://mashable.com/2013/01/07/apple-40-billio...      731.0   \n",
       "3  http://mashable.com/2013/01/07/astronaut-notre...      731.0   \n",
       "4   http://mashable.com/2013/01/07/att-u-verse-apps/      731.0   \n",
       "\n",
       "   n_tokens_title  n_tokens_content  n_unique_tokens  n_non_stop_words  \\\n",
       "0            12.0             219.0         0.663594               1.0   \n",
       "1             9.0             255.0         0.604743               1.0   \n",
       "2             9.0             211.0         0.575130               1.0   \n",
       "3             9.0             531.0         0.503788               1.0   \n",
       "4            13.0            1072.0         0.415646               1.0   \n",
       "\n",
       "   n_non_stop_unique_tokens  num_hrefs  num_self_hrefs  num_imgs  ...  \\\n",
       "0                  0.815385        4.0             2.0       1.0  ...   \n",
       "1                  0.791946        3.0             1.0       1.0  ...   \n",
       "2                  0.663866        3.0             1.0       1.0  ...   \n",
       "3                  0.665635        9.0             0.0       1.0  ...   \n",
       "4                  0.540890       19.0            19.0      20.0  ...   \n",
       "\n",
       "   min_positive_polarity  max_positive_polarity  avg_negative_polarity  \\\n",
       "0               0.100000                    0.7              -0.350000   \n",
       "1               0.033333                    0.7              -0.118750   \n",
       "2               0.100000                    1.0              -0.466667   \n",
       "3               0.136364                    0.8              -0.369697   \n",
       "4               0.033333                    1.0              -0.220192   \n",
       "\n",
       "   min_negative_polarity  max_negative_polarity  title_subjectivity  \\\n",
       "0                 -0.600              -0.200000            0.500000   \n",
       "1                 -0.125              -0.100000            0.000000   \n",
       "2                 -0.800              -0.133333            0.000000   \n",
       "3                 -0.600              -0.166667            0.000000   \n",
       "4                 -0.500              -0.050000            0.454545   \n",
       "\n",
       "   title_sentiment_polarity  abs_title_subjectivity  \\\n",
       "0                 -0.187500                0.000000   \n",
       "1                  0.000000                0.500000   \n",
       "2                  0.000000                0.500000   \n",
       "3                  0.000000                0.500000   \n",
       "4                  0.136364                0.045455   \n",
       "\n",
       "   abs_title_sentiment_polarity  shares  \n",
       "0                      0.187500     593  \n",
       "1                      0.000000     711  \n",
       "2                      0.000000    1500  \n",
       "3                      0.000000    1200  \n",
       "4                      0.136364     505  \n",
       "\n",
       "[5 rows x 61 columns]"
      ]
     },
     "metadata": {},
     "output_type": "display_data"
    }
   ],
   "source": [
    "import numpy as np\n",
    "import pandas as pd\n",
    "import matplotlib.pyplot as plt\n",
    "from time import time\n",
    "from IPython.display import display\n",
    "import seaborn as sns\n",
    "%matplotlib inline\n",
    "# chargement du dataset\n",
    "data = pd.read_csv(\"OnlineNewsPopularity/OnlineNewsPopularity.csv\")\n",
    "# Récupération des features du dataset (58 cols énumérés dans le OnlineNewsPopularity/OnlineNewsPopularity.names)\n",
    "#features = data.drop(['url',data.keys()[1],data.keys()[-1]], axis=1)\n",
    "#display(features.head())\n",
    "# suppression des espaces sur le devant des colonnes\n",
    "for col in data.columns: \n",
    "    if col[0]==\" \":\n",
    "        data.rename(columns={col:col[1:]}, inplace = True)\n",
    "display(data.head())"
   ]
  },
  {
   "cell_type": "markdown",
   "metadata": {},
   "source": [
    "## Data-visualisation (utilisez matplotlib, searborn, bokeh…) – montrez le lien entre les variables et la cible"
   ]
  },
  {
   "cell_type": "markdown",
   "metadata": {},
   "source": [
    "### Analyse des données sur différentes variables du dataset (Title Length, Categories, week day...)"
   ]
  },
  {
   "cell_type": "markdown",
   "metadata": {},
   "source": [
    "##### Title length"
   ]
  },
  {
   "cell_type": "code",
   "execution_count": 55,
   "metadata": {},
   "outputs": [
    {
     "data": {
      "text/plain": [
       "{2.0: 1,\n",
       " 3.0: 5,\n",
       " 4.0: 27,\n",
       " 5.0: 170,\n",
       " 6.0: 756,\n",
       " 7.0: 1968,\n",
       " 8.0: 3923,\n",
       " 9.0: 5813,\n",
       " 10.0: 6876,\n",
       " 11.0: 6487,\n",
       " 12.0: 4943,\n",
       " 13.0: 3260,\n",
       " 14.0: 1596,\n",
       " 15.0: 707,\n",
       " 16.0: 237,\n",
       " 17.0: 81,\n",
       " 18.0: 21,\n",
       " 19.0: 5,\n",
       " 20.0: 2,\n",
       " 23.0: 1}"
      ]
     },
     "execution_count": 55,
     "metadata": {},
     "output_type": "execute_result"
    }
   ],
   "source": [
    "# Relation entre la longueur du titre et le nombre de share\n",
    "df_no_outliers = data[data[\"shares\"]<=8362]\n",
    "\n",
    "title_length_df = df_no_outliers.loc[:,[\"n_tokens_title\", \"shares\"]]  # creating a new dataframe with length of title and number of shares\n",
    "\n",
    "title_length_df_sorted = title_length_df.sort_values('n_tokens_title') # sorting the dataframe based on the lenght of the titles\n",
    "\n",
    "distinct_title_keywords_count=(title_length_df_sorted.n_tokens_title.unique()) \n",
    "\n",
    "#distinct_title_keywords_count\n",
    "\n",
    "numOfArticles = {} \n",
    "\n",
    "for token in distinct_title_keywords_count: \n",
    "\n",
    "    tempDf = title_length_df_sorted[title_length_df_sorted[\"n_tokens_title\"]==token] \n",
    "\n",
    "    numOfArticles[token] = len(tempDf.n_tokens_title) \n",
    "\n",
    "numOfArticles\n",
    "\n"
   ]
  },
  {
   "cell_type": "code",
   "execution_count": 56,
   "metadata": {},
   "outputs": [],
   "source": [
    "#2, 3, 4, 17, 18, 19, 20 and 23 ont moins de 100 articles chacuns\n",
    "\n",
    "#On va donc les supprimer car on peut considérer que cela n'est pas pertinent de les garder\n",
    "\n",
    "del_indices = [0,1,2,15,16,17,18,19] \n",
    "\n",
    "distinct_title_keywords_count = np.delete(distinct_title_keywords_count, del_indices)"
   ]
  },
  {
   "cell_type": "code",
   "execution_count": 57,
   "metadata": {},
   "outputs": [
    {
     "data": {
      "text/plain": [
       "{5.0: 2216.323529411765,\n",
       " 6.0: 2028.2843915343915,\n",
       " 7.0: 2053.901422764228,\n",
       " 8.0: 1973.700739230181,\n",
       " 9.0: 1955.0775847238947,\n",
       " 10.0: 1898.8490401396161,\n",
       " 11.0: 1919.7316170803144,\n",
       " 12.0: 1846.2443860004046,\n",
       " 13.0: 1835.1895705521472,\n",
       " 14.0: 1864.3659147869673,\n",
       " 15.0: 1801.2503536067893,\n",
       " 16.0: 1911.8776371308018}"
      ]
     },
     "execution_count": 57,
     "metadata": {},
     "output_type": "execute_result"
    }
   ],
   "source": [
    "# Nous cherchons maintenant la moyenne des shares pour chaque longueur de titre d'article\n",
    "\n",
    "avg_shares_per_title_length = {}\n",
    "\n",
    "for row in distinct_title_keywords_count:\n",
    "\n",
    "    df_tokenwise = title_length_df_sorted[title_length_df_sorted[\"n_tokens_title\"]== row]\n",
    "\n",
    "    Avg = df_tokenwise[\"shares\"].mean()\n",
    "\n",
    "    avg_shares_per_title_length[row] = Avg\n",
    "\n",
    "avg_shares_per_title_length"
   ]
  },
  {
   "cell_type": "code",
   "execution_count": 58,
   "metadata": {},
   "outputs": [
    {
     "data": {
      "image/png": "[encoded data removed]",
      "text/plain": [
       "<Figure size 432x288 with 1 Axes>"
      ]
     },
     "metadata": {
      "needs_background": "light"
     },
     "output_type": "display_data"
    }
   ],
   "source": [
    "Avg_list =[] \n",
    "\n",
    "for token in avg_shares_per_title_length: \n",
    "\n",
    "    Avg_list = Avg_list + [avg_shares_per_title_length[token]] \n",
    "\n",
    "\n",
    "plt.plot(distinct_title_keywords_count, Avg_list) \n",
    "\n",
    "plt.xlabel('longueur du titre en nombre de mot') \n",
    "\n",
    "plt.ylabel('Nombre de shares moyen') \n",
    "\n",
    "plt.title('Nombre de partage VS longueur du titre') \n",
    "\n",
    "plt.show()"
   ]
  },
  {
   "cell_type": "markdown",
   "metadata": {},
   "source": [
    "##### Article Category (social media, tech, business ...)"
   ]
  },
  {
   "cell_type": "code",
   "execution_count": 70,
   "metadata": {},
   "outputs": [
    {
     "data": {
      "image/png": "[encoded data removed]",
      "text/plain": [
       "<Figure size 720x504 with 1 Axes>"
      ]
     },
     "metadata": {
      "needs_background": "light"
     },
     "output_type": "display_data"
    }
   ],
   "source": [
    "# On va maintenant s'intéresser aux catégories des articles en fonctions de leur nombre de partage moyens\n",
    "\n",
    "channel = []\n",
    "for d in ['data_channel_is_lifestyle',\n",
    "       'data_channel_is_entertainment', 'data_channel_is_bus',\n",
    "       'data_channel_is_socmed', 'data_channel_is_tech',\n",
    "       'data_channel_is_world']:\n",
    "    channel.append(data[data[d]==1]['shares'].median())\n",
    "\n",
    "plt.figure(figsize=(10, 7))\n",
    "ax = sns.barplot(x= ['lifestyle',\n",
    "       'entertainment', 'business',\n",
    "       'social media', 'tech',\n",
    "       'world'], y= channel)\n",
    "ax.set(xlabel='catégories', ylabel='nombre de partage moyen')\n",
    "plt.show()"
   ]
  },
  {
   "cell_type": "code",
   "execution_count": null,
   "metadata": {},
   "outputs": [],
   "source": [
    "# on peut voir que les catégories réseaux sociaux, tech et lifestyle sont très partagées"
   ]
  },
  {
   "cell_type": "code",
   "execution_count": 67,
   "metadata": {
    "scrolled": true
   },
   "outputs": [
    {
     "data": {
      "image/png": "[encoded data removed]",
      "text/plain": [
       "<Figure size 936x360 with 1 Axes>"
      ]
     },
     "metadata": {
      "needs_background": "light"
     },
     "output_type": "display_data"
    }
   ],
   "source": [
    "# On peut définir 2 catégories d'articles (populaire/impopulaire)\n",
    "# Récupération des features du dataset (58 cols énumérés dans le OnlineNewsPopularity/OnlineNewsPopularity.names)\n",
    "features_raw = data.drop(['url',data.keys()[1],data.keys()[-1]], axis=1)\n",
    "\n",
    "# On définie un treshold de 1400 pour le nombre de share, ce qui nous permet de définir un article \"populaire\" ou non\n",
    "# Cette valeur n'a pas été défini par hasard et est donné par la description du dataset ici OnlineNewsPopularity/OnlineNewsPopularity.names\n",
    "unpop=data[data['shares']<1400]\n",
    "pop=data[data['shares']>=1400]\n",
    "\n",
    "columns_chan=features_raw.columns.values[11:17]\n",
    "unpop_chan = unpop[columns_chan].sum().values\n",
    "pop_chan = pop[columns_chan].sum().values\n",
    "fig = plt.figure(figsize = (13,5))\n",
    "plt.title(\"Nombre d'article populaire/impopulaire à travers différentes catégories\", fontsize = 16)\n",
    "plt.bar(np.arange(len(columns_chan)), pop_chan, width = 0.3, align=\"center\", color = 'r', \\\n",
    "          label = \"populaire\")\n",
    "plt.bar(np.arange(len(columns_chan)) - 0.3, unpop_chan, width = 0.3, align = \"center\", color = 'b', \\\n",
    "          label = \"impopulaire\")\n",
    "plt.xticks(np.arange(len(columns_chan)), columns_chan)\n",
    "\n",
    "plt.ylabel(\"Nombre d'article\", fontsize = 12)\n",
    "plt.xlabel(\"Catégories\", fontsize = 12)\n",
    "    \n",
    "plt.legend(loc = 'upper center')\n",
    "plt.tight_layout()\n",
    "plt.show()"
   ]
  },
  {
   "cell_type": "code",
   "execution_count": 72,
   "metadata": {},
   "outputs": [],
   "source": [
    "# on peut voir que les articles tech i reseaux sociaux sont très majoritairement populaire, alors que c'est le contraire pour\n",
    "# la catégorie world et entertainment"
   ]
  },
  {
   "cell_type": "markdown",
   "metadata": {},
   "source": [
    "##### Week day"
   ]
  },
  {
   "cell_type": "code",
   "execution_count": 59,
   "metadata": {
    "scrolled": false
   },
   "outputs": [
    {
     "data": {
      "image/png": "[encoded data removed]",
      "text/plain": [
       "<Figure size 720x504 with 1 Axes>"
      ]
     },
     "metadata": {
      "needs_background": "light"
     },
     "output_type": "display_data"
    }
   ],
   "source": [
    "# On va regarder quel est l'impacte des jours de la semaine sur la popularité (nombre moyen de partage) d'un article\n",
    "shares = []\n",
    "for d in ['weekday_is_monday', 'weekday_is_tuesday', 'weekday_is_wednesday','weekday_is_thursday', 'weekday_is_friday', 'weekday_is_saturday',\n",
    "       'weekday_is_sunday', 'is_weekend']:\n",
    "    shares.append(data[data[d]==1]['shares'].median())\n",
    "plt.figure(figsize=(10, 7))\n",
    "# control x and y limits\n",
    "sns.plt.ylim(0, 20)\n",
    "\n",
    "ax = sns.barplot(x= ['Lun','Mar','Mer','Jeu','Ven','Sam','Dim', \"weekend\"], y= shares)\n",
    "ax.set(xlabel='Jours de la semaine', ylabel='nombre de partage moyen')\n",
    "plt.show()"
   ]
  },
  {
   "cell_type": "code",
   "execution_count": 61,
   "metadata": {},
   "outputs": [],
   "source": [
    "# On peut voir grâce à ce plot que les articles parus le weekend sont, de manière générale, plus populaire que ceux parues\n",
    "# la semaine"
   ]
  },
  {
   "cell_type": "markdown",
   "metadata": {},
   "source": [
    "## Modélisation – prenez scikit-learnn essayez plusieurs algorithmes, changez les hyper paramètres, faites une grille de recherche, comparez les résultats de vos modèles dans des graphiques"
   ]
  },
  {
   "cell_type": "code",
   "execution_count": null,
   "metadata": {},
   "outputs": [],
   "source": []
  }
 ],
 "metadata": {
  "kernelspec": {
   "display_name": "Python 3",
   "language": "python",
   "name": "python3"
  },
  "language_info": {
   "codemirror_mode": {
    "name": "ipython",
    "version": 3
   },
   "file_extension": ".py",
   "mimetype": "text/x-python",
   "name": "python",
   "nbconvert_exporter": "python",
   "pygments_lexer": "ipython3",
   "version": "3.8.5"
  }
 },
 "nbformat": 4,
 "nbformat_minor": 4
}
