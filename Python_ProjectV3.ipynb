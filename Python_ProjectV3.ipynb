{
  "nbformat": 4,
  "nbformat_minor": 0,
  "metadata": {
    "colab": {
      "name": "Python_ProjectV3.ipynb",
      "provenance": [],
      "collapsed_sections": [
        "ICIzAWrRcaAG",
        "IY50GfIEcf_o",
        "4Y6ucbl9PNn0",
        "u68UtAwqQPiO",
        "Z--FHohncaAP",
        "cY4YNClLcaAR",
        "SPIUeBFicaAT",
        "r3q8ZRJN4JH1",
        "vqEdjWjReVRb",
        "GXr1MCwOfAFI",
        "wQKSHvqGkAhw",
        "3qW1h-nskGrv",
        "-3rFRtwskKWy",
        "8giI7pxo1HuC",
        "akMFXshGJWbC",
        "EPRdwzDJwqJY"
      ],
      "toc_visible": true
    },
    "kernelspec": {
      "display_name": "Python 3",
      "language": "python",
      "name": "python3"
    },
    "language_info": {
      "codemirror_mode": {
        "name": "ipython",
        "version": 3
      },
      "file_extension": ".py",
      "mimetype": "text/x-python",
      "name": "python",
      "nbconvert_exporter": "python",
      "pygments_lexer": "ipython3",
      "version": "3.8.5-final"
    }
  },
  "cells": [
    {
      "cell_type": "markdown",
      "metadata": {
        "id": "cAySprnjOC4D"
      },
      "source": [
        "# Python for data analysis project"
      ]
    },
    {
      "cell_type": "markdown",
      "metadata": {
        "id": "TrDXubWeOG9O"
      },
      "source": [
        "Contributors: Alexis JAMBUT - Gabriel FERNANDEZ CASA"
      ]
    },
    {
      "cell_type": "markdown",
      "metadata": {
        "id": "ICIzAWrRcaAG"
      },
      "source": [
        "## 1. Import"
      ]
    },
    {
      "cell_type": "code",
      "metadata": {
        "colab": {
          "base_uri": "https://localhost:8080/"
        },
        "id": "8CDjFkyjcaAM",
        "outputId": "ba126686-d5f8-4423-9839-23b38fe1381c"
      },
      "source": [
        "import numpy as np\n",
        "import pandas as pd\n",
        "import matplotlib.pyplot as plt\n",
        "from time import time\n",
        "from IPython.display import display\n",
        "import seaborn as sns\n",
        "!pip install catboost\n",
        "%matplotlib inline\n",
        "import numpy\n",
        "from catboost import CatBoostClassifier, Pool\n",
        "from sklearn.preprocessing import LabelEncoder\n",
        "from sklearn.model_selection import train_test_split\n"
      ],
      "execution_count": 65,
      "outputs": [
        {
          "output_type": "stream",
          "text": [
            "Requirement already satisfied: catboost in /usr/local/lib/python3.6/dist-packages (0.24.4)\n",
            "Requirement already satisfied: six in /usr/local/lib/python3.6/dist-packages (from catboost) (1.15.0)\n",
            "Requirement already satisfied: numpy>=1.16.0 in /usr/local/lib/python3.6/dist-packages (from catboost) (1.19.4)\n",
            "Requirement already satisfied: plotly in /usr/local/lib/python3.6/dist-packages (from catboost) (4.4.1)\n",
            "Requirement already satisfied: graphviz in /usr/local/lib/python3.6/dist-packages (from catboost) (0.10.1)\n",
            "Requirement already satisfied: matplotlib in /usr/local/lib/python3.6/dist-packages (from catboost) (3.2.2)\n",
            "Requirement already satisfied: scipy in /usr/local/lib/python3.6/dist-packages (from catboost) (1.4.1)\n",
            "Requirement already satisfied: pandas>=0.24.0 in /usr/local/lib/python3.6/dist-packages (from catboost) (1.1.5)\n",
            "Requirement already satisfied: retrying>=1.3.3 in /usr/local/lib/python3.6/dist-packages (from plotly->catboost) (1.3.3)\n",
            "Requirement already satisfied: pyparsing!=2.0.4,!=2.1.2,!=2.1.6,>=2.0.1 in /usr/local/lib/python3.6/dist-packages (from matplotlib->catboost) (2.4.7)\n",
            "Requirement already satisfied: kiwisolver>=1.0.1 in /usr/local/lib/python3.6/dist-packages (from matplotlib->catboost) (1.3.1)\n",
            "Requirement already satisfied: python-dateutil>=2.1 in /usr/local/lib/python3.6/dist-packages (from matplotlib->catboost) (2.8.1)\n",
            "Requirement already satisfied: cycler>=0.10 in /usr/local/lib/python3.6/dist-packages (from matplotlib->catboost) (0.10.0)\n",
            "Requirement already satisfied: pytz>=2017.2 in /usr/local/lib/python3.6/dist-packages (from pandas>=0.24.0->catboost) (2018.9)\n"
          ],
          "name": "stdout"
        }
      ]
    },
    {
      "cell_type": "markdown",
      "metadata": {
        "id": "IY50GfIEcf_o"
      },
      "source": [
        "##2. Read CSV"
      ]
    },
    {
      "cell_type": "code",
      "metadata": {
        "colab": {
          "base_uri": "https://localhost:8080/"
        },
        "id": "p7ImmSnScdvG",
        "outputId": "be1a68ca-cac5-42ad-9e18-e6a672665518"
      },
      "source": [
        "# chargement du dataset\r\n",
        "onlineNewsPopularity_df = pd.read_csv(\"OnlineNewsPopularity/OnlineNewsPopularity.csv\")\r\n",
        "onlineNewsPopularity_df.info()\r\n",
        "# On peut voir que notre dataset possède 39644 news repertoriées ainsi que 61 colonnes (dont 58 features et une target)\r\n",
        "# Les colonnes sont toutes de type float sauf la colonne url (string) et les shares (int)"
      ],
      "execution_count": 120,
      "outputs": [
        {
          "output_type": "stream",
          "text": [
            "<class 'pandas.core.frame.DataFrame'>\n",
            "RangeIndex: 39644 entries, 0 to 39643\n",
            "Data columns (total 61 columns):\n",
            " #   Column                          Non-Null Count  Dtype  \n",
            "---  ------                          --------------  -----  \n",
            " 0   url                             39644 non-null  object \n",
            " 1    timedelta                      39644 non-null  float64\n",
            " 2    n_tokens_title                 39644 non-null  float64\n",
            " 3    n_tokens_content               39644 non-null  float64\n",
            " 4    n_unique_tokens                39644 non-null  float64\n",
            " 5    n_non_stop_words               39644 non-null  float64\n",
            " 6    n_non_stop_unique_tokens       39644 non-null  float64\n",
            " 7    num_hrefs                      39644 non-null  float64\n",
            " 8    num_self_hrefs                 39644 non-null  float64\n",
            " 9    num_imgs                       39644 non-null  float64\n",
            " 10   num_videos                     39644 non-null  float64\n",
            " 11   average_token_length           39644 non-null  float64\n",
            " 12   num_keywords                   39644 non-null  float64\n",
            " 13   data_channel_is_lifestyle      39644 non-null  float64\n",
            " 14   data_channel_is_entertainment  39644 non-null  float64\n",
            " 15   data_channel_is_bus            39644 non-null  float64\n",
            " 16   data_channel_is_socmed         39644 non-null  float64\n",
            " 17   data_channel_is_tech           39644 non-null  float64\n",
            " 18   data_channel_is_world          39644 non-null  float64\n",
            " 19   kw_min_min                     39644 non-null  float64\n",
            " 20   kw_max_min                     39644 non-null  float64\n",
            " 21   kw_avg_min                     39644 non-null  float64\n",
            " 22   kw_min_max                     39644 non-null  float64\n",
            " 23   kw_max_max                     39644 non-null  float64\n",
            " 24   kw_avg_max                     39644 non-null  float64\n",
            " 25   kw_min_avg                     39644 non-null  float64\n",
            " 26   kw_max_avg                     39644 non-null  float64\n",
            " 27   kw_avg_avg                     39644 non-null  float64\n",
            " 28   self_reference_min_shares      39644 non-null  float64\n",
            " 29   self_reference_max_shares      39644 non-null  float64\n",
            " 30   self_reference_avg_sharess     39644 non-null  float64\n",
            " 31   weekday_is_monday              39644 non-null  float64\n",
            " 32   weekday_is_tuesday             39644 non-null  float64\n",
            " 33   weekday_is_wednesday           39644 non-null  float64\n",
            " 34   weekday_is_thursday            39644 non-null  float64\n",
            " 35   weekday_is_friday              39644 non-null  float64\n",
            " 36   weekday_is_saturday            39644 non-null  float64\n",
            " 37   weekday_is_sunday              39644 non-null  float64\n",
            " 38   is_weekend                     39644 non-null  float64\n",
            " 39   LDA_00                         39644 non-null  float64\n",
            " 40   LDA_01                         39644 non-null  float64\n",
            " 41   LDA_02                         39644 non-null  float64\n",
            " 42   LDA_03                         39644 non-null  float64\n",
            " 43   LDA_04                         39644 non-null  float64\n",
            " 44   global_subjectivity            39644 non-null  float64\n",
            " 45   global_sentiment_polarity      39644 non-null  float64\n",
            " 46   global_rate_positive_words     39644 non-null  float64\n",
            " 47   global_rate_negative_words     39644 non-null  float64\n",
            " 48   rate_positive_words            39644 non-null  float64\n",
            " 49   rate_negative_words            39644 non-null  float64\n",
            " 50   avg_positive_polarity          39644 non-null  float64\n",
            " 51   min_positive_polarity          39644 non-null  float64\n",
            " 52   max_positive_polarity          39644 non-null  float64\n",
            " 53   avg_negative_polarity          39644 non-null  float64\n",
            " 54   min_negative_polarity          39644 non-null  float64\n",
            " 55   max_negative_polarity          39644 non-null  float64\n",
            " 56   title_subjectivity             39644 non-null  float64\n",
            " 57   title_sentiment_polarity       39644 non-null  float64\n",
            " 58   abs_title_subjectivity         39644 non-null  float64\n",
            " 59   abs_title_sentiment_polarity   39644 non-null  float64\n",
            " 60   shares                         39644 non-null  int64  \n",
            "dtypes: float64(59), int64(1), object(1)\n",
            "memory usage: 18.5+ MB\n"
          ],
          "name": "stdout"
        }
      ]
    },
    {
      "cell_type": "code",
      "metadata": {
        "colab": {
          "base_uri": "https://localhost:8080/",
          "height": 0
        },
        "id": "lIBUAtg8d6wC",
        "outputId": "2270cc19-2a04-451f-df7f-53cd6d77725a"
      },
      "source": [
        "# Nous nous sommes rendu compte qu'il y avait des espaces devant les noms de colonne (par exemple \"dataset[' shares']\")\r\n",
        "# Afin que cela soit plus pratique à l'utilisation, nous avons décidé de retirer tous les espaces au début des colonnes\r\n",
        "for col in onlineNewsPopularity_df.columns: \r\n",
        "    if col[0]==\" \":\r\n",
        "        onlineNewsPopularity_df.rename(columns={col:col[1:]}, inplace = True)\r\n",
        "onlineNewsPopularity_df.head()"
      ],
      "execution_count": 121,
      "outputs": [
        {
          "output_type": "execute_result",
          "data": {
            "text/html": [
              "<div>\n",
              "<style scoped>\n",
              "    .dataframe tbody tr th:only-of-type {\n",
              "        vertical-align: middle;\n",
              "    }\n",
              "\n",
              "    .dataframe tbody tr th {\n",
              "        vertical-align: top;\n",
              "    }\n",
              "\n",
              "    .dataframe thead th {\n",
              "        text-align: right;\n",
              "    }\n",
              "</style>\n",
              "<table border=\"1\" class=\"dataframe\">\n",
              "  <thead>\n",
              "    <tr style=\"text-align: right;\">\n",
              "      <th></th>\n",
              "      <th>url</th>\n",
              "      <th>timedelta</th>\n",
              "      <th>n_tokens_title</th>\n",
              "      <th>n_tokens_content</th>\n",
              "      <th>n_unique_tokens</th>\n",
              "      <th>n_non_stop_words</th>\n",
              "      <th>n_non_stop_unique_tokens</th>\n",
              "      <th>num_hrefs</th>\n",
              "      <th>num_self_hrefs</th>\n",
              "      <th>num_imgs</th>\n",
              "      <th>num_videos</th>\n",
              "      <th>average_token_length</th>\n",
              "      <th>num_keywords</th>\n",
              "      <th>data_channel_is_lifestyle</th>\n",
              "      <th>data_channel_is_entertainment</th>\n",
              "      <th>data_channel_is_bus</th>\n",
              "      <th>data_channel_is_socmed</th>\n",
              "      <th>data_channel_is_tech</th>\n",
              "      <th>data_channel_is_world</th>\n",
              "      <th>kw_min_min</th>\n",
              "      <th>kw_max_min</th>\n",
              "      <th>kw_avg_min</th>\n",
              "      <th>kw_min_max</th>\n",
              "      <th>kw_max_max</th>\n",
              "      <th>kw_avg_max</th>\n",
              "      <th>kw_min_avg</th>\n",
              "      <th>kw_max_avg</th>\n",
              "      <th>kw_avg_avg</th>\n",
              "      <th>self_reference_min_shares</th>\n",
              "      <th>self_reference_max_shares</th>\n",
              "      <th>self_reference_avg_sharess</th>\n",
              "      <th>weekday_is_monday</th>\n",
              "      <th>weekday_is_tuesday</th>\n",
              "      <th>weekday_is_wednesday</th>\n",
              "      <th>weekday_is_thursday</th>\n",
              "      <th>weekday_is_friday</th>\n",
              "      <th>weekday_is_saturday</th>\n",
              "      <th>weekday_is_sunday</th>\n",
              "      <th>is_weekend</th>\n",
              "      <th>LDA_00</th>\n",
              "      <th>LDA_01</th>\n",
              "      <th>LDA_02</th>\n",
              "      <th>LDA_03</th>\n",
              "      <th>LDA_04</th>\n",
              "      <th>global_subjectivity</th>\n",
              "      <th>global_sentiment_polarity</th>\n",
              "      <th>global_rate_positive_words</th>\n",
              "      <th>global_rate_negative_words</th>\n",
              "      <th>rate_positive_words</th>\n",
              "      <th>rate_negative_words</th>\n",
              "      <th>avg_positive_polarity</th>\n",
              "      <th>min_positive_polarity</th>\n",
              "      <th>max_positive_polarity</th>\n",
              "      <th>avg_negative_polarity</th>\n",
              "      <th>min_negative_polarity</th>\n",
              "      <th>max_negative_polarity</th>\n",
              "      <th>title_subjectivity</th>\n",
              "      <th>title_sentiment_polarity</th>\n",
              "      <th>abs_title_subjectivity</th>\n",
              "      <th>abs_title_sentiment_polarity</th>\n",
              "      <th>shares</th>\n",
              "    </tr>\n",
              "  </thead>\n",
              "  <tbody>\n",
              "    <tr>\n",
              "      <th>0</th>\n",
              "      <td>http://mashable.com/2013/01/07/amazon-instant-...</td>\n",
              "      <td>731.0</td>\n",
              "      <td>12.0</td>\n",
              "      <td>219.0</td>\n",
              "      <td>0.663594</td>\n",
              "      <td>1.0</td>\n",
              "      <td>0.815385</td>\n",
              "      <td>4.0</td>\n",
              "      <td>2.0</td>\n",
              "      <td>1.0</td>\n",
              "      <td>0.0</td>\n",
              "      <td>4.680365</td>\n",
              "      <td>5.0</td>\n",
              "      <td>0.0</td>\n",
              "      <td>1.0</td>\n",
              "      <td>0.0</td>\n",
              "      <td>0.0</td>\n",
              "      <td>0.0</td>\n",
              "      <td>0.0</td>\n",
              "      <td>0.0</td>\n",
              "      <td>0.0</td>\n",
              "      <td>0.0</td>\n",
              "      <td>0.0</td>\n",
              "      <td>0.0</td>\n",
              "      <td>0.0</td>\n",
              "      <td>0.0</td>\n",
              "      <td>0.0</td>\n",
              "      <td>0.0</td>\n",
              "      <td>496.0</td>\n",
              "      <td>496.0</td>\n",
              "      <td>496.000000</td>\n",
              "      <td>1.0</td>\n",
              "      <td>0.0</td>\n",
              "      <td>0.0</td>\n",
              "      <td>0.0</td>\n",
              "      <td>0.0</td>\n",
              "      <td>0.0</td>\n",
              "      <td>0.0</td>\n",
              "      <td>0.0</td>\n",
              "      <td>0.500331</td>\n",
              "      <td>0.378279</td>\n",
              "      <td>0.040005</td>\n",
              "      <td>0.041263</td>\n",
              "      <td>0.040123</td>\n",
              "      <td>0.521617</td>\n",
              "      <td>0.092562</td>\n",
              "      <td>0.045662</td>\n",
              "      <td>0.013699</td>\n",
              "      <td>0.769231</td>\n",
              "      <td>0.230769</td>\n",
              "      <td>0.378636</td>\n",
              "      <td>0.100000</td>\n",
              "      <td>0.7</td>\n",
              "      <td>-0.350000</td>\n",
              "      <td>-0.600</td>\n",
              "      <td>-0.200000</td>\n",
              "      <td>0.500000</td>\n",
              "      <td>-0.187500</td>\n",
              "      <td>0.000000</td>\n",
              "      <td>0.187500</td>\n",
              "      <td>593</td>\n",
              "    </tr>\n",
              "    <tr>\n",
              "      <th>1</th>\n",
              "      <td>http://mashable.com/2013/01/07/ap-samsung-spon...</td>\n",
              "      <td>731.0</td>\n",
              "      <td>9.0</td>\n",
              "      <td>255.0</td>\n",
              "      <td>0.604743</td>\n",
              "      <td>1.0</td>\n",
              "      <td>0.791946</td>\n",
              "      <td>3.0</td>\n",
              "      <td>1.0</td>\n",
              "      <td>1.0</td>\n",
              "      <td>0.0</td>\n",
              "      <td>4.913725</td>\n",
              "      <td>4.0</td>\n",
              "      <td>0.0</td>\n",
              "      <td>0.0</td>\n",
              "      <td>1.0</td>\n",
              "      <td>0.0</td>\n",
              "      <td>0.0</td>\n",
              "      <td>0.0</td>\n",
              "      <td>0.0</td>\n",
              "      <td>0.0</td>\n",
              "      <td>0.0</td>\n",
              "      <td>0.0</td>\n",
              "      <td>0.0</td>\n",
              "      <td>0.0</td>\n",
              "      <td>0.0</td>\n",
              "      <td>0.0</td>\n",
              "      <td>0.0</td>\n",
              "      <td>0.0</td>\n",
              "      <td>0.0</td>\n",
              "      <td>0.000000</td>\n",
              "      <td>1.0</td>\n",
              "      <td>0.0</td>\n",
              "      <td>0.0</td>\n",
              "      <td>0.0</td>\n",
              "      <td>0.0</td>\n",
              "      <td>0.0</td>\n",
              "      <td>0.0</td>\n",
              "      <td>0.0</td>\n",
              "      <td>0.799756</td>\n",
              "      <td>0.050047</td>\n",
              "      <td>0.050096</td>\n",
              "      <td>0.050101</td>\n",
              "      <td>0.050001</td>\n",
              "      <td>0.341246</td>\n",
              "      <td>0.148948</td>\n",
              "      <td>0.043137</td>\n",
              "      <td>0.015686</td>\n",
              "      <td>0.733333</td>\n",
              "      <td>0.266667</td>\n",
              "      <td>0.286915</td>\n",
              "      <td>0.033333</td>\n",
              "      <td>0.7</td>\n",
              "      <td>-0.118750</td>\n",
              "      <td>-0.125</td>\n",
              "      <td>-0.100000</td>\n",
              "      <td>0.000000</td>\n",
              "      <td>0.000000</td>\n",
              "      <td>0.500000</td>\n",
              "      <td>0.000000</td>\n",
              "      <td>711</td>\n",
              "    </tr>\n",
              "    <tr>\n",
              "      <th>2</th>\n",
              "      <td>http://mashable.com/2013/01/07/apple-40-billio...</td>\n",
              "      <td>731.0</td>\n",
              "      <td>9.0</td>\n",
              "      <td>211.0</td>\n",
              "      <td>0.575130</td>\n",
              "      <td>1.0</td>\n",
              "      <td>0.663866</td>\n",
              "      <td>3.0</td>\n",
              "      <td>1.0</td>\n",
              "      <td>1.0</td>\n",
              "      <td>0.0</td>\n",
              "      <td>4.393365</td>\n",
              "      <td>6.0</td>\n",
              "      <td>0.0</td>\n",
              "      <td>0.0</td>\n",
              "      <td>1.0</td>\n",
              "      <td>0.0</td>\n",
              "      <td>0.0</td>\n",
              "      <td>0.0</td>\n",
              "      <td>0.0</td>\n",
              "      <td>0.0</td>\n",
              "      <td>0.0</td>\n",
              "      <td>0.0</td>\n",
              "      <td>0.0</td>\n",
              "      <td>0.0</td>\n",
              "      <td>0.0</td>\n",
              "      <td>0.0</td>\n",
              "      <td>0.0</td>\n",
              "      <td>918.0</td>\n",
              "      <td>918.0</td>\n",
              "      <td>918.000000</td>\n",
              "      <td>1.0</td>\n",
              "      <td>0.0</td>\n",
              "      <td>0.0</td>\n",
              "      <td>0.0</td>\n",
              "      <td>0.0</td>\n",
              "      <td>0.0</td>\n",
              "      <td>0.0</td>\n",
              "      <td>0.0</td>\n",
              "      <td>0.217792</td>\n",
              "      <td>0.033334</td>\n",
              "      <td>0.033351</td>\n",
              "      <td>0.033334</td>\n",
              "      <td>0.682188</td>\n",
              "      <td>0.702222</td>\n",
              "      <td>0.323333</td>\n",
              "      <td>0.056872</td>\n",
              "      <td>0.009479</td>\n",
              "      <td>0.857143</td>\n",
              "      <td>0.142857</td>\n",
              "      <td>0.495833</td>\n",
              "      <td>0.100000</td>\n",
              "      <td>1.0</td>\n",
              "      <td>-0.466667</td>\n",
              "      <td>-0.800</td>\n",
              "      <td>-0.133333</td>\n",
              "      <td>0.000000</td>\n",
              "      <td>0.000000</td>\n",
              "      <td>0.500000</td>\n",
              "      <td>0.000000</td>\n",
              "      <td>1500</td>\n",
              "    </tr>\n",
              "    <tr>\n",
              "      <th>3</th>\n",
              "      <td>http://mashable.com/2013/01/07/astronaut-notre...</td>\n",
              "      <td>731.0</td>\n",
              "      <td>9.0</td>\n",
              "      <td>531.0</td>\n",
              "      <td>0.503788</td>\n",
              "      <td>1.0</td>\n",
              "      <td>0.665635</td>\n",
              "      <td>9.0</td>\n",
              "      <td>0.0</td>\n",
              "      <td>1.0</td>\n",
              "      <td>0.0</td>\n",
              "      <td>4.404896</td>\n",
              "      <td>7.0</td>\n",
              "      <td>0.0</td>\n",
              "      <td>1.0</td>\n",
              "      <td>0.0</td>\n",
              "      <td>0.0</td>\n",
              "      <td>0.0</td>\n",
              "      <td>0.0</td>\n",
              "      <td>0.0</td>\n",
              "      <td>0.0</td>\n",
              "      <td>0.0</td>\n",
              "      <td>0.0</td>\n",
              "      <td>0.0</td>\n",
              "      <td>0.0</td>\n",
              "      <td>0.0</td>\n",
              "      <td>0.0</td>\n",
              "      <td>0.0</td>\n",
              "      <td>0.0</td>\n",
              "      <td>0.0</td>\n",
              "      <td>0.000000</td>\n",
              "      <td>1.0</td>\n",
              "      <td>0.0</td>\n",
              "      <td>0.0</td>\n",
              "      <td>0.0</td>\n",
              "      <td>0.0</td>\n",
              "      <td>0.0</td>\n",
              "      <td>0.0</td>\n",
              "      <td>0.0</td>\n",
              "      <td>0.028573</td>\n",
              "      <td>0.419300</td>\n",
              "      <td>0.494651</td>\n",
              "      <td>0.028905</td>\n",
              "      <td>0.028572</td>\n",
              "      <td>0.429850</td>\n",
              "      <td>0.100705</td>\n",
              "      <td>0.041431</td>\n",
              "      <td>0.020716</td>\n",
              "      <td>0.666667</td>\n",
              "      <td>0.333333</td>\n",
              "      <td>0.385965</td>\n",
              "      <td>0.136364</td>\n",
              "      <td>0.8</td>\n",
              "      <td>-0.369697</td>\n",
              "      <td>-0.600</td>\n",
              "      <td>-0.166667</td>\n",
              "      <td>0.000000</td>\n",
              "      <td>0.000000</td>\n",
              "      <td>0.500000</td>\n",
              "      <td>0.000000</td>\n",
              "      <td>1200</td>\n",
              "    </tr>\n",
              "    <tr>\n",
              "      <th>4</th>\n",
              "      <td>http://mashable.com/2013/01/07/att-u-verse-apps/</td>\n",
              "      <td>731.0</td>\n",
              "      <td>13.0</td>\n",
              "      <td>1072.0</td>\n",
              "      <td>0.415646</td>\n",
              "      <td>1.0</td>\n",
              "      <td>0.540890</td>\n",
              "      <td>19.0</td>\n",
              "      <td>19.0</td>\n",
              "      <td>20.0</td>\n",
              "      <td>0.0</td>\n",
              "      <td>4.682836</td>\n",
              "      <td>7.0</td>\n",
              "      <td>0.0</td>\n",
              "      <td>0.0</td>\n",
              "      <td>0.0</td>\n",
              "      <td>0.0</td>\n",
              "      <td>1.0</td>\n",
              "      <td>0.0</td>\n",
              "      <td>0.0</td>\n",
              "      <td>0.0</td>\n",
              "      <td>0.0</td>\n",
              "      <td>0.0</td>\n",
              "      <td>0.0</td>\n",
              "      <td>0.0</td>\n",
              "      <td>0.0</td>\n",
              "      <td>0.0</td>\n",
              "      <td>0.0</td>\n",
              "      <td>545.0</td>\n",
              "      <td>16000.0</td>\n",
              "      <td>3151.157895</td>\n",
              "      <td>1.0</td>\n",
              "      <td>0.0</td>\n",
              "      <td>0.0</td>\n",
              "      <td>0.0</td>\n",
              "      <td>0.0</td>\n",
              "      <td>0.0</td>\n",
              "      <td>0.0</td>\n",
              "      <td>0.0</td>\n",
              "      <td>0.028633</td>\n",
              "      <td>0.028794</td>\n",
              "      <td>0.028575</td>\n",
              "      <td>0.028572</td>\n",
              "      <td>0.885427</td>\n",
              "      <td>0.513502</td>\n",
              "      <td>0.281003</td>\n",
              "      <td>0.074627</td>\n",
              "      <td>0.012127</td>\n",
              "      <td>0.860215</td>\n",
              "      <td>0.139785</td>\n",
              "      <td>0.411127</td>\n",
              "      <td>0.033333</td>\n",
              "      <td>1.0</td>\n",
              "      <td>-0.220192</td>\n",
              "      <td>-0.500</td>\n",
              "      <td>-0.050000</td>\n",
              "      <td>0.454545</td>\n",
              "      <td>0.136364</td>\n",
              "      <td>0.045455</td>\n",
              "      <td>0.136364</td>\n",
              "      <td>505</td>\n",
              "    </tr>\n",
              "  </tbody>\n",
              "</table>\n",
              "</div>"
            ],
            "text/plain": [
              "                                                 url  ...  shares\n",
              "0  http://mashable.com/2013/01/07/amazon-instant-...  ...     593\n",
              "1  http://mashable.com/2013/01/07/ap-samsung-spon...  ...     711\n",
              "2  http://mashable.com/2013/01/07/apple-40-billio...  ...    1500\n",
              "3  http://mashable.com/2013/01/07/astronaut-notre...  ...    1200\n",
              "4   http://mashable.com/2013/01/07/att-u-verse-apps/  ...     505\n",
              "\n",
              "[5 rows x 61 columns]"
            ]
          },
          "metadata": {
            "tags": []
          },
          "execution_count": 121
        }
      ]
    },
    {
      "cell_type": "code",
      "metadata": {
        "colab": {
          "base_uri": "https://localhost:8080/",
          "height": 0
        },
        "id": "dandGxwJlkIy",
        "outputId": "9ac8edf4-5518-43a0-bb92-7dc4088a1eab"
      },
      "source": [
        "# Récupération des features du dataset (58 cols énumérés dans le OnlineNewsPopularity/OnlineNewsPopularity.names et de la target)\r\n",
        "# Ainsi nous supprimons l'url de la news et egalement le timedelta qui correspond au nombre de jour entre\r\n",
        "# la creation du dataset et la publication de l'article\r\n",
        "# En fait, la description du dataset explique que ces deux variables sont des features \"non-predictive\"\r\n",
        "onlineNewsPopularity_df.drop(labels=['url', 'timedelta'], axis = 1, inplace=True)\r\n",
        "onlineNewsPopularity_df.head()"
      ],
      "execution_count": 122,
      "outputs": [
        {
          "output_type": "execute_result",
          "data": {
            "text/html": [
              "<div>\n",
              "<style scoped>\n",
              "    .dataframe tbody tr th:only-of-type {\n",
              "        vertical-align: middle;\n",
              "    }\n",
              "\n",
              "    .dataframe tbody tr th {\n",
              "        vertical-align: top;\n",
              "    }\n",
              "\n",
              "    .dataframe thead th {\n",
              "        text-align: right;\n",
              "    }\n",
              "</style>\n",
              "<table border=\"1\" class=\"dataframe\">\n",
              "  <thead>\n",
              "    <tr style=\"text-align: right;\">\n",
              "      <th></th>\n",
              "      <th>n_tokens_title</th>\n",
              "      <th>n_tokens_content</th>\n",
              "      <th>n_unique_tokens</th>\n",
              "      <th>n_non_stop_words</th>\n",
              "      <th>n_non_stop_unique_tokens</th>\n",
              "      <th>num_hrefs</th>\n",
              "      <th>num_self_hrefs</th>\n",
              "      <th>num_imgs</th>\n",
              "      <th>num_videos</th>\n",
              "      <th>average_token_length</th>\n",
              "      <th>num_keywords</th>\n",
              "      <th>data_channel_is_lifestyle</th>\n",
              "      <th>data_channel_is_entertainment</th>\n",
              "      <th>data_channel_is_bus</th>\n",
              "      <th>data_channel_is_socmed</th>\n",
              "      <th>data_channel_is_tech</th>\n",
              "      <th>data_channel_is_world</th>\n",
              "      <th>kw_min_min</th>\n",
              "      <th>kw_max_min</th>\n",
              "      <th>kw_avg_min</th>\n",
              "      <th>kw_min_max</th>\n",
              "      <th>kw_max_max</th>\n",
              "      <th>kw_avg_max</th>\n",
              "      <th>kw_min_avg</th>\n",
              "      <th>kw_max_avg</th>\n",
              "      <th>kw_avg_avg</th>\n",
              "      <th>self_reference_min_shares</th>\n",
              "      <th>self_reference_max_shares</th>\n",
              "      <th>self_reference_avg_sharess</th>\n",
              "      <th>weekday_is_monday</th>\n",
              "      <th>weekday_is_tuesday</th>\n",
              "      <th>weekday_is_wednesday</th>\n",
              "      <th>weekday_is_thursday</th>\n",
              "      <th>weekday_is_friday</th>\n",
              "      <th>weekday_is_saturday</th>\n",
              "      <th>weekday_is_sunday</th>\n",
              "      <th>is_weekend</th>\n",
              "      <th>LDA_00</th>\n",
              "      <th>LDA_01</th>\n",
              "      <th>LDA_02</th>\n",
              "      <th>LDA_03</th>\n",
              "      <th>LDA_04</th>\n",
              "      <th>global_subjectivity</th>\n",
              "      <th>global_sentiment_polarity</th>\n",
              "      <th>global_rate_positive_words</th>\n",
              "      <th>global_rate_negative_words</th>\n",
              "      <th>rate_positive_words</th>\n",
              "      <th>rate_negative_words</th>\n",
              "      <th>avg_positive_polarity</th>\n",
              "      <th>min_positive_polarity</th>\n",
              "      <th>max_positive_polarity</th>\n",
              "      <th>avg_negative_polarity</th>\n",
              "      <th>min_negative_polarity</th>\n",
              "      <th>max_negative_polarity</th>\n",
              "      <th>title_subjectivity</th>\n",
              "      <th>title_sentiment_polarity</th>\n",
              "      <th>abs_title_subjectivity</th>\n",
              "      <th>abs_title_sentiment_polarity</th>\n",
              "      <th>shares</th>\n",
              "    </tr>\n",
              "  </thead>\n",
              "  <tbody>\n",
              "    <tr>\n",
              "      <th>0</th>\n",
              "      <td>12.0</td>\n",
              "      <td>219.0</td>\n",
              "      <td>0.663594</td>\n",
              "      <td>1.0</td>\n",
              "      <td>0.815385</td>\n",
              "      <td>4.0</td>\n",
              "      <td>2.0</td>\n",
              "      <td>1.0</td>\n",
              "      <td>0.0</td>\n",
              "      <td>4.680365</td>\n",
              "      <td>5.0</td>\n",
              "      <td>0.0</td>\n",
              "      <td>1.0</td>\n",
              "      <td>0.0</td>\n",
              "      <td>0.0</td>\n",
              "      <td>0.0</td>\n",
              "      <td>0.0</td>\n",
              "      <td>0.0</td>\n",
              "      <td>0.0</td>\n",
              "      <td>0.0</td>\n",
              "      <td>0.0</td>\n",
              "      <td>0.0</td>\n",
              "      <td>0.0</td>\n",
              "      <td>0.0</td>\n",
              "      <td>0.0</td>\n",
              "      <td>0.0</td>\n",
              "      <td>496.0</td>\n",
              "      <td>496.0</td>\n",
              "      <td>496.000000</td>\n",
              "      <td>1.0</td>\n",
              "      <td>0.0</td>\n",
              "      <td>0.0</td>\n",
              "      <td>0.0</td>\n",
              "      <td>0.0</td>\n",
              "      <td>0.0</td>\n",
              "      <td>0.0</td>\n",
              "      <td>0.0</td>\n",
              "      <td>0.500331</td>\n",
              "      <td>0.378279</td>\n",
              "      <td>0.040005</td>\n",
              "      <td>0.041263</td>\n",
              "      <td>0.040123</td>\n",
              "      <td>0.521617</td>\n",
              "      <td>0.092562</td>\n",
              "      <td>0.045662</td>\n",
              "      <td>0.013699</td>\n",
              "      <td>0.769231</td>\n",
              "      <td>0.230769</td>\n",
              "      <td>0.378636</td>\n",
              "      <td>0.100000</td>\n",
              "      <td>0.7</td>\n",
              "      <td>-0.350000</td>\n",
              "      <td>-0.600</td>\n",
              "      <td>-0.200000</td>\n",
              "      <td>0.500000</td>\n",
              "      <td>-0.187500</td>\n",
              "      <td>0.000000</td>\n",
              "      <td>0.187500</td>\n",
              "      <td>593</td>\n",
              "    </tr>\n",
              "    <tr>\n",
              "      <th>1</th>\n",
              "      <td>9.0</td>\n",
              "      <td>255.0</td>\n",
              "      <td>0.604743</td>\n",
              "      <td>1.0</td>\n",
              "      <td>0.791946</td>\n",
              "      <td>3.0</td>\n",
              "      <td>1.0</td>\n",
              "      <td>1.0</td>\n",
              "      <td>0.0</td>\n",
              "      <td>4.913725</td>\n",
              "      <td>4.0</td>\n",
              "      <td>0.0</td>\n",
              "      <td>0.0</td>\n",
              "      <td>1.0</td>\n",
              "      <td>0.0</td>\n",
              "      <td>0.0</td>\n",
              "      <td>0.0</td>\n",
              "      <td>0.0</td>\n",
              "      <td>0.0</td>\n",
              "      <td>0.0</td>\n",
              "      <td>0.0</td>\n",
              "      <td>0.0</td>\n",
              "      <td>0.0</td>\n",
              "      <td>0.0</td>\n",
              "      <td>0.0</td>\n",
              "      <td>0.0</td>\n",
              "      <td>0.0</td>\n",
              "      <td>0.0</td>\n",
              "      <td>0.000000</td>\n",
              "      <td>1.0</td>\n",
              "      <td>0.0</td>\n",
              "      <td>0.0</td>\n",
              "      <td>0.0</td>\n",
              "      <td>0.0</td>\n",
              "      <td>0.0</td>\n",
              "      <td>0.0</td>\n",
              "      <td>0.0</td>\n",
              "      <td>0.799756</td>\n",
              "      <td>0.050047</td>\n",
              "      <td>0.050096</td>\n",
              "      <td>0.050101</td>\n",
              "      <td>0.050001</td>\n",
              "      <td>0.341246</td>\n",
              "      <td>0.148948</td>\n",
              "      <td>0.043137</td>\n",
              "      <td>0.015686</td>\n",
              "      <td>0.733333</td>\n",
              "      <td>0.266667</td>\n",
              "      <td>0.286915</td>\n",
              "      <td>0.033333</td>\n",
              "      <td>0.7</td>\n",
              "      <td>-0.118750</td>\n",
              "      <td>-0.125</td>\n",
              "      <td>-0.100000</td>\n",
              "      <td>0.000000</td>\n",
              "      <td>0.000000</td>\n",
              "      <td>0.500000</td>\n",
              "      <td>0.000000</td>\n",
              "      <td>711</td>\n",
              "    </tr>\n",
              "    <tr>\n",
              "      <th>2</th>\n",
              "      <td>9.0</td>\n",
              "      <td>211.0</td>\n",
              "      <td>0.575130</td>\n",
              "      <td>1.0</td>\n",
              "      <td>0.663866</td>\n",
              "      <td>3.0</td>\n",
              "      <td>1.0</td>\n",
              "      <td>1.0</td>\n",
              "      <td>0.0</td>\n",
              "      <td>4.393365</td>\n",
              "      <td>6.0</td>\n",
              "      <td>0.0</td>\n",
              "      <td>0.0</td>\n",
              "      <td>1.0</td>\n",
              "      <td>0.0</td>\n",
              "      <td>0.0</td>\n",
              "      <td>0.0</td>\n",
              "      <td>0.0</td>\n",
              "      <td>0.0</td>\n",
              "      <td>0.0</td>\n",
              "      <td>0.0</td>\n",
              "      <td>0.0</td>\n",
              "      <td>0.0</td>\n",
              "      <td>0.0</td>\n",
              "      <td>0.0</td>\n",
              "      <td>0.0</td>\n",
              "      <td>918.0</td>\n",
              "      <td>918.0</td>\n",
              "      <td>918.000000</td>\n",
              "      <td>1.0</td>\n",
              "      <td>0.0</td>\n",
              "      <td>0.0</td>\n",
              "      <td>0.0</td>\n",
              "      <td>0.0</td>\n",
              "      <td>0.0</td>\n",
              "      <td>0.0</td>\n",
              "      <td>0.0</td>\n",
              "      <td>0.217792</td>\n",
              "      <td>0.033334</td>\n",
              "      <td>0.033351</td>\n",
              "      <td>0.033334</td>\n",
              "      <td>0.682188</td>\n",
              "      <td>0.702222</td>\n",
              "      <td>0.323333</td>\n",
              "      <td>0.056872</td>\n",
              "      <td>0.009479</td>\n",
              "      <td>0.857143</td>\n",
              "      <td>0.142857</td>\n",
              "      <td>0.495833</td>\n",
              "      <td>0.100000</td>\n",
              "      <td>1.0</td>\n",
              "      <td>-0.466667</td>\n",
              "      <td>-0.800</td>\n",
              "      <td>-0.133333</td>\n",
              "      <td>0.000000</td>\n",
              "      <td>0.000000</td>\n",
              "      <td>0.500000</td>\n",
              "      <td>0.000000</td>\n",
              "      <td>1500</td>\n",
              "    </tr>\n",
              "    <tr>\n",
              "      <th>3</th>\n",
              "      <td>9.0</td>\n",
              "      <td>531.0</td>\n",
              "      <td>0.503788</td>\n",
              "      <td>1.0</td>\n",
              "      <td>0.665635</td>\n",
              "      <td>9.0</td>\n",
              "      <td>0.0</td>\n",
              "      <td>1.0</td>\n",
              "      <td>0.0</td>\n",
              "      <td>4.404896</td>\n",
              "      <td>7.0</td>\n",
              "      <td>0.0</td>\n",
              "      <td>1.0</td>\n",
              "      <td>0.0</td>\n",
              "      <td>0.0</td>\n",
              "      <td>0.0</td>\n",
              "      <td>0.0</td>\n",
              "      <td>0.0</td>\n",
              "      <td>0.0</td>\n",
              "      <td>0.0</td>\n",
              "      <td>0.0</td>\n",
              "      <td>0.0</td>\n",
              "      <td>0.0</td>\n",
              "      <td>0.0</td>\n",
              "      <td>0.0</td>\n",
              "      <td>0.0</td>\n",
              "      <td>0.0</td>\n",
              "      <td>0.0</td>\n",
              "      <td>0.000000</td>\n",
              "      <td>1.0</td>\n",
              "      <td>0.0</td>\n",
              "      <td>0.0</td>\n",
              "      <td>0.0</td>\n",
              "      <td>0.0</td>\n",
              "      <td>0.0</td>\n",
              "      <td>0.0</td>\n",
              "      <td>0.0</td>\n",
              "      <td>0.028573</td>\n",
              "      <td>0.419300</td>\n",
              "      <td>0.494651</td>\n",
              "      <td>0.028905</td>\n",
              "      <td>0.028572</td>\n",
              "      <td>0.429850</td>\n",
              "      <td>0.100705</td>\n",
              "      <td>0.041431</td>\n",
              "      <td>0.020716</td>\n",
              "      <td>0.666667</td>\n",
              "      <td>0.333333</td>\n",
              "      <td>0.385965</td>\n",
              "      <td>0.136364</td>\n",
              "      <td>0.8</td>\n",
              "      <td>-0.369697</td>\n",
              "      <td>-0.600</td>\n",
              "      <td>-0.166667</td>\n",
              "      <td>0.000000</td>\n",
              "      <td>0.000000</td>\n",
              "      <td>0.500000</td>\n",
              "      <td>0.000000</td>\n",
              "      <td>1200</td>\n",
              "    </tr>\n",
              "    <tr>\n",
              "      <th>4</th>\n",
              "      <td>13.0</td>\n",
              "      <td>1072.0</td>\n",
              "      <td>0.415646</td>\n",
              "      <td>1.0</td>\n",
              "      <td>0.540890</td>\n",
              "      <td>19.0</td>\n",
              "      <td>19.0</td>\n",
              "      <td>20.0</td>\n",
              "      <td>0.0</td>\n",
              "      <td>4.682836</td>\n",
              "      <td>7.0</td>\n",
              "      <td>0.0</td>\n",
              "      <td>0.0</td>\n",
              "      <td>0.0</td>\n",
              "      <td>0.0</td>\n",
              "      <td>1.0</td>\n",
              "      <td>0.0</td>\n",
              "      <td>0.0</td>\n",
              "      <td>0.0</td>\n",
              "      <td>0.0</td>\n",
              "      <td>0.0</td>\n",
              "      <td>0.0</td>\n",
              "      <td>0.0</td>\n",
              "      <td>0.0</td>\n",
              "      <td>0.0</td>\n",
              "      <td>0.0</td>\n",
              "      <td>545.0</td>\n",
              "      <td>16000.0</td>\n",
              "      <td>3151.157895</td>\n",
              "      <td>1.0</td>\n",
              "      <td>0.0</td>\n",
              "      <td>0.0</td>\n",
              "      <td>0.0</td>\n",
              "      <td>0.0</td>\n",
              "      <td>0.0</td>\n",
              "      <td>0.0</td>\n",
              "      <td>0.0</td>\n",
              "      <td>0.028633</td>\n",
              "      <td>0.028794</td>\n",
              "      <td>0.028575</td>\n",
              "      <td>0.028572</td>\n",
              "      <td>0.885427</td>\n",
              "      <td>0.513502</td>\n",
              "      <td>0.281003</td>\n",
              "      <td>0.074627</td>\n",
              "      <td>0.012127</td>\n",
              "      <td>0.860215</td>\n",
              "      <td>0.139785</td>\n",
              "      <td>0.411127</td>\n",
              "      <td>0.033333</td>\n",
              "      <td>1.0</td>\n",
              "      <td>-0.220192</td>\n",
              "      <td>-0.500</td>\n",
              "      <td>-0.050000</td>\n",
              "      <td>0.454545</td>\n",
              "      <td>0.136364</td>\n",
              "      <td>0.045455</td>\n",
              "      <td>0.136364</td>\n",
              "      <td>505</td>\n",
              "    </tr>\n",
              "  </tbody>\n",
              "</table>\n",
              "</div>"
            ],
            "text/plain": [
              "   n_tokens_title  n_tokens_content  ...  abs_title_sentiment_polarity  shares\n",
              "0            12.0             219.0  ...                      0.187500     593\n",
              "1             9.0             255.0  ...                      0.000000     711\n",
              "2             9.0             211.0  ...                      0.000000    1500\n",
              "3             9.0             531.0  ...                      0.000000    1200\n",
              "4            13.0            1072.0  ...                      0.136364     505\n",
              "\n",
              "[5 rows x 59 columns]"
            ]
          },
          "metadata": {
            "tags": []
          },
          "execution_count": 122
        }
      ]
    },
    {
      "cell_type": "markdown",
      "metadata": {
        "id": "YjlGPLescaAO"
      },
      "source": [
        "## 3. Data-visualisation (utilisez matplotlib, searborn, bokeh…) – montrez le lien entre les variables et la cible"
      ]
    },
    {
      "cell_type": "markdown",
      "metadata": {
        "id": "4Y6ucbl9PNn0"
      },
      "source": [
        "### Missing values"
      ]
    },
    {
      "cell_type": "code",
      "metadata": {
        "colab": {
          "base_uri": "https://localhost:8080/",
          "height": 434
        },
        "id": "Sw3Q0VAOPP1m",
        "outputId": "58af965a-e1e1-4665-b63e-501f89065121"
      },
      "source": [
        "sns.heatmap(onlineNewsPopularity_df.isna())"
      ],
      "execution_count": 69,
      "outputs": [
        {
          "output_type": "execute_result",
          "data": {
            "text/plain": [
              "<matplotlib.axes._subplots.AxesSubplot at 0x7ff53e03fef0>"
            ]
          },
          "metadata": {
            "tags": []
          },
          "execution_count": 69
        },
        {
          "output_type": "display_data",
          "data": {
            "image/png": "[encoded data removed]",
            "text/plain": [
              "<Figure size 432x288 with 2 Axes>"
            ]
          },
          "metadata": {
            "tags": [],
            "needs_background": "light"
          }
        }
      ]
    },
    {
      "cell_type": "markdown",
      "metadata": {
        "id": "EWkTRB45PvVg"
      },
      "source": [
        "Il ne semble pas avoir de valeur manquante dans le dataset, comme indiqué dans la description de ce dernier."
      ]
    },
    {
      "cell_type": "markdown",
      "metadata": {
        "id": "u68UtAwqQPiO"
      },
      "source": [
        "### Répartitions de la cible"
      ]
    },
    {
      "cell_type": "code",
      "metadata": {
        "colab": {
          "base_uri": "https://localhost:8080/",
          "height": 496
        },
        "id": "Q5xTHlcgQW7g",
        "outputId": "9e3804c2-28ad-4e12-a749-8cd1c15ba191"
      },
      "source": [
        "y=onlineNewsPopularity_df['shares']\r\n",
        "plt.figure(figsize=(10,7))\r\n",
        "plt.xlim([-20000, 100000])\r\n",
        "sns.distplot(y, kde=True);"
      ],
      "execution_count": 70,
      "outputs": [
        {
          "output_type": "stream",
          "text": [
            "/usr/local/lib/python3.6/dist-packages/seaborn/distributions.py:2551: FutureWarning: `distplot` is a deprecated function and will be removed in a future version. Please adapt your code to use either `displot` (a figure-level function with similar flexibility) or `histplot` (an axes-level function for histograms).\n",
            "  warnings.warn(msg, FutureWarning)\n"
          ],
          "name": "stderr"
        },
        {
          "output_type": "display_data",
          "data": {
            "image/png": "[encoded data removed]",
            "text/plain": [
              "<Figure size 720x504 with 1 Axes>"
            ]
          },
          "metadata": {
            "tags": [],
            "needs_background": "light"
          }
        }
      ]
    },
    {
      "cell_type": "markdown",
      "metadata": {
        "id": "xAXZDlJdRdQY"
      },
      "source": [
        "On peut voir ici que le nombre de share des article se situe majoritairement entre 0 et 20000 partage."
      ]
    },
    {
      "cell_type": "code",
      "metadata": {
        "colab": {
          "base_uri": "https://localhost:8080/"
        },
        "id": "dIqMexgyUJ2E",
        "outputId": "9c397951-be21-4138-cfad-9b97f0f6f9e6"
      },
      "source": [
        "onlineNewsPopularity_df['shares'].describe()"
      ],
      "execution_count": 71,
      "outputs": [
        {
          "output_type": "execute_result",
          "data": {
            "text/plain": [
              "count     39644.000000\n",
              "mean       3395.380184\n",
              "std       11626.950749\n",
              "min           1.000000\n",
              "25%         946.000000\n",
              "50%        1400.000000\n",
              "75%        2800.000000\n",
              "max      843300.000000\n",
              "Name: shares, dtype: float64"
            ]
          },
          "metadata": {
            "tags": []
          },
          "execution_count": 71
        }
      ]
    },
    {
      "cell_type": "markdown",
      "metadata": {
        "id": "6M9fPK-PVjfl"
      },
      "source": [
        "On peut même voir que le maximum de partage se situe à 843300 pour un article."
      ]
    },
    {
      "cell_type": "markdown",
      "metadata": {
        "id": "erU2yY4ucaAP"
      },
      "source": [
        "### Analyse des données sur différentes variables du dataset (Title Length, Categories, week days...)"
      ]
    },
    {
      "cell_type": "markdown",
      "metadata": {
        "id": "Z--FHohncaAP"
      },
      "source": [
        "##### Title length"
      ]
    },
    {
      "cell_type": "code",
      "metadata": {
        "id": "VZQD9c6WcaAP",
        "colab": {
          "base_uri": "https://localhost:8080/"
        },
        "outputId": "786b37a6-c45e-4e3b-cd1f-91bc393e5656"
      },
      "source": [
        "# Relation entre la longueur du titre et le nombre de share\n",
        "df_no_outliers = onlineNewsPopularity_df[onlineNewsPopularity_df[\"shares\"]<=8362]\n",
        "\n",
        "title_length_df = df_no_outliers.loc[:,[\"n_tokens_title\", \"shares\"]]  # creating a new dataframe with length of title and number of shares\n",
        "\n",
        "title_length_df_sorted = title_length_df.sort_values('n_tokens_title') # sorting the dataframe based on the lenght of the titles\n",
        "\n",
        "distinct_title_keywords_count=(title_length_df_sorted.n_tokens_title.unique()) \n",
        "\n",
        "#distinct_title_keywords_count\n",
        "\n",
        "numOfArticles = {} \n",
        "\n",
        "for token in distinct_title_keywords_count: \n",
        "\n",
        "    tempDf = title_length_df_sorted[title_length_df_sorted[\"n_tokens_title\"]==token] \n",
        "\n",
        "    numOfArticles[token] = len(tempDf.n_tokens_title) \n",
        "\n",
        "numOfArticles\n",
        "\n"
      ],
      "execution_count": 72,
      "outputs": [
        {
          "output_type": "execute_result",
          "data": {
            "text/plain": [
              "{2.0: 1,\n",
              " 3.0: 5,\n",
              " 4.0: 27,\n",
              " 5.0: 170,\n",
              " 6.0: 756,\n",
              " 7.0: 1968,\n",
              " 8.0: 3923,\n",
              " 9.0: 5813,\n",
              " 10.0: 6876,\n",
              " 11.0: 6487,\n",
              " 12.0: 4943,\n",
              " 13.0: 3260,\n",
              " 14.0: 1596,\n",
              " 15.0: 707,\n",
              " 16.0: 237,\n",
              " 17.0: 81,\n",
              " 18.0: 21,\n",
              " 19.0: 5,\n",
              " 20.0: 2,\n",
              " 23.0: 1}"
            ]
          },
          "metadata": {
            "tags": []
          },
          "execution_count": 72
        }
      ]
    },
    {
      "cell_type": "code",
      "metadata": {
        "id": "yJQuELzTcaAQ"
      },
      "source": [
        "#2, 3, 4, 17, 18, 19, 20 and 23 ont moins de 100 articles chacuns\n",
        "\n",
        "#On va donc les supprimer car on peut considérer que cela n'est pas pertinent de les garder\n",
        "\n",
        "del_indices = [0,1,2,15,16,17,18,19] \n",
        "\n",
        "distinct_title_keywords_count = np.delete(distinct_title_keywords_count, del_indices)"
      ],
      "execution_count": 73,
      "outputs": []
    },
    {
      "cell_type": "code",
      "metadata": {
        "id": "m5kmXTBRcaAQ",
        "colab": {
          "base_uri": "https://localhost:8080/"
        },
        "outputId": "d4a087ec-d5c0-49d8-c3e3-c0d0fbf92fa3"
      },
      "source": [
        "# Nous cherchons maintenant la moyenne des shares pour chaque longueur de titre d'article\n",
        "\n",
        "avg_shares_per_title_length = {}\n",
        "\n",
        "for row in distinct_title_keywords_count:\n",
        "\n",
        "    df_tokenwise = title_length_df_sorted[title_length_df_sorted[\"n_tokens_title\"]== row]\n",
        "\n",
        "    Avg = df_tokenwise[\"shares\"].mean()\n",
        "\n",
        "    avg_shares_per_title_length[row] = Avg\n",
        "\n",
        "avg_shares_per_title_length"
      ],
      "execution_count": 74,
      "outputs": [
        {
          "output_type": "execute_result",
          "data": {
            "text/plain": [
              "{5.0: 2216.323529411765,\n",
              " 6.0: 2028.2843915343915,\n",
              " 7.0: 2053.901422764228,\n",
              " 8.0: 1973.700739230181,\n",
              " 9.0: 1955.0775847238947,\n",
              " 10.0: 1898.8490401396161,\n",
              " 11.0: 1919.7316170803144,\n",
              " 12.0: 1846.2443860004046,\n",
              " 13.0: 1835.1895705521472,\n",
              " 14.0: 1864.3659147869673,\n",
              " 15.0: 1801.2503536067893,\n",
              " 16.0: 1911.8776371308018}"
            ]
          },
          "metadata": {
            "tags": []
          },
          "execution_count": 74
        }
      ]
    },
    {
      "cell_type": "code",
      "metadata": {
        "id": "wyAy2163caAR",
        "colab": {
          "base_uri": "https://localhost:8080/",
          "height": 0
        },
        "outputId": "bd941eaa-502d-420c-b6ee-c04402fdb64e"
      },
      "source": [
        "Avg_list =[] \n",
        "\n",
        "for token in avg_shares_per_title_length: \n",
        "\n",
        "    Avg_list = Avg_list + [avg_shares_per_title_length[token]] \n",
        "\n",
        "\n",
        "plt.plot(distinct_title_keywords_count, Avg_list) \n",
        "\n",
        "plt.xlabel('longueur du titre en nombre de mot') \n",
        "\n",
        "plt.ylabel('Nombre de shares moyen') \n",
        "\n",
        "plt.title('Nombre de partage VS longueur du titre') \n",
        "\n",
        "plt.show()"
      ],
      "execution_count": 75,
      "outputs": [
        {
          "output_type": "display_data",
          "data": {
            "image/png": "[encoded data removed]",
            "text/plain": [
              "<Figure size 432x288 with 1 Axes>"
            ]
          },
          "metadata": {
            "tags": [],
            "needs_background": "light"
          }
        }
      ]
    },
    {
      "cell_type": "markdown",
      "metadata": {
        "id": "nXz3zn6KmA39"
      },
      "source": [
        "Au vu de ce plot, la longueur du titre semble être une feature interressante même si cela reste a comfirmé"
      ]
    },
    {
      "cell_type": "markdown",
      "metadata": {
        "id": "cY4YNClLcaAR"
      },
      "source": [
        "##### Article Category (social media, tech, business ...)"
      ]
    },
    {
      "cell_type": "code",
      "metadata": {
        "id": "ln9AqMplcaAS",
        "colab": {
          "base_uri": "https://localhost:8080/",
          "height": 0
        },
        "outputId": "55a11f65-adb4-4323-c273-d3c53c764952"
      },
      "source": [
        "# On va maintenant s'intéresser aux catégories des articles en fonctions de leur nombre de partage moyens\n",
        "\n",
        "channel = []\n",
        "for d in ['data_channel_is_lifestyle',\n",
        "       'data_channel_is_entertainment', 'data_channel_is_bus',\n",
        "       'data_channel_is_socmed', 'data_channel_is_tech',\n",
        "       'data_channel_is_world']:\n",
        "    channel.append(onlineNewsPopularity_df[onlineNewsPopularity_df[d]==1]['shares'].median())\n",
        "\n",
        "plt.figure(figsize=(10, 7))\n",
        "ax = sns.barplot(x= ['lifestyle',\n",
        "       'entertainment', 'business',\n",
        "       'social media', 'tech',\n",
        "       'world'], y= channel)\n",
        "ax.set(xlabel='catégories', ylabel='nombre de partage moyen')\n",
        "plt.show()"
      ],
      "execution_count": 76,
      "outputs": [
        {
          "output_type": "display_data",
          "data": {
            "image/png": "[encoded data removed]",
            "text/plain": [
              "<Figure size 720x504 with 1 Axes>"
            ]
          },
          "metadata": {
            "tags": [],
            "needs_background": "light"
          }
        }
      ]
    },
    {
      "cell_type": "markdown",
      "metadata": {
        "id": "ELS7ClEYnYTS"
      },
      "source": [
        "On peut voir que les catégories réseaux sociaux, tech et lifestyle sont très partagées. Alors que la catégorie world est la moins partagée."
      ]
    },
    {
      "cell_type": "code",
      "metadata": {
        "id": "HQlx8JJEcaAS",
        "scrolled": true,
        "colab": {
          "base_uri": "https://localhost:8080/",
          "height": 0
        },
        "outputId": "9714b6ca-9ce6-47c7-f627-f3a7691aa5cf"
      },
      "source": [
        "# On peut définir 2 catégories d'articles (populaire/impopulaire)\n",
        "# On définie un seuil de 1400 pour le nombre de share, ce qui nous permet de définir un article \"populaire\" ou non\n",
        "# Cette valeur n'a pas été défini par hasard et est donné par la description du dataset ici OnlineNewsPopularity/OnlineNewsPopularity.names\n",
        "# Elle correspond en faite à la valeur qui sépare le dataset en deux groupe bien distinct\n",
        "# Shares Value Range:   Number of Instances in Range:\n",
        "#   <  1400            18490\n",
        "#   >= 1400            21154\n",
        "unpop=onlineNewsPopularity_df[onlineNewsPopularity_df['shares']<1400]\n",
        "pop=onlineNewsPopularity_df[onlineNewsPopularity_df['shares']>=1400]\n",
        "\n",
        "columns_chan=onlineNewsPopularity_df.columns.values[11:17]\n",
        "unpop_chan = unpop[columns_chan].sum().values\n",
        "pop_chan = pop[columns_chan].sum().values\n",
        "fig = plt.figure(figsize = (13,5))\n",
        "plt.title(\"Nombre d'article populaire/impopulaire à travers différentes catégories\", fontsize = 16)\n",
        "plt.bar(np.arange(len(columns_chan)), pop_chan, width = 0.3, align=\"center\", color = 'r', \\\n",
        "          label = \"populaire\")\n",
        "plt.bar(np.arange(len(columns_chan)) - 0.3, unpop_chan, width = 0.3, align = \"center\", color = 'b', \\\n",
        "          label = \"impopulaire\")\n",
        "plt.xticks(np.arange(len(columns_chan)), columns_chan)\n",
        "\n",
        "plt.ylabel(\"Nombre d'article\", fontsize = 12)\n",
        "plt.xlabel(\"Catégories\", fontsize = 12)\n",
        "    \n",
        "plt.legend(loc = 'upper center')\n",
        "plt.tight_layout()\n",
        "plt.show()"
      ],
      "execution_count": 77,
      "outputs": [
        {
          "output_type": "display_data",
          "data": {
            "image/png": "[encoded data removed]",
            "text/plain": [
              "<Figure size 936x360 with 1 Axes>"
            ]
          },
          "metadata": {
            "tags": [],
            "needs_background": "light"
          }
        }
      ]
    },
    {
      "cell_type": "markdown",
      "metadata": {
        "id": "Zhj3znAXnUOK"
      },
      "source": [
        "On peut voir que les articles tech et reseaux sociaux sont très majoritairement populaire, alors que c'est le contraire pour la catégorie world et entertainment."
      ]
    },
    {
      "cell_type": "markdown",
      "metadata": {
        "id": "SPIUeBFicaAT"
      },
      "source": [
        "##### Week day"
      ]
    },
    {
      "cell_type": "code",
      "metadata": {
        "id": "xLJEVE50caAU",
        "scrolled": false,
        "colab": {
          "base_uri": "https://localhost:8080/",
          "height": 0
        },
        "outputId": "d9e925e0-f205-4e0f-eb83-7fec13f5c2de"
      },
      "source": [
        "# On va maintenant regarder quel est l'impacte des jours de la semaine sur la popularité (nombre moyen de partage) d'un article\n",
        "shares = []\n",
        "for d in ['weekday_is_monday', 'weekday_is_tuesday', 'weekday_is_wednesday','weekday_is_thursday', 'weekday_is_friday', 'weekday_is_saturday',\n",
        "       'weekday_is_sunday', 'is_weekend']:\n",
        "    shares.append(onlineNewsPopularity_df[onlineNewsPopularity_df[d]==1]['shares'].median())\n",
        "plt.figure(figsize=(10, 7))\n",
        "\n",
        "ax = sns.barplot(x= ['Lun','Mar','Mer','Jeu','Ven','Sam','Dim', \"weekend\"], y= shares)\n",
        "ax.set(xlabel='Jours de la semaine', ylabel='nombre de partage moyen')\n",
        "plt.show()"
      ],
      "execution_count": 78,
      "outputs": [
        {
          "output_type": "display_data",
          "data": {
            "image/png": "[encoded data removed]",
            "text/plain": [
              "<Figure size 720x504 with 1 Axes>"
            ]
          },
          "metadata": {
            "tags": [],
            "needs_background": "light"
          }
        }
      ]
    },
    {
      "cell_type": "markdown",
      "metadata": {
        "id": "yI-CjgLMn8jb"
      },
      "source": [
        "On peut voir grâce à ce plot que les articles parus le weekend sont, de manière générale, plus populaire que ceux parues\r\n",
        "la semaine.\r\n",
        "\r\n",
        "On peut dire également que les variables weekend et sam/dim sont quasiment identiques, on pourrait donc supprimer les colonnes\r\n",
        "samedi et dimanche afin d'avoir moins de features car elles sont extrêmement corrélées.\r\n",
        "On pourrait également supprimé les features de la semaine. En effet, ces-dernières sont quasiment identiques. On pourrait donc seulement se réferrer à la feature is_weekend."
      ]
    },
    {
      "cell_type": "markdown",
      "metadata": {
        "id": "r3q8ZRJN4JH1"
      },
      "source": [
        "#### Words in content"
      ]
    },
    {
      "cell_type": "code",
      "metadata": {
        "colab": {
          "base_uri": "https://localhost:8080/",
          "height": 446
        },
        "id": "kgW0i03A4SbI",
        "outputId": "ccbdea59-0d63-426f-dfd0-a0cb79d73887"
      },
      "source": [
        "plt.figure(figsize=(10, 7))\r\n",
        "sp = sns.scatterplot(data=onlineNewsPopularity_df, x=\"n_tokens_content\", y=\"shares\")\r\n",
        "sp.set(xlabel='nombre de mot dans l\\'article', ylabel='Nombre de partage')\r\n",
        "# control x and y limits\r\n",
        "plt.ylim(0, 80000)\r\n",
        "plt.xlim(0, None)\r\n",
        "plt.show()"
      ],
      "execution_count": 79,
      "outputs": [
        {
          "output_type": "display_data",
          "data": {
            "image/png": "[encoded data removed]",
            "text/plain": [
              "<Figure size 720x504 with 1 Axes>"
            ]
          },
          "metadata": {
            "tags": [],
            "needs_background": "light"
          }
        }
      ]
    },
    {
      "cell_type": "markdown",
      "metadata": {
        "id": "tkir9QZv-eSz"
      },
      "source": [
        "On peut voir ici que lorsque le nombre de mot dans un article est assez grand, il a beaucoup de chance d'être impopulaire. Neanmoins l'inverse n'est pas exacte. En effet, avoir peu de mot dans l'article ne signifie pas qu'un article va être populaire. "
      ]
    },
    {
      "cell_type": "markdown",
      "metadata": {
        "id": "ckY1HVsvXwtv"
      },
      "source": [
        "#### number of Keyword"
      ]
    },
    {
      "cell_type": "code",
      "metadata": {
        "colab": {
          "base_uri": "https://localhost:8080/",
          "height": 283
        },
        "id": "qqfE1OMRX1kE",
        "outputId": "dba8f904-9dfa-4913-a56c-153f6f651963"
      },
      "source": [
        "plt.scatter(onlineNewsPopularity_df['num_keywords'], onlineNewsPopularity_df['shares'])\r\n",
        "\r\n",
        "plt.xlabel('nombre de mot clé')\r\n",
        "plt.ylabel('nombre de partage')\r\n",
        "plt.ylim([0, 100000])\r\n",
        "\r\n",
        "plt.show()"
      ],
      "execution_count": 125,
      "outputs": [
        {
          "output_type": "display_data",
          "data": {
            "image/png": "[encoded data removed]",
            "text/plain": [
              "<Figure size 432x288 with 1 Axes>"
            ]
          },
          "metadata": {
            "tags": [],
            "needs_background": "light"
          }
        }
      ]
    },
    {
      "cell_type": "markdown",
      "metadata": {
        "id": "XYi9fL9NO560"
      },
      "source": [
        "On peut voir que les articles avec peu de mot clé sont peu partagés"
      ]
    },
    {
      "cell_type": "markdown",
      "metadata": {
        "id": "vqEdjWjReVRb"
      },
      "source": [
        "##4. Correlation analysis"
      ]
    },
    {
      "cell_type": "markdown",
      "metadata": {
        "id": "cVoXzHQfqJ8v"
      },
      "source": [
        "Attaquons nous maintenant plus profondement à la corrélation entre les données.\r\n",
        "Certaines features ont l'air extrêmement corrélées et peuvent être supprimées car elles sont redondantes."
      ]
    },
    {
      "cell_type": "code",
      "metadata": {
        "colab": {
          "base_uri": "https://localhost:8080/",
          "height": 882
        },
        "id": "RarjvWFOgNeR",
        "outputId": "6e4dd9c5-d4e5-49c7-f0e8-82c6a1e9259c"
      },
      "source": [
        "onlineNewsPopularity_correlation = onlineNewsPopularity_df.corr(method='kendall')\r\n",
        "\r\n",
        "# Set up the matplotlib figure\r\n",
        "f, ax = plt.subplots(figsize=(15, 15))\r\n",
        "\r\n",
        "# Generate a custom diverging colormap\r\n",
        "cmap = sns.diverging_palette(230, 20, as_cmap=True)\r\n",
        "\r\n",
        "# Draw the heatmap with the mask and correct aspect ratio\r\n",
        "sns.heatmap(onlineNewsPopularity_correlation,cmap=cmap, vmax=.3, center=0,\r\n",
        "            square=True, linewidths=.5, cbar_kws={\"shrink\": .5})"
      ],
      "execution_count": 81,
      "outputs": [
        {
          "output_type": "execute_result",
          "data": {
            "text/plain": [
              "<matplotlib.axes._subplots.AxesSubplot at 0x7ff53d705240>"
            ]
          },
          "metadata": {
            "tags": []
          },
          "execution_count": 81
        },
        {
          "output_type": "display_data",
          "data": {
            "image/png": "[encoded data removed]",
            "text/plain": [
              "<Figure size 1080x1080 with 2 Axes>"
            ]
          },
          "metadata": {
            "tags": [],
            "needs_background": "light"
          }
        }
      ]
    },
    {
      "cell_type": "markdown",
      "metadata": {
        "id": "TW1EgxZGwRuK"
      },
      "source": [
        "En analysant cette **matrice de corrélation**, on peut constater que certaines variables sont fortement corrélées (positivement ou négativement).\r\n",
        "\r\n",
        "On a:\r\n",
        "- les variables \"*weekday_is_**\" qui sont fortement corrélées à la feature **is_weekend**,\r\n",
        "- les variables \"*self_reference_min_share*\" ou \"*self_reference_max_share*\" corrélées à la feature **self_reference_avg_share** \r\n",
        "- les variables \"*kw_max_min*\" et \"*kw_min_min*\" qui sont corrélées à la feature **kw_avg_min**\r\n",
        "- les variables \"*min_positive_polarity*\" et \"*max_positive_polarity*\" qui sont corrélées à la feature \"*avg_positive_polarity*\"\r\n",
        "- les variables \"*min_negative_polarity*\" et \"*max_negative_polarity*\" qui sont corrélées à la feature **avg_negative_polarity**\r\n",
        "\r\n",
        "Grâce à cette analyse de la **matrice de corrélation**, nous sommes en mesure de supprimer les features qui semblent redondantes (voir la liste \"*features_to_remove*\" dans la cellule suivante)\r\n",
        "\r\n"
      ]
    },
    {
      "cell_type": "code",
      "metadata": {
        "id": "BlGfQuHKv7ds"
      },
      "source": [
        "# Liste dans laquelle nous allons placer toutes les features à supprimer.\r\n",
        "features_to_remove = ['weekday_is_saturday','weekday_is_sunday','weekday_is_monday', 'weekday_is_tuesday', 'weekday_is_wednesday', \r\n",
        "                      'weekday_is_thursday', 'weekday_is_friday', 'kw_min_min', 'kw_max_min','kw_min_max', 'kw_max_max', 'kw_min_avg',\r\n",
        "                      'kw_max_avg', 'self_reference_min_shares',\r\n",
        "                      'self_reference_max_shares','n_non_stop_words','min_positive_polarity', 'max_positive_polarity','min_negative_polarity',\r\n",
        "                      'max_negative_polarity'\r\n",
        "                      ]"
      ],
      "execution_count": 82,
      "outputs": []
    },
    {
      "cell_type": "markdown",
      "metadata": {
        "id": "GXr1MCwOfAFI"
      },
      "source": [
        "##5. Feature Subset Selection"
      ]
    },
    {
      "cell_type": "markdown",
      "metadata": {
        "id": "AWXoYAlAs_c5"
      },
      "source": [
        "L'objectif principal de ce projet est de **prédire la popularité d'un article** en fonction des différentes features du dataset. La popularité d'un article est désignée par son **nombre de partages** (\"*shares*\").​ La description du dataset fournit un **seuil du nombre de partages (1400 partages)** indiquant si un article est populaire ou non (populaire >= 1400 partages).\r\n",
        "\r\n",
        "Il s'agit donc d'un problème dit **supervisé** puisque nous devons prédire une colonne en particulier (\"*shares*\").\r\n",
        "\r\n",
        "Il existe deux approches pour les problèmes supervisés:\r\n",
        "- la **régression** (Affecter une valeur numérique à une observation)\r\n",
        "- la **classification** (Affecter une étiquette à une observation)\r\n",
        "\r\n",
        "Pour ce problème, nous avons décidé de réaliser une **classification** en se basant sur le seuil du nombre de partage fournit par la description du dataset.\r\n",
        "\r\n",
        "**Important**: Nous aurions pu passer par la régression, en tentant de trouver le nombre de partage pour un article donné mais nous estimions que le seuil fournit par le dataset est assez signigicatif.\r\n",
        "\r\n"
      ]
    },
    {
      "cell_type": "code",
      "metadata": {
        "colab": {
          "base_uri": "https://localhost:8080/"
        },
        "id": "afsOUIx1jpdX",
        "outputId": "05774798-7641-470b-ace6-a4e458035191"
      },
      "source": [
        "# Ici on récupère la variable \"shares\" et on génère un dataframe indiquant la popularité pour chaque article du dataset\r\n",
        "# Article populaire = True\r\n",
        "# Article non populaire = False\r\n",
        "shares_labels = pd.Series(onlineNewsPopularity_df[\"shares\"]>=1400) \r\n",
        "shares_labels"
      ],
      "execution_count": 83,
      "outputs": [
        {
          "output_type": "execute_result",
          "data": {
            "text/plain": [
              "0        False\n",
              "1        False\n",
              "2         True\n",
              "3        False\n",
              "4        False\n",
              "         ...  \n",
              "39639     True\n",
              "39640     True\n",
              "39641     True\n",
              "39642    False\n",
              "39643    False\n",
              "Name: shares, Length: 39644, dtype: bool"
            ]
          },
          "metadata": {
            "tags": []
          },
          "execution_count": 83
        }
      ]
    },
    {
      "cell_type": "code",
      "metadata": {
        "colab": {
          "base_uri": "https://localhost:8080/",
          "height": 215
        },
        "id": "dXJxN-Wb0Zfz",
        "outputId": "7ee3ae1f-bc8d-481e-add4-bb35afa799d4"
      },
      "source": [
        "# Sachant qu'on a stocké les labels à prédire pour la classification, nous pouvons supprimer la colonne \"shares\"\r\n",
        "onlineNewsPopularity_df.drop(labels=['shares'], axis = 1, inplace=True)\r\n",
        "onlineNewsPopularity_df.head()"
      ],
      "execution_count": 84,
      "outputs": [
        {
          "output_type": "execute_result",
          "data": {
            "text/html": [
              "<div>\n",
              "<style scoped>\n",
              "    .dataframe tbody tr th:only-of-type {\n",
              "        vertical-align: middle;\n",
              "    }\n",
              "\n",
              "    .dataframe tbody tr th {\n",
              "        vertical-align: top;\n",
              "    }\n",
              "\n",
              "    .dataframe thead th {\n",
              "        text-align: right;\n",
              "    }\n",
              "</style>\n",
              "<table border=\"1\" class=\"dataframe\">\n",
              "  <thead>\n",
              "    <tr style=\"text-align: right;\">\n",
              "      <th></th>\n",
              "      <th>n_tokens_title</th>\n",
              "      <th>n_tokens_content</th>\n",
              "      <th>n_unique_tokens</th>\n",
              "      <th>n_non_stop_words</th>\n",
              "      <th>n_non_stop_unique_tokens</th>\n",
              "      <th>num_hrefs</th>\n",
              "      <th>num_self_hrefs</th>\n",
              "      <th>num_imgs</th>\n",
              "      <th>num_videos</th>\n",
              "      <th>average_token_length</th>\n",
              "      <th>num_keywords</th>\n",
              "      <th>data_channel_is_lifestyle</th>\n",
              "      <th>data_channel_is_entertainment</th>\n",
              "      <th>data_channel_is_bus</th>\n",
              "      <th>data_channel_is_socmed</th>\n",
              "      <th>data_channel_is_tech</th>\n",
              "      <th>data_channel_is_world</th>\n",
              "      <th>kw_min_min</th>\n",
              "      <th>kw_max_min</th>\n",
              "      <th>kw_avg_min</th>\n",
              "      <th>kw_min_max</th>\n",
              "      <th>kw_max_max</th>\n",
              "      <th>kw_avg_max</th>\n",
              "      <th>kw_min_avg</th>\n",
              "      <th>kw_max_avg</th>\n",
              "      <th>kw_avg_avg</th>\n",
              "      <th>self_reference_min_shares</th>\n",
              "      <th>self_reference_max_shares</th>\n",
              "      <th>self_reference_avg_sharess</th>\n",
              "      <th>weekday_is_monday</th>\n",
              "      <th>weekday_is_tuesday</th>\n",
              "      <th>weekday_is_wednesday</th>\n",
              "      <th>weekday_is_thursday</th>\n",
              "      <th>weekday_is_friday</th>\n",
              "      <th>weekday_is_saturday</th>\n",
              "      <th>weekday_is_sunday</th>\n",
              "      <th>is_weekend</th>\n",
              "      <th>LDA_00</th>\n",
              "      <th>LDA_01</th>\n",
              "      <th>LDA_02</th>\n",
              "      <th>LDA_03</th>\n",
              "      <th>LDA_04</th>\n",
              "      <th>global_subjectivity</th>\n",
              "      <th>global_sentiment_polarity</th>\n",
              "      <th>global_rate_positive_words</th>\n",
              "      <th>global_rate_negative_words</th>\n",
              "      <th>rate_positive_words</th>\n",
              "      <th>rate_negative_words</th>\n",
              "      <th>avg_positive_polarity</th>\n",
              "      <th>min_positive_polarity</th>\n",
              "      <th>max_positive_polarity</th>\n",
              "      <th>avg_negative_polarity</th>\n",
              "      <th>min_negative_polarity</th>\n",
              "      <th>max_negative_polarity</th>\n",
              "      <th>title_subjectivity</th>\n",
              "      <th>title_sentiment_polarity</th>\n",
              "      <th>abs_title_subjectivity</th>\n",
              "      <th>abs_title_sentiment_polarity</th>\n",
              "    </tr>\n",
              "  </thead>\n",
              "  <tbody>\n",
              "    <tr>\n",
              "      <th>0</th>\n",
              "      <td>12.0</td>\n",
              "      <td>219.0</td>\n",
              "      <td>0.663594</td>\n",
              "      <td>1.0</td>\n",
              "      <td>0.815385</td>\n",
              "      <td>4.0</td>\n",
              "      <td>2.0</td>\n",
              "      <td>1.0</td>\n",
              "      <td>0.0</td>\n",
              "      <td>4.680365</td>\n",
              "      <td>5.0</td>\n",
              "      <td>0.0</td>\n",
              "      <td>1.0</td>\n",
              "      <td>0.0</td>\n",
              "      <td>0.0</td>\n",
              "      <td>0.0</td>\n",
              "      <td>0.0</td>\n",
              "      <td>0.0</td>\n",
              "      <td>0.0</td>\n",
              "      <td>0.0</td>\n",
              "      <td>0.0</td>\n",
              "      <td>0.0</td>\n",
              "      <td>0.0</td>\n",
              "      <td>0.0</td>\n",
              "      <td>0.0</td>\n",
              "      <td>0.0</td>\n",
              "      <td>496.0</td>\n",
              "      <td>496.0</td>\n",
              "      <td>496.000000</td>\n",
              "      <td>1.0</td>\n",
              "      <td>0.0</td>\n",
              "      <td>0.0</td>\n",
              "      <td>0.0</td>\n",
              "      <td>0.0</td>\n",
              "      <td>0.0</td>\n",
              "      <td>0.0</td>\n",
              "      <td>0.0</td>\n",
              "      <td>0.500331</td>\n",
              "      <td>0.378279</td>\n",
              "      <td>0.040005</td>\n",
              "      <td>0.041263</td>\n",
              "      <td>0.040123</td>\n",
              "      <td>0.521617</td>\n",
              "      <td>0.092562</td>\n",
              "      <td>0.045662</td>\n",
              "      <td>0.013699</td>\n",
              "      <td>0.769231</td>\n",
              "      <td>0.230769</td>\n",
              "      <td>0.378636</td>\n",
              "      <td>0.100000</td>\n",
              "      <td>0.7</td>\n",
              "      <td>-0.350000</td>\n",
              "      <td>-0.600</td>\n",
              "      <td>-0.200000</td>\n",
              "      <td>0.500000</td>\n",
              "      <td>-0.187500</td>\n",
              "      <td>0.000000</td>\n",
              "      <td>0.187500</td>\n",
              "    </tr>\n",
              "    <tr>\n",
              "      <th>1</th>\n",
              "      <td>9.0</td>\n",
              "      <td>255.0</td>\n",
              "      <td>0.604743</td>\n",
              "      <td>1.0</td>\n",
              "      <td>0.791946</td>\n",
              "      <td>3.0</td>\n",
              "      <td>1.0</td>\n",
              "      <td>1.0</td>\n",
              "      <td>0.0</td>\n",
              "      <td>4.913725</td>\n",
              "      <td>4.0</td>\n",
              "      <td>0.0</td>\n",
              "      <td>0.0</td>\n",
              "      <td>1.0</td>\n",
              "      <td>0.0</td>\n",
              "      <td>0.0</td>\n",
              "      <td>0.0</td>\n",
              "      <td>0.0</td>\n",
              "      <td>0.0</td>\n",
              "      <td>0.0</td>\n",
              "      <td>0.0</td>\n",
              "      <td>0.0</td>\n",
              "      <td>0.0</td>\n",
              "      <td>0.0</td>\n",
              "      <td>0.0</td>\n",
              "      <td>0.0</td>\n",
              "      <td>0.0</td>\n",
              "      <td>0.0</td>\n",
              "      <td>0.000000</td>\n",
              "      <td>1.0</td>\n",
              "      <td>0.0</td>\n",
              "      <td>0.0</td>\n",
              "      <td>0.0</td>\n",
              "      <td>0.0</td>\n",
              "      <td>0.0</td>\n",
              "      <td>0.0</td>\n",
              "      <td>0.0</td>\n",
              "      <td>0.799756</td>\n",
              "      <td>0.050047</td>\n",
              "      <td>0.050096</td>\n",
              "      <td>0.050101</td>\n",
              "      <td>0.050001</td>\n",
              "      <td>0.341246</td>\n",
              "      <td>0.148948</td>\n",
              "      <td>0.043137</td>\n",
              "      <td>0.015686</td>\n",
              "      <td>0.733333</td>\n",
              "      <td>0.266667</td>\n",
              "      <td>0.286915</td>\n",
              "      <td>0.033333</td>\n",
              "      <td>0.7</td>\n",
              "      <td>-0.118750</td>\n",
              "      <td>-0.125</td>\n",
              "      <td>-0.100000</td>\n",
              "      <td>0.000000</td>\n",
              "      <td>0.000000</td>\n",
              "      <td>0.500000</td>\n",
              "      <td>0.000000</td>\n",
              "    </tr>\n",
              "    <tr>\n",
              "      <th>2</th>\n",
              "      <td>9.0</td>\n",
              "      <td>211.0</td>\n",
              "      <td>0.575130</td>\n",
              "      <td>1.0</td>\n",
              "      <td>0.663866</td>\n",
              "      <td>3.0</td>\n",
              "      <td>1.0</td>\n",
              "      <td>1.0</td>\n",
              "      <td>0.0</td>\n",
              "      <td>4.393365</td>\n",
              "      <td>6.0</td>\n",
              "      <td>0.0</td>\n",
              "      <td>0.0</td>\n",
              "      <td>1.0</td>\n",
              "      <td>0.0</td>\n",
              "      <td>0.0</td>\n",
              "      <td>0.0</td>\n",
              "      <td>0.0</td>\n",
              "      <td>0.0</td>\n",
              "      <td>0.0</td>\n",
              "      <td>0.0</td>\n",
              "      <td>0.0</td>\n",
              "      <td>0.0</td>\n",
              "      <td>0.0</td>\n",
              "      <td>0.0</td>\n",
              "      <td>0.0</td>\n",
              "      <td>918.0</td>\n",
              "      <td>918.0</td>\n",
              "      <td>918.000000</td>\n",
              "      <td>1.0</td>\n",
              "      <td>0.0</td>\n",
              "      <td>0.0</td>\n",
              "      <td>0.0</td>\n",
              "      <td>0.0</td>\n",
              "      <td>0.0</td>\n",
              "      <td>0.0</td>\n",
              "      <td>0.0</td>\n",
              "      <td>0.217792</td>\n",
              "      <td>0.033334</td>\n",
              "      <td>0.033351</td>\n",
              "      <td>0.033334</td>\n",
              "      <td>0.682188</td>\n",
              "      <td>0.702222</td>\n",
              "      <td>0.323333</td>\n",
              "      <td>0.056872</td>\n",
              "      <td>0.009479</td>\n",
              "      <td>0.857143</td>\n",
              "      <td>0.142857</td>\n",
              "      <td>0.495833</td>\n",
              "      <td>0.100000</td>\n",
              "      <td>1.0</td>\n",
              "      <td>-0.466667</td>\n",
              "      <td>-0.800</td>\n",
              "      <td>-0.133333</td>\n",
              "      <td>0.000000</td>\n",
              "      <td>0.000000</td>\n",
              "      <td>0.500000</td>\n",
              "      <td>0.000000</td>\n",
              "    </tr>\n",
              "    <tr>\n",
              "      <th>3</th>\n",
              "      <td>9.0</td>\n",
              "      <td>531.0</td>\n",
              "      <td>0.503788</td>\n",
              "      <td>1.0</td>\n",
              "      <td>0.665635</td>\n",
              "      <td>9.0</td>\n",
              "      <td>0.0</td>\n",
              "      <td>1.0</td>\n",
              "      <td>0.0</td>\n",
              "      <td>4.404896</td>\n",
              "      <td>7.0</td>\n",
              "      <td>0.0</td>\n",
              "      <td>1.0</td>\n",
              "      <td>0.0</td>\n",
              "      <td>0.0</td>\n",
              "      <td>0.0</td>\n",
              "      <td>0.0</td>\n",
              "      <td>0.0</td>\n",
              "      <td>0.0</td>\n",
              "      <td>0.0</td>\n",
              "      <td>0.0</td>\n",
              "      <td>0.0</td>\n",
              "      <td>0.0</td>\n",
              "      <td>0.0</td>\n",
              "      <td>0.0</td>\n",
              "      <td>0.0</td>\n",
              "      <td>0.0</td>\n",
              "      <td>0.0</td>\n",
              "      <td>0.000000</td>\n",
              "      <td>1.0</td>\n",
              "      <td>0.0</td>\n",
              "      <td>0.0</td>\n",
              "      <td>0.0</td>\n",
              "      <td>0.0</td>\n",
              "      <td>0.0</td>\n",
              "      <td>0.0</td>\n",
              "      <td>0.0</td>\n",
              "      <td>0.028573</td>\n",
              "      <td>0.419300</td>\n",
              "      <td>0.494651</td>\n",
              "      <td>0.028905</td>\n",
              "      <td>0.028572</td>\n",
              "      <td>0.429850</td>\n",
              "      <td>0.100705</td>\n",
              "      <td>0.041431</td>\n",
              "      <td>0.020716</td>\n",
              "      <td>0.666667</td>\n",
              "      <td>0.333333</td>\n",
              "      <td>0.385965</td>\n",
              "      <td>0.136364</td>\n",
              "      <td>0.8</td>\n",
              "      <td>-0.369697</td>\n",
              "      <td>-0.600</td>\n",
              "      <td>-0.166667</td>\n",
              "      <td>0.000000</td>\n",
              "      <td>0.000000</td>\n",
              "      <td>0.500000</td>\n",
              "      <td>0.000000</td>\n",
              "    </tr>\n",
              "    <tr>\n",
              "      <th>4</th>\n",
              "      <td>13.0</td>\n",
              "      <td>1072.0</td>\n",
              "      <td>0.415646</td>\n",
              "      <td>1.0</td>\n",
              "      <td>0.540890</td>\n",
              "      <td>19.0</td>\n",
              "      <td>19.0</td>\n",
              "      <td>20.0</td>\n",
              "      <td>0.0</td>\n",
              "      <td>4.682836</td>\n",
              "      <td>7.0</td>\n",
              "      <td>0.0</td>\n",
              "      <td>0.0</td>\n",
              "      <td>0.0</td>\n",
              "      <td>0.0</td>\n",
              "      <td>1.0</td>\n",
              "      <td>0.0</td>\n",
              "      <td>0.0</td>\n",
              "      <td>0.0</td>\n",
              "      <td>0.0</td>\n",
              "      <td>0.0</td>\n",
              "      <td>0.0</td>\n",
              "      <td>0.0</td>\n",
              "      <td>0.0</td>\n",
              "      <td>0.0</td>\n",
              "      <td>0.0</td>\n",
              "      <td>545.0</td>\n",
              "      <td>16000.0</td>\n",
              "      <td>3151.157895</td>\n",
              "      <td>1.0</td>\n",
              "      <td>0.0</td>\n",
              "      <td>0.0</td>\n",
              "      <td>0.0</td>\n",
              "      <td>0.0</td>\n",
              "      <td>0.0</td>\n",
              "      <td>0.0</td>\n",
              "      <td>0.0</td>\n",
              "      <td>0.028633</td>\n",
              "      <td>0.028794</td>\n",
              "      <td>0.028575</td>\n",
              "      <td>0.028572</td>\n",
              "      <td>0.885427</td>\n",
              "      <td>0.513502</td>\n",
              "      <td>0.281003</td>\n",
              "      <td>0.074627</td>\n",
              "      <td>0.012127</td>\n",
              "      <td>0.860215</td>\n",
              "      <td>0.139785</td>\n",
              "      <td>0.411127</td>\n",
              "      <td>0.033333</td>\n",
              "      <td>1.0</td>\n",
              "      <td>-0.220192</td>\n",
              "      <td>-0.500</td>\n",
              "      <td>-0.050000</td>\n",
              "      <td>0.454545</td>\n",
              "      <td>0.136364</td>\n",
              "      <td>0.045455</td>\n",
              "      <td>0.136364</td>\n",
              "    </tr>\n",
              "  </tbody>\n",
              "</table>\n",
              "</div>"
            ],
            "text/plain": [
              "   n_tokens_title  ...  abs_title_sentiment_polarity\n",
              "0            12.0  ...                      0.187500\n",
              "1             9.0  ...                      0.000000\n",
              "2             9.0  ...                      0.000000\n",
              "3             9.0  ...                      0.000000\n",
              "4            13.0  ...                      0.136364\n",
              "\n",
              "[5 rows x 58 columns]"
            ]
          },
          "metadata": {
            "tags": []
          },
          "execution_count": 84
        }
      ]
    },
    {
      "cell_type": "code",
      "metadata": {
        "id": "1_RxUl_8uAuw"
      },
      "source": [
        "# Ici on supprime les features que nous avons jugées redondantes et fortement corrélées\r\n",
        "onlineNewsPopularity_features = onlineNewsPopularity_df.copy()\r\n",
        "onlineNewsPopularity_features.drop(labels=features_to_remove, axis = 1, inplace=True)"
      ],
      "execution_count": 85,
      "outputs": []
    },
    {
      "cell_type": "code",
      "metadata": {
        "colab": {
          "base_uri": "https://localhost:8080/",
          "height": 215
        },
        "id": "ev5NfgYglfPn",
        "outputId": "b80bc10c-349a-46b7-b01a-f383a12cae09"
      },
      "source": [
        "onlineNewsPopularity_features.head()"
      ],
      "execution_count": 86,
      "outputs": [
        {
          "output_type": "execute_result",
          "data": {
            "text/html": [
              "<div>\n",
              "<style scoped>\n",
              "    .dataframe tbody tr th:only-of-type {\n",
              "        vertical-align: middle;\n",
              "    }\n",
              "\n",
              "    .dataframe tbody tr th {\n",
              "        vertical-align: top;\n",
              "    }\n",
              "\n",
              "    .dataframe thead th {\n",
              "        text-align: right;\n",
              "    }\n",
              "</style>\n",
              "<table border=\"1\" class=\"dataframe\">\n",
              "  <thead>\n",
              "    <tr style=\"text-align: right;\">\n",
              "      <th></th>\n",
              "      <th>n_tokens_title</th>\n",
              "      <th>n_tokens_content</th>\n",
              "      <th>n_unique_tokens</th>\n",
              "      <th>n_non_stop_unique_tokens</th>\n",
              "      <th>num_hrefs</th>\n",
              "      <th>num_self_hrefs</th>\n",
              "      <th>num_imgs</th>\n",
              "      <th>num_videos</th>\n",
              "      <th>average_token_length</th>\n",
              "      <th>num_keywords</th>\n",
              "      <th>data_channel_is_lifestyle</th>\n",
              "      <th>data_channel_is_entertainment</th>\n",
              "      <th>data_channel_is_bus</th>\n",
              "      <th>data_channel_is_socmed</th>\n",
              "      <th>data_channel_is_tech</th>\n",
              "      <th>data_channel_is_world</th>\n",
              "      <th>kw_avg_min</th>\n",
              "      <th>kw_avg_max</th>\n",
              "      <th>kw_avg_avg</th>\n",
              "      <th>self_reference_avg_sharess</th>\n",
              "      <th>is_weekend</th>\n",
              "      <th>LDA_00</th>\n",
              "      <th>LDA_01</th>\n",
              "      <th>LDA_02</th>\n",
              "      <th>LDA_03</th>\n",
              "      <th>LDA_04</th>\n",
              "      <th>global_subjectivity</th>\n",
              "      <th>global_sentiment_polarity</th>\n",
              "      <th>global_rate_positive_words</th>\n",
              "      <th>global_rate_negative_words</th>\n",
              "      <th>rate_positive_words</th>\n",
              "      <th>rate_negative_words</th>\n",
              "      <th>avg_positive_polarity</th>\n",
              "      <th>avg_negative_polarity</th>\n",
              "      <th>title_subjectivity</th>\n",
              "      <th>title_sentiment_polarity</th>\n",
              "      <th>abs_title_subjectivity</th>\n",
              "      <th>abs_title_sentiment_polarity</th>\n",
              "    </tr>\n",
              "  </thead>\n",
              "  <tbody>\n",
              "    <tr>\n",
              "      <th>0</th>\n",
              "      <td>12.0</td>\n",
              "      <td>219.0</td>\n",
              "      <td>0.663594</td>\n",
              "      <td>0.815385</td>\n",
              "      <td>4.0</td>\n",
              "      <td>2.0</td>\n",
              "      <td>1.0</td>\n",
              "      <td>0.0</td>\n",
              "      <td>4.680365</td>\n",
              "      <td>5.0</td>\n",
              "      <td>0.0</td>\n",
              "      <td>1.0</td>\n",
              "      <td>0.0</td>\n",
              "      <td>0.0</td>\n",
              "      <td>0.0</td>\n",
              "      <td>0.0</td>\n",
              "      <td>0.0</td>\n",
              "      <td>0.0</td>\n",
              "      <td>0.0</td>\n",
              "      <td>496.000000</td>\n",
              "      <td>0.0</td>\n",
              "      <td>0.500331</td>\n",
              "      <td>0.378279</td>\n",
              "      <td>0.040005</td>\n",
              "      <td>0.041263</td>\n",
              "      <td>0.040123</td>\n",
              "      <td>0.521617</td>\n",
              "      <td>0.092562</td>\n",
              "      <td>0.045662</td>\n",
              "      <td>0.013699</td>\n",
              "      <td>0.769231</td>\n",
              "      <td>0.230769</td>\n",
              "      <td>0.378636</td>\n",
              "      <td>-0.350000</td>\n",
              "      <td>0.500000</td>\n",
              "      <td>-0.187500</td>\n",
              "      <td>0.000000</td>\n",
              "      <td>0.187500</td>\n",
              "    </tr>\n",
              "    <tr>\n",
              "      <th>1</th>\n",
              "      <td>9.0</td>\n",
              "      <td>255.0</td>\n",
              "      <td>0.604743</td>\n",
              "      <td>0.791946</td>\n",
              "      <td>3.0</td>\n",
              "      <td>1.0</td>\n",
              "      <td>1.0</td>\n",
              "      <td>0.0</td>\n",
              "      <td>4.913725</td>\n",
              "      <td>4.0</td>\n",
              "      <td>0.0</td>\n",
              "      <td>0.0</td>\n",
              "      <td>1.0</td>\n",
              "      <td>0.0</td>\n",
              "      <td>0.0</td>\n",
              "      <td>0.0</td>\n",
              "      <td>0.0</td>\n",
              "      <td>0.0</td>\n",
              "      <td>0.0</td>\n",
              "      <td>0.000000</td>\n",
              "      <td>0.0</td>\n",
              "      <td>0.799756</td>\n",
              "      <td>0.050047</td>\n",
              "      <td>0.050096</td>\n",
              "      <td>0.050101</td>\n",
              "      <td>0.050001</td>\n",
              "      <td>0.341246</td>\n",
              "      <td>0.148948</td>\n",
              "      <td>0.043137</td>\n",
              "      <td>0.015686</td>\n",
              "      <td>0.733333</td>\n",
              "      <td>0.266667</td>\n",
              "      <td>0.286915</td>\n",
              "      <td>-0.118750</td>\n",
              "      <td>0.000000</td>\n",
              "      <td>0.000000</td>\n",
              "      <td>0.500000</td>\n",
              "      <td>0.000000</td>\n",
              "    </tr>\n",
              "    <tr>\n",
              "      <th>2</th>\n",
              "      <td>9.0</td>\n",
              "      <td>211.0</td>\n",
              "      <td>0.575130</td>\n",
              "      <td>0.663866</td>\n",
              "      <td>3.0</td>\n",
              "      <td>1.0</td>\n",
              "      <td>1.0</td>\n",
              "      <td>0.0</td>\n",
              "      <td>4.393365</td>\n",
              "      <td>6.0</td>\n",
              "      <td>0.0</td>\n",
              "      <td>0.0</td>\n",
              "      <td>1.0</td>\n",
              "      <td>0.0</td>\n",
              "      <td>0.0</td>\n",
              "      <td>0.0</td>\n",
              "      <td>0.0</td>\n",
              "      <td>0.0</td>\n",
              "      <td>0.0</td>\n",
              "      <td>918.000000</td>\n",
              "      <td>0.0</td>\n",
              "      <td>0.217792</td>\n",
              "      <td>0.033334</td>\n",
              "      <td>0.033351</td>\n",
              "      <td>0.033334</td>\n",
              "      <td>0.682188</td>\n",
              "      <td>0.702222</td>\n",
              "      <td>0.323333</td>\n",
              "      <td>0.056872</td>\n",
              "      <td>0.009479</td>\n",
              "      <td>0.857143</td>\n",
              "      <td>0.142857</td>\n",
              "      <td>0.495833</td>\n",
              "      <td>-0.466667</td>\n",
              "      <td>0.000000</td>\n",
              "      <td>0.000000</td>\n",
              "      <td>0.500000</td>\n",
              "      <td>0.000000</td>\n",
              "    </tr>\n",
              "    <tr>\n",
              "      <th>3</th>\n",
              "      <td>9.0</td>\n",
              "      <td>531.0</td>\n",
              "      <td>0.503788</td>\n",
              "      <td>0.665635</td>\n",
              "      <td>9.0</td>\n",
              "      <td>0.0</td>\n",
              "      <td>1.0</td>\n",
              "      <td>0.0</td>\n",
              "      <td>4.404896</td>\n",
              "      <td>7.0</td>\n",
              "      <td>0.0</td>\n",
              "      <td>1.0</td>\n",
              "      <td>0.0</td>\n",
              "      <td>0.0</td>\n",
              "      <td>0.0</td>\n",
              "      <td>0.0</td>\n",
              "      <td>0.0</td>\n",
              "      <td>0.0</td>\n",
              "      <td>0.0</td>\n",
              "      <td>0.000000</td>\n",
              "      <td>0.0</td>\n",
              "      <td>0.028573</td>\n",
              "      <td>0.419300</td>\n",
              "      <td>0.494651</td>\n",
              "      <td>0.028905</td>\n",
              "      <td>0.028572</td>\n",
              "      <td>0.429850</td>\n",
              "      <td>0.100705</td>\n",
              "      <td>0.041431</td>\n",
              "      <td>0.020716</td>\n",
              "      <td>0.666667</td>\n",
              "      <td>0.333333</td>\n",
              "      <td>0.385965</td>\n",
              "      <td>-0.369697</td>\n",
              "      <td>0.000000</td>\n",
              "      <td>0.000000</td>\n",
              "      <td>0.500000</td>\n",
              "      <td>0.000000</td>\n",
              "    </tr>\n",
              "    <tr>\n",
              "      <th>4</th>\n",
              "      <td>13.0</td>\n",
              "      <td>1072.0</td>\n",
              "      <td>0.415646</td>\n",
              "      <td>0.540890</td>\n",
              "      <td>19.0</td>\n",
              "      <td>19.0</td>\n",
              "      <td>20.0</td>\n",
              "      <td>0.0</td>\n",
              "      <td>4.682836</td>\n",
              "      <td>7.0</td>\n",
              "      <td>0.0</td>\n",
              "      <td>0.0</td>\n",
              "      <td>0.0</td>\n",
              "      <td>0.0</td>\n",
              "      <td>1.0</td>\n",
              "      <td>0.0</td>\n",
              "      <td>0.0</td>\n",
              "      <td>0.0</td>\n",
              "      <td>0.0</td>\n",
              "      <td>3151.157895</td>\n",
              "      <td>0.0</td>\n",
              "      <td>0.028633</td>\n",
              "      <td>0.028794</td>\n",
              "      <td>0.028575</td>\n",
              "      <td>0.028572</td>\n",
              "      <td>0.885427</td>\n",
              "      <td>0.513502</td>\n",
              "      <td>0.281003</td>\n",
              "      <td>0.074627</td>\n",
              "      <td>0.012127</td>\n",
              "      <td>0.860215</td>\n",
              "      <td>0.139785</td>\n",
              "      <td>0.411127</td>\n",
              "      <td>-0.220192</td>\n",
              "      <td>0.454545</td>\n",
              "      <td>0.136364</td>\n",
              "      <td>0.045455</td>\n",
              "      <td>0.136364</td>\n",
              "    </tr>\n",
              "  </tbody>\n",
              "</table>\n",
              "</div>"
            ],
            "text/plain": [
              "   n_tokens_title  ...  abs_title_sentiment_polarity\n",
              "0            12.0  ...                      0.187500\n",
              "1             9.0  ...                      0.000000\n",
              "2             9.0  ...                      0.000000\n",
              "3             9.0  ...                      0.000000\n",
              "4            13.0  ...                      0.136364\n",
              "\n",
              "[5 rows x 38 columns]"
            ]
          },
          "metadata": {
            "tags": []
          },
          "execution_count": 86
        }
      ]
    },
    {
      "cell_type": "code",
      "metadata": {
        "colab": {
          "base_uri": "https://localhost:8080/"
        },
        "id": "9MKzGE_jk5Qf",
        "outputId": "b2052cde-ba58-491b-b424-bb90363d0f57"
      },
      "source": [
        "onlineNewsPopularity_features.info()"
      ],
      "execution_count": 87,
      "outputs": [
        {
          "output_type": "stream",
          "text": [
            "<class 'pandas.core.frame.DataFrame'>\n",
            "RangeIndex: 39644 entries, 0 to 39643\n",
            "Data columns (total 38 columns):\n",
            " #   Column                         Non-Null Count  Dtype  \n",
            "---  ------                         --------------  -----  \n",
            " 0   n_tokens_title                 39644 non-null  float64\n",
            " 1   n_tokens_content               39644 non-null  float64\n",
            " 2   n_unique_tokens                39644 non-null  float64\n",
            " 3   n_non_stop_unique_tokens       39644 non-null  float64\n",
            " 4   num_hrefs                      39644 non-null  float64\n",
            " 5   num_self_hrefs                 39644 non-null  float64\n",
            " 6   num_imgs                       39644 non-null  float64\n",
            " 7   num_videos                     39644 non-null  float64\n",
            " 8   average_token_length           39644 non-null  float64\n",
            " 9   num_keywords                   39644 non-null  float64\n",
            " 10  data_channel_is_lifestyle      39644 non-null  float64\n",
            " 11  data_channel_is_entertainment  39644 non-null  float64\n",
            " 12  data_channel_is_bus            39644 non-null  float64\n",
            " 13  data_channel_is_socmed         39644 non-null  float64\n",
            " 14  data_channel_is_tech           39644 non-null  float64\n",
            " 15  data_channel_is_world          39644 non-null  float64\n",
            " 16  kw_avg_min                     39644 non-null  float64\n",
            " 17  kw_avg_max                     39644 non-null  float64\n",
            " 18  kw_avg_avg                     39644 non-null  float64\n",
            " 19  self_reference_avg_sharess     39644 non-null  float64\n",
            " 20  is_weekend                     39644 non-null  float64\n",
            " 21  LDA_00                         39644 non-null  float64\n",
            " 22  LDA_01                         39644 non-null  float64\n",
            " 23  LDA_02                         39644 non-null  float64\n",
            " 24  LDA_03                         39644 non-null  float64\n",
            " 25  LDA_04                         39644 non-null  float64\n",
            " 26  global_subjectivity            39644 non-null  float64\n",
            " 27  global_sentiment_polarity      39644 non-null  float64\n",
            " 28  global_rate_positive_words     39644 non-null  float64\n",
            " 29  global_rate_negative_words     39644 non-null  float64\n",
            " 30  rate_positive_words            39644 non-null  float64\n",
            " 31  rate_negative_words            39644 non-null  float64\n",
            " 32  avg_positive_polarity          39644 non-null  float64\n",
            " 33  avg_negative_polarity          39644 non-null  float64\n",
            " 34  title_subjectivity             39644 non-null  float64\n",
            " 35  title_sentiment_polarity       39644 non-null  float64\n",
            " 36  abs_title_subjectivity         39644 non-null  float64\n",
            " 37  abs_title_sentiment_polarity   39644 non-null  float64\n",
            "dtypes: float64(38)\n",
            "memory usage: 11.5 MB\n"
          ],
          "name": "stdout"
        }
      ]
    },
    {
      "cell_type": "markdown",
      "metadata": {
        "id": "gHh7XkpA4Aab"
      },
      "source": [
        "Comme on peut le voir dans la cellule précédente, les colonnes 10 à 15 représentent le type/topic de news. Un article peut appartenir à 0 ou 1 seul domaine. \r\n",
        "\r\n",
        "Nous avons fait le choix de regrouper ces variables en une seule. \r\n",
        "Ainsi, nous avons une nouvelle colonne nommée \"channels\" contenant ces valeurs:\r\n",
        "\r\n",
        "\r\n",
        "*   0 &rarr; \"Others\" (Dans aucun autre domaine)\r\n",
        "*   1 &rarr; \"Lifestyle\"\r\n",
        "*   2 &rarr; \"Entertainment\"\r\n",
        "*   3 &rarr; \"Business\"\r\n",
        "*   4 &rarr; \"socmed\"\r\n",
        "*   5 &rarr; \"Tech\"\r\n",
        "*   6 &rarr; \"World\"\r\n",
        "\r\n",
        "\r\n",
        "\r\n",
        "\r\n",
        "\r\n"
      ]
    },
    {
      "cell_type": "code",
      "metadata": {
        "id": "--nFrTwk79pe"
      },
      "source": [
        "data_channel_features = ['data_channel_is_lifestyle','data_channel_is_entertainment' ,'data_channel_is_bus',\r\n",
        "                        'data_channel_is_socmed' ,'data_channel_is_tech','data_channel_is_world']"
      ],
      "execution_count": 88,
      "outputs": []
    },
    {
      "cell_type": "code",
      "metadata": {
        "id": "-_goozbQvghR"
      },
      "source": [
        "# On récupère les variables qui data_channel_*\r\n",
        "DataChannelMerge=onlineNewsPopularity_features[data_channel_features]\r\n",
        "\r\n",
        "# On les merge dans un array\r\n",
        "DataChannel_arr=[]\r\n",
        "for r in list(range(DataChannelMerge.shape[0])):\r\n",
        "    if (((DataChannelMerge.iloc[r,0])==0) and ((DataChannelMerge.iloc[r,1])==0) and ((DataChannelMerge.iloc[r,2])==0) and ((DataChannelMerge.iloc[r,3])==0) and ((DataChannelMerge.iloc[r,4])==0) and ((DataChannelMerge.iloc[r,5])==0)):\r\n",
        "        DataChannel_arr.append(0) # \"Others\" \r\n",
        "    for c in list(range(DataChannelMerge.shape[1])):\r\n",
        "        if ((c==0) and (DataChannelMerge.iloc[r,c])==1):\r\n",
        "            DataChannel_arr.append(1) # Lifestyle\r\n",
        "        elif ((c==1) and (DataChannelMerge.iloc[r,c])==1):\r\n",
        "            DataChannel_arr.append(2) # Entertainment\r\n",
        "        elif ((c==2) and (DataChannelMerge.iloc[r,c])==1):\r\n",
        "            DataChannel_arr.append(3) # Business\r\n",
        "        elif ((c==3) and (DataChannelMerge.iloc[r,c])==1):\r\n",
        "            DataChannel_arr.append(4) # socmed\r\n",
        "        elif ((c==4) and (DataChannelMerge.iloc[r,c])==1):\r\n",
        "            DataChannel_arr.append(5) # Tech\r\n",
        "        elif ((c==5) and (DataChannelMerge.iloc[r,c])==1):\r\n",
        "            DataChannel_arr.append(6) # World"
      ],
      "execution_count": 89,
      "outputs": []
    },
    {
      "cell_type": "code",
      "metadata": {
        "id": "yciNj2QOwVrH"
      },
      "source": [
        "# On ajoute la colonne 'channels' dans le dataset\r\n",
        "onlineNewsPopularity_features.insert(loc=len(onlineNewsPopularity_features.columns), column='channels', value=DataChannel_arr)"
      ],
      "execution_count": 90,
      "outputs": []
    },
    {
      "cell_type": "code",
      "metadata": {
        "id": "lTw8ikqrwjje"
      },
      "source": [
        "# On supprime les anciennes features data_channel_*\r\n",
        "onlineNewsPopularity_features.drop(labels=data_channel_features, axis = 1, inplace=True)"
      ],
      "execution_count": 91,
      "outputs": []
    },
    {
      "cell_type": "code",
      "metadata": {
        "id": "EcDGFk-vwplW",
        "colab": {
          "base_uri": "https://localhost:8080/",
          "height": 215
        },
        "outputId": "980dc620-5b0d-4223-9cfd-e3e66f542b72"
      },
      "source": [
        "onlineNewsPopularity_features.head()"
      ],
      "execution_count": 92,
      "outputs": [
        {
          "output_type": "execute_result",
          "data": {
            "text/html": [
              "<div>\n",
              "<style scoped>\n",
              "    .dataframe tbody tr th:only-of-type {\n",
              "        vertical-align: middle;\n",
              "    }\n",
              "\n",
              "    .dataframe tbody tr th {\n",
              "        vertical-align: top;\n",
              "    }\n",
              "\n",
              "    .dataframe thead th {\n",
              "        text-align: right;\n",
              "    }\n",
              "</style>\n",
              "<table border=\"1\" class=\"dataframe\">\n",
              "  <thead>\n",
              "    <tr style=\"text-align: right;\">\n",
              "      <th></th>\n",
              "      <th>n_tokens_title</th>\n",
              "      <th>n_tokens_content</th>\n",
              "      <th>n_unique_tokens</th>\n",
              "      <th>n_non_stop_unique_tokens</th>\n",
              "      <th>num_hrefs</th>\n",
              "      <th>num_self_hrefs</th>\n",
              "      <th>num_imgs</th>\n",
              "      <th>num_videos</th>\n",
              "      <th>average_token_length</th>\n",
              "      <th>num_keywords</th>\n",
              "      <th>kw_avg_min</th>\n",
              "      <th>kw_avg_max</th>\n",
              "      <th>kw_avg_avg</th>\n",
              "      <th>self_reference_avg_sharess</th>\n",
              "      <th>is_weekend</th>\n",
              "      <th>LDA_00</th>\n",
              "      <th>LDA_01</th>\n",
              "      <th>LDA_02</th>\n",
              "      <th>LDA_03</th>\n",
              "      <th>LDA_04</th>\n",
              "      <th>global_subjectivity</th>\n",
              "      <th>global_sentiment_polarity</th>\n",
              "      <th>global_rate_positive_words</th>\n",
              "      <th>global_rate_negative_words</th>\n",
              "      <th>rate_positive_words</th>\n",
              "      <th>rate_negative_words</th>\n",
              "      <th>avg_positive_polarity</th>\n",
              "      <th>avg_negative_polarity</th>\n",
              "      <th>title_subjectivity</th>\n",
              "      <th>title_sentiment_polarity</th>\n",
              "      <th>abs_title_subjectivity</th>\n",
              "      <th>abs_title_sentiment_polarity</th>\n",
              "      <th>channels</th>\n",
              "    </tr>\n",
              "  </thead>\n",
              "  <tbody>\n",
              "    <tr>\n",
              "      <th>0</th>\n",
              "      <td>12.0</td>\n",
              "      <td>219.0</td>\n",
              "      <td>0.663594</td>\n",
              "      <td>0.815385</td>\n",
              "      <td>4.0</td>\n",
              "      <td>2.0</td>\n",
              "      <td>1.0</td>\n",
              "      <td>0.0</td>\n",
              "      <td>4.680365</td>\n",
              "      <td>5.0</td>\n",
              "      <td>0.0</td>\n",
              "      <td>0.0</td>\n",
              "      <td>0.0</td>\n",
              "      <td>496.000000</td>\n",
              "      <td>0.0</td>\n",
              "      <td>0.500331</td>\n",
              "      <td>0.378279</td>\n",
              "      <td>0.040005</td>\n",
              "      <td>0.041263</td>\n",
              "      <td>0.040123</td>\n",
              "      <td>0.521617</td>\n",
              "      <td>0.092562</td>\n",
              "      <td>0.045662</td>\n",
              "      <td>0.013699</td>\n",
              "      <td>0.769231</td>\n",
              "      <td>0.230769</td>\n",
              "      <td>0.378636</td>\n",
              "      <td>-0.350000</td>\n",
              "      <td>0.500000</td>\n",
              "      <td>-0.187500</td>\n",
              "      <td>0.000000</td>\n",
              "      <td>0.187500</td>\n",
              "      <td>2</td>\n",
              "    </tr>\n",
              "    <tr>\n",
              "      <th>1</th>\n",
              "      <td>9.0</td>\n",
              "      <td>255.0</td>\n",
              "      <td>0.604743</td>\n",
              "      <td>0.791946</td>\n",
              "      <td>3.0</td>\n",
              "      <td>1.0</td>\n",
              "      <td>1.0</td>\n",
              "      <td>0.0</td>\n",
              "      <td>4.913725</td>\n",
              "      <td>4.0</td>\n",
              "      <td>0.0</td>\n",
              "      <td>0.0</td>\n",
              "      <td>0.0</td>\n",
              "      <td>0.000000</td>\n",
              "      <td>0.0</td>\n",
              "      <td>0.799756</td>\n",
              "      <td>0.050047</td>\n",
              "      <td>0.050096</td>\n",
              "      <td>0.050101</td>\n",
              "      <td>0.050001</td>\n",
              "      <td>0.341246</td>\n",
              "      <td>0.148948</td>\n",
              "      <td>0.043137</td>\n",
              "      <td>0.015686</td>\n",
              "      <td>0.733333</td>\n",
              "      <td>0.266667</td>\n",
              "      <td>0.286915</td>\n",
              "      <td>-0.118750</td>\n",
              "      <td>0.000000</td>\n",
              "      <td>0.000000</td>\n",
              "      <td>0.500000</td>\n",
              "      <td>0.000000</td>\n",
              "      <td>3</td>\n",
              "    </tr>\n",
              "    <tr>\n",
              "      <th>2</th>\n",
              "      <td>9.0</td>\n",
              "      <td>211.0</td>\n",
              "      <td>0.575130</td>\n",
              "      <td>0.663866</td>\n",
              "      <td>3.0</td>\n",
              "      <td>1.0</td>\n",
              "      <td>1.0</td>\n",
              "      <td>0.0</td>\n",
              "      <td>4.393365</td>\n",
              "      <td>6.0</td>\n",
              "      <td>0.0</td>\n",
              "      <td>0.0</td>\n",
              "      <td>0.0</td>\n",
              "      <td>918.000000</td>\n",
              "      <td>0.0</td>\n",
              "      <td>0.217792</td>\n",
              "      <td>0.033334</td>\n",
              "      <td>0.033351</td>\n",
              "      <td>0.033334</td>\n",
              "      <td>0.682188</td>\n",
              "      <td>0.702222</td>\n",
              "      <td>0.323333</td>\n",
              "      <td>0.056872</td>\n",
              "      <td>0.009479</td>\n",
              "      <td>0.857143</td>\n",
              "      <td>0.142857</td>\n",
              "      <td>0.495833</td>\n",
              "      <td>-0.466667</td>\n",
              "      <td>0.000000</td>\n",
              "      <td>0.000000</td>\n",
              "      <td>0.500000</td>\n",
              "      <td>0.000000</td>\n",
              "      <td>3</td>\n",
              "    </tr>\n",
              "    <tr>\n",
              "      <th>3</th>\n",
              "      <td>9.0</td>\n",
              "      <td>531.0</td>\n",
              "      <td>0.503788</td>\n",
              "      <td>0.665635</td>\n",
              "      <td>9.0</td>\n",
              "      <td>0.0</td>\n",
              "      <td>1.0</td>\n",
              "      <td>0.0</td>\n",
              "      <td>4.404896</td>\n",
              "      <td>7.0</td>\n",
              "      <td>0.0</td>\n",
              "      <td>0.0</td>\n",
              "      <td>0.0</td>\n",
              "      <td>0.000000</td>\n",
              "      <td>0.0</td>\n",
              "      <td>0.028573</td>\n",
              "      <td>0.419300</td>\n",
              "      <td>0.494651</td>\n",
              "      <td>0.028905</td>\n",
              "      <td>0.028572</td>\n",
              "      <td>0.429850</td>\n",
              "      <td>0.100705</td>\n",
              "      <td>0.041431</td>\n",
              "      <td>0.020716</td>\n",
              "      <td>0.666667</td>\n",
              "      <td>0.333333</td>\n",
              "      <td>0.385965</td>\n",
              "      <td>-0.369697</td>\n",
              "      <td>0.000000</td>\n",
              "      <td>0.000000</td>\n",
              "      <td>0.500000</td>\n",
              "      <td>0.000000</td>\n",
              "      <td>2</td>\n",
              "    </tr>\n",
              "    <tr>\n",
              "      <th>4</th>\n",
              "      <td>13.0</td>\n",
              "      <td>1072.0</td>\n",
              "      <td>0.415646</td>\n",
              "      <td>0.540890</td>\n",
              "      <td>19.0</td>\n",
              "      <td>19.0</td>\n",
              "      <td>20.0</td>\n",
              "      <td>0.0</td>\n",
              "      <td>4.682836</td>\n",
              "      <td>7.0</td>\n",
              "      <td>0.0</td>\n",
              "      <td>0.0</td>\n",
              "      <td>0.0</td>\n",
              "      <td>3151.157895</td>\n",
              "      <td>0.0</td>\n",
              "      <td>0.028633</td>\n",
              "      <td>0.028794</td>\n",
              "      <td>0.028575</td>\n",
              "      <td>0.028572</td>\n",
              "      <td>0.885427</td>\n",
              "      <td>0.513502</td>\n",
              "      <td>0.281003</td>\n",
              "      <td>0.074627</td>\n",
              "      <td>0.012127</td>\n",
              "      <td>0.860215</td>\n",
              "      <td>0.139785</td>\n",
              "      <td>0.411127</td>\n",
              "      <td>-0.220192</td>\n",
              "      <td>0.454545</td>\n",
              "      <td>0.136364</td>\n",
              "      <td>0.045455</td>\n",
              "      <td>0.136364</td>\n",
              "      <td>5</td>\n",
              "    </tr>\n",
              "  </tbody>\n",
              "</table>\n",
              "</div>"
            ],
            "text/plain": [
              "   n_tokens_title  n_tokens_content  ...  abs_title_sentiment_polarity  channels\n",
              "0            12.0             219.0  ...                      0.187500         2\n",
              "1             9.0             255.0  ...                      0.000000         3\n",
              "2             9.0             211.0  ...                      0.000000         3\n",
              "3             9.0             531.0  ...                      0.000000         2\n",
              "4            13.0            1072.0  ...                      0.136364         5\n",
              "\n",
              "[5 rows x 33 columns]"
            ]
          },
          "metadata": {
            "tags": []
          },
          "execution_count": 92
        }
      ]
    },
    {
      "cell_type": "markdown",
      "metadata": {
        "id": "FOS4tNczITtB"
      },
      "source": [
        "## 6. Data normalisation"
      ]
    },
    {
      "cell_type": "markdown",
      "metadata": {
        "id": "uZ4j1KcTIdyU"
      },
      "source": [
        "Étant donné que différentes features ont des plages de valeurs différentes, certaines features peuvent affecter la prédiction plus que d'autres. Par conséquent, une pratique courante consiste à standardiser et normaliser les données. Scikit-learn propose de nombreuses variantes d'une telle mise à l'échelle. La méthode la plus adaptée pour ce projet est le MinMaxScaling. Cet estimateur met à l'échelle et traduit chaque caractéristique individuellement de sorte qu'elle soit dans la plage donnée sur l'ensemble d'apprentissage, c'est-à-dire entre zéro et un."
      ]
    },
    {
      "cell_type": "code",
      "metadata": {
        "id": "DNKih_QGp7Ho"
      },
      "source": [
        "to_not_normalize = [\r\n",
        " 'channels',\r\n",
        " 'LDA_00',\r\n",
        " 'LDA_01',\r\n",
        " 'LDA_02',\r\n",
        " 'LDA_03',\r\n",
        " 'LDA_04',\r\n",
        " 'is_weekend']"
      ],
      "execution_count": 93,
      "outputs": []
    },
    {
      "cell_type": "markdown",
      "metadata": {
        "id": "ucfvm6dOeX-z"
      },
      "source": [
        "Les données présentent dans cette liste non pas besoin d'être standardiser care elles le sont deja ou sont forcément égale à 0 ou 1."
      ]
    },
    {
      "cell_type": "code",
      "metadata": {
        "id": "U9eaX7W5IfYN"
      },
      "source": [
        "from sklearn.preprocessing import MinMaxScaler\r\n",
        "scaler = MinMaxScaler()\r\n",
        "\r\n",
        "feature_names = onlineNewsPopularity_features.drop(columns=to_not_normalize).columns\r\n",
        "\r\n",
        "# standardisation des colonnes numérique\r\n",
        "data_feature_strd = scaler.fit_transform(onlineNewsPopularity_features.drop(columns=to_not_normalize).values)\r\n",
        "\r\n",
        "# Création d'un nouveau data_frame\r\n",
        "data_set_strd = pd.DataFrame(data_feature_strd, columns=feature_names).join(onlineNewsPopularity_features[to_not_normalize])"
      ],
      "execution_count": 94,
      "outputs": []
    },
    {
      "cell_type": "code",
      "metadata": {
        "colab": {
          "base_uri": "https://localhost:8080/",
          "height": 422
        },
        "id": "4cPPaeBxqkwM",
        "outputId": "6409e058-29d8-421b-8b95-dd07cbb826b9"
      },
      "source": [
        "data_set_strd"
      ],
      "execution_count": 95,
      "outputs": [
        {
          "output_type": "execute_result",
          "data": {
            "text/html": [
              "<div>\n",
              "<style scoped>\n",
              "    .dataframe tbody tr th:only-of-type {\n",
              "        vertical-align: middle;\n",
              "    }\n",
              "\n",
              "    .dataframe tbody tr th {\n",
              "        vertical-align: top;\n",
              "    }\n",
              "\n",
              "    .dataframe thead th {\n",
              "        text-align: right;\n",
              "    }\n",
              "</style>\n",
              "<table border=\"1\" class=\"dataframe\">\n",
              "  <thead>\n",
              "    <tr style=\"text-align: right;\">\n",
              "      <th></th>\n",
              "      <th>n_tokens_title</th>\n",
              "      <th>n_tokens_content</th>\n",
              "      <th>n_unique_tokens</th>\n",
              "      <th>n_non_stop_unique_tokens</th>\n",
              "      <th>num_hrefs</th>\n",
              "      <th>num_self_hrefs</th>\n",
              "      <th>num_imgs</th>\n",
              "      <th>num_videos</th>\n",
              "      <th>average_token_length</th>\n",
              "      <th>num_keywords</th>\n",
              "      <th>kw_avg_min</th>\n",
              "      <th>kw_avg_max</th>\n",
              "      <th>kw_avg_avg</th>\n",
              "      <th>self_reference_avg_sharess</th>\n",
              "      <th>global_subjectivity</th>\n",
              "      <th>global_sentiment_polarity</th>\n",
              "      <th>global_rate_positive_words</th>\n",
              "      <th>global_rate_negative_words</th>\n",
              "      <th>rate_positive_words</th>\n",
              "      <th>rate_negative_words</th>\n",
              "      <th>avg_positive_polarity</th>\n",
              "      <th>avg_negative_polarity</th>\n",
              "      <th>title_subjectivity</th>\n",
              "      <th>title_sentiment_polarity</th>\n",
              "      <th>abs_title_subjectivity</th>\n",
              "      <th>abs_title_sentiment_polarity</th>\n",
              "      <th>channels</th>\n",
              "      <th>LDA_00</th>\n",
              "      <th>LDA_01</th>\n",
              "      <th>LDA_02</th>\n",
              "      <th>LDA_03</th>\n",
              "      <th>LDA_04</th>\n",
              "      <th>is_weekend</th>\n",
              "    </tr>\n",
              "  </thead>\n",
              "  <tbody>\n",
              "    <tr>\n",
              "      <th>0</th>\n",
              "      <td>0.476190</td>\n",
              "      <td>0.025844</td>\n",
              "      <td>0.000947</td>\n",
              "      <td>0.001254</td>\n",
              "      <td>0.013158</td>\n",
              "      <td>0.017241</td>\n",
              "      <td>0.007812</td>\n",
              "      <td>0.000000</td>\n",
              "      <td>0.582024</td>\n",
              "      <td>0.444444</td>\n",
              "      <td>0.000023</td>\n",
              "      <td>0.000000</td>\n",
              "      <td>0.000000</td>\n",
              "      <td>0.000588</td>\n",
              "      <td>0.521617</td>\n",
              "      <td>0.433591</td>\n",
              "      <td>0.293670</td>\n",
              "      <td>0.074074</td>\n",
              "      <td>0.769231</td>\n",
              "      <td>0.230769</td>\n",
              "      <td>0.378636</td>\n",
              "      <td>0.650000</td>\n",
              "      <td>0.500000</td>\n",
              "      <td>0.406250</td>\n",
              "      <td>0.000000</td>\n",
              "      <td>0.187500</td>\n",
              "      <td>2</td>\n",
              "      <td>0.500331</td>\n",
              "      <td>0.378279</td>\n",
              "      <td>0.040005</td>\n",
              "      <td>0.041263</td>\n",
              "      <td>0.040123</td>\n",
              "      <td>0.0</td>\n",
              "    </tr>\n",
              "    <tr>\n",
              "      <th>1</th>\n",
              "      <td>0.333333</td>\n",
              "      <td>0.030092</td>\n",
              "      <td>0.000863</td>\n",
              "      <td>0.001218</td>\n",
              "      <td>0.009868</td>\n",
              "      <td>0.008621</td>\n",
              "      <td>0.007812</td>\n",
              "      <td>0.000000</td>\n",
              "      <td>0.611043</td>\n",
              "      <td>0.333333</td>\n",
              "      <td>0.000023</td>\n",
              "      <td>0.000000</td>\n",
              "      <td>0.000000</td>\n",
              "      <td>0.000000</td>\n",
              "      <td>0.341246</td>\n",
              "      <td>0.483864</td>\n",
              "      <td>0.277432</td>\n",
              "      <td>0.084822</td>\n",
              "      <td>0.733333</td>\n",
              "      <td>0.266667</td>\n",
              "      <td>0.286915</td>\n",
              "      <td>0.881250</td>\n",
              "      <td>0.000000</td>\n",
              "      <td>0.500000</td>\n",
              "      <td>1.000000</td>\n",
              "      <td>0.000000</td>\n",
              "      <td>3</td>\n",
              "      <td>0.799756</td>\n",
              "      <td>0.050047</td>\n",
              "      <td>0.050096</td>\n",
              "      <td>0.050101</td>\n",
              "      <td>0.050001</td>\n",
              "      <td>0.0</td>\n",
              "    </tr>\n",
              "    <tr>\n",
              "      <th>2</th>\n",
              "      <td>0.333333</td>\n",
              "      <td>0.024900</td>\n",
              "      <td>0.000820</td>\n",
              "      <td>0.001021</td>\n",
              "      <td>0.009868</td>\n",
              "      <td>0.008621</td>\n",
              "      <td>0.007812</td>\n",
              "      <td>0.000000</td>\n",
              "      <td>0.546334</td>\n",
              "      <td>0.555556</td>\n",
              "      <td>0.000023</td>\n",
              "      <td>0.000000</td>\n",
              "      <td>0.000000</td>\n",
              "      <td>0.001089</td>\n",
              "      <td>0.702222</td>\n",
              "      <td>0.639345</td>\n",
              "      <td>0.365765</td>\n",
              "      <td>0.051255</td>\n",
              "      <td>0.857143</td>\n",
              "      <td>0.142857</td>\n",
              "      <td>0.495833</td>\n",
              "      <td>0.533333</td>\n",
              "      <td>0.000000</td>\n",
              "      <td>0.500000</td>\n",
              "      <td>1.000000</td>\n",
              "      <td>0.000000</td>\n",
              "      <td>3</td>\n",
              "      <td>0.217792</td>\n",
              "      <td>0.033334</td>\n",
              "      <td>0.033351</td>\n",
              "      <td>0.033334</td>\n",
              "      <td>0.682188</td>\n",
              "      <td>0.0</td>\n",
              "    </tr>\n",
              "    <tr>\n",
              "      <th>3</th>\n",
              "      <td>0.333333</td>\n",
              "      <td>0.062662</td>\n",
              "      <td>0.000719</td>\n",
              "      <td>0.001024</td>\n",
              "      <td>0.029605</td>\n",
              "      <td>0.000000</td>\n",
              "      <td>0.007812</td>\n",
              "      <td>0.000000</td>\n",
              "      <td>0.547768</td>\n",
              "      <td>0.666667</td>\n",
              "      <td>0.000023</td>\n",
              "      <td>0.000000</td>\n",
              "      <td>0.000000</td>\n",
              "      <td>0.000000</td>\n",
              "      <td>0.429850</td>\n",
              "      <td>0.440851</td>\n",
              "      <td>0.266460</td>\n",
              "      <td>0.112018</td>\n",
              "      <td>0.666667</td>\n",
              "      <td>0.333333</td>\n",
              "      <td>0.385965</td>\n",
              "      <td>0.630303</td>\n",
              "      <td>0.000000</td>\n",
              "      <td>0.500000</td>\n",
              "      <td>1.000000</td>\n",
              "      <td>0.000000</td>\n",
              "      <td>2</td>\n",
              "      <td>0.028573</td>\n",
              "      <td>0.419300</td>\n",
              "      <td>0.494651</td>\n",
              "      <td>0.028905</td>\n",
              "      <td>0.028572</td>\n",
              "      <td>0.0</td>\n",
              "    </tr>\n",
              "    <tr>\n",
              "      <th>4</th>\n",
              "      <td>0.523810</td>\n",
              "      <td>0.126505</td>\n",
              "      <td>0.000593</td>\n",
              "      <td>0.000832</td>\n",
              "      <td>0.062500</td>\n",
              "      <td>0.163793</td>\n",
              "      <td>0.156250</td>\n",
              "      <td>0.000000</td>\n",
              "      <td>0.582331</td>\n",
              "      <td>0.666667</td>\n",
              "      <td>0.000023</td>\n",
              "      <td>0.000000</td>\n",
              "      <td>0.000000</td>\n",
              "      <td>0.003737</td>\n",
              "      <td>0.513502</td>\n",
              "      <td>0.601604</td>\n",
              "      <td>0.479953</td>\n",
              "      <td>0.065575</td>\n",
              "      <td>0.860215</td>\n",
              "      <td>0.139785</td>\n",
              "      <td>0.411127</td>\n",
              "      <td>0.779808</td>\n",
              "      <td>0.454545</td>\n",
              "      <td>0.568182</td>\n",
              "      <td>0.090909</td>\n",
              "      <td>0.136364</td>\n",
              "      <td>5</td>\n",
              "      <td>0.028633</td>\n",
              "      <td>0.028794</td>\n",
              "      <td>0.028575</td>\n",
              "      <td>0.028572</td>\n",
              "      <td>0.885427</td>\n",
              "      <td>0.0</td>\n",
              "    </tr>\n",
              "    <tr>\n",
              "      <th>...</th>\n",
              "      <td>...</td>\n",
              "      <td>...</td>\n",
              "      <td>...</td>\n",
              "      <td>...</td>\n",
              "      <td>...</td>\n",
              "      <td>...</td>\n",
              "      <td>...</td>\n",
              "      <td>...</td>\n",
              "      <td>...</td>\n",
              "      <td>...</td>\n",
              "      <td>...</td>\n",
              "      <td>...</td>\n",
              "      <td>...</td>\n",
              "      <td>...</td>\n",
              "      <td>...</td>\n",
              "      <td>...</td>\n",
              "      <td>...</td>\n",
              "      <td>...</td>\n",
              "      <td>...</td>\n",
              "      <td>...</td>\n",
              "      <td>...</td>\n",
              "      <td>...</td>\n",
              "      <td>...</td>\n",
              "      <td>...</td>\n",
              "      <td>...</td>\n",
              "      <td>...</td>\n",
              "      <td>...</td>\n",
              "      <td>...</td>\n",
              "      <td>...</td>\n",
              "      <td>...</td>\n",
              "      <td>...</td>\n",
              "      <td>...</td>\n",
              "      <td>...</td>\n",
              "    </tr>\n",
              "    <tr>\n",
              "      <th>39639</th>\n",
              "      <td>0.428571</td>\n",
              "      <td>0.040831</td>\n",
              "      <td>0.000755</td>\n",
              "      <td>0.001054</td>\n",
              "      <td>0.029605</td>\n",
              "      <td>0.060345</td>\n",
              "      <td>0.007812</td>\n",
              "      <td>0.010989</td>\n",
              "      <td>0.562470</td>\n",
              "      <td>0.777778</td>\n",
              "      <td>0.004066</td>\n",
              "      <td>0.444637</td>\n",
              "      <td>0.069573</td>\n",
              "      <td>0.043915</td>\n",
              "      <td>0.482679</td>\n",
              "      <td>0.477638</td>\n",
              "      <td>0.241641</td>\n",
              "      <td>0.078142</td>\n",
              "      <td>0.722222</td>\n",
              "      <td>0.277778</td>\n",
              "      <td>0.333791</td>\n",
              "      <td>0.740000</td>\n",
              "      <td>0.100000</td>\n",
              "      <td>0.500000</td>\n",
              "      <td>0.800000</td>\n",
              "      <td>0.000000</td>\n",
              "      <td>5</td>\n",
              "      <td>0.025038</td>\n",
              "      <td>0.025001</td>\n",
              "      <td>0.151701</td>\n",
              "      <td>0.025000</td>\n",
              "      <td>0.773260</td>\n",
              "      <td>0.0</td>\n",
              "    </tr>\n",
              "    <tr>\n",
              "      <th>39640</th>\n",
              "      <td>0.476190</td>\n",
              "      <td>0.038707</td>\n",
              "      <td>0.000993</td>\n",
              "      <td>0.001362</td>\n",
              "      <td>0.029605</td>\n",
              "      <td>0.060345</td>\n",
              "      <td>0.023438</td>\n",
              "      <td>0.527473</td>\n",
              "      <td>0.547842</td>\n",
              "      <td>0.666667</td>\n",
              "      <td>0.004320</td>\n",
              "      <td>0.228846</td>\n",
              "      <td>0.078307</td>\n",
              "      <td>0.002490</td>\n",
              "      <td>0.564374</td>\n",
              "      <td>0.524255</td>\n",
              "      <td>0.254902</td>\n",
              "      <td>0.049458</td>\n",
              "      <td>0.812500</td>\n",
              "      <td>0.187500</td>\n",
              "      <td>0.374825</td>\n",
              "      <td>0.788889</td>\n",
              "      <td>0.300000</td>\n",
              "      <td>1.000000</td>\n",
              "      <td>0.400000</td>\n",
              "      <td>1.000000</td>\n",
              "      <td>4</td>\n",
              "      <td>0.029349</td>\n",
              "      <td>0.028575</td>\n",
              "      <td>0.231866</td>\n",
              "      <td>0.681635</td>\n",
              "      <td>0.028575</td>\n",
              "      <td>0.0</td>\n",
              "    </tr>\n",
              "    <tr>\n",
              "      <th>39641</th>\n",
              "      <td>0.380952</td>\n",
              "      <td>0.052160</td>\n",
              "      <td>0.000737</td>\n",
              "      <td>0.000991</td>\n",
              "      <td>0.078947</td>\n",
              "      <td>0.008621</td>\n",
              "      <td>0.093750</td>\n",
              "      <td>0.010989</td>\n",
              "      <td>0.631338</td>\n",
              "      <td>0.777778</td>\n",
              "      <td>0.003952</td>\n",
              "      <td>0.350824</td>\n",
              "      <td>0.096550</td>\n",
              "      <td>0.001660</td>\n",
              "      <td>0.510296</td>\n",
              "      <td>0.373005</td>\n",
              "      <td>0.218259</td>\n",
              "      <td>0.134573</td>\n",
              "      <td>0.576923</td>\n",
              "      <td>0.423077</td>\n",
              "      <td>0.307273</td>\n",
              "      <td>0.643561</td>\n",
              "      <td>0.454545</td>\n",
              "      <td>0.568182</td>\n",
              "      <td>0.090909</td>\n",
              "      <td>0.136364</td>\n",
              "      <td>0</td>\n",
              "      <td>0.159004</td>\n",
              "      <td>0.025025</td>\n",
              "      <td>0.025207</td>\n",
              "      <td>0.643794</td>\n",
              "      <td>0.146970</td>\n",
              "      <td>0.0</td>\n",
              "    </tr>\n",
              "    <tr>\n",
              "      <th>39642</th>\n",
              "      <td>0.190476</td>\n",
              "      <td>0.080481</td>\n",
              "      <td>0.000770</td>\n",
              "      <td>0.001066</td>\n",
              "      <td>0.032895</td>\n",
              "      <td>0.008621</td>\n",
              "      <td>0.007812</td>\n",
              "      <td>0.000000</td>\n",
              "      <td>0.618672</td>\n",
              "      <td>0.444444</td>\n",
              "      <td>0.000000</td>\n",
              "      <td>0.301909</td>\n",
              "      <td>0.040808</td>\n",
              "      <td>0.000536</td>\n",
              "      <td>0.358578</td>\n",
              "      <td>0.343872</td>\n",
              "      <td>0.132022</td>\n",
              "      <td>0.126860</td>\n",
              "      <td>0.466667</td>\n",
              "      <td>0.533333</td>\n",
              "      <td>0.236851</td>\n",
              "      <td>0.794754</td>\n",
              "      <td>0.000000</td>\n",
              "      <td>0.500000</td>\n",
              "      <td>1.000000</td>\n",
              "      <td>0.000000</td>\n",
              "      <td>6</td>\n",
              "      <td>0.040004</td>\n",
              "      <td>0.040003</td>\n",
              "      <td>0.839987</td>\n",
              "      <td>0.040002</td>\n",
              "      <td>0.040004</td>\n",
              "      <td>0.0</td>\n",
              "    </tr>\n",
              "    <tr>\n",
              "      <th>39643</th>\n",
              "      <td>0.380952</td>\n",
              "      <td>0.018527</td>\n",
              "      <td>0.001001</td>\n",
              "      <td>0.001302</td>\n",
              "      <td>0.003289</td>\n",
              "      <td>0.008621</td>\n",
              "      <td>0.000000</td>\n",
              "      <td>0.021978</td>\n",
              "      <td>0.556030</td>\n",
              "      <td>0.333333</td>\n",
              "      <td>0.000572</td>\n",
              "      <td>0.434246</td>\n",
              "      <td>0.075673</td>\n",
              "      <td>0.002490</td>\n",
              "      <td>0.517893</td>\n",
              "      <td>0.444584</td>\n",
              "      <td>0.409642</td>\n",
              "      <td>0.068884</td>\n",
              "      <td>0.833333</td>\n",
              "      <td>0.166667</td>\n",
              "      <td>0.247338</td>\n",
              "      <td>0.800000</td>\n",
              "      <td>0.333333</td>\n",
              "      <td>0.625000</td>\n",
              "      <td>0.333333</td>\n",
              "      <td>0.250000</td>\n",
              "      <td>2</td>\n",
              "      <td>0.050001</td>\n",
              "      <td>0.799339</td>\n",
              "      <td>0.050000</td>\n",
              "      <td>0.050659</td>\n",
              "      <td>0.050001</td>\n",
              "      <td>0.0</td>\n",
              "    </tr>\n",
              "  </tbody>\n",
              "</table>\n",
              "<p>39644 rows × 33 columns</p>\n",
              "</div>"
            ],
            "text/plain": [
              "       n_tokens_title  n_tokens_content  ...    LDA_04  is_weekend\n",
              "0            0.476190          0.025844  ...  0.040123         0.0\n",
              "1            0.333333          0.030092  ...  0.050001         0.0\n",
              "2            0.333333          0.024900  ...  0.682188         0.0\n",
              "3            0.333333          0.062662  ...  0.028572         0.0\n",
              "4            0.523810          0.126505  ...  0.885427         0.0\n",
              "...               ...               ...  ...       ...         ...\n",
              "39639        0.428571          0.040831  ...  0.773260         0.0\n",
              "39640        0.476190          0.038707  ...  0.028575         0.0\n",
              "39641        0.380952          0.052160  ...  0.146970         0.0\n",
              "39642        0.190476          0.080481  ...  0.040004         0.0\n",
              "39643        0.380952          0.018527  ...  0.050001         0.0\n",
              "\n",
              "[39644 rows x 33 columns]"
            ]
          },
          "metadata": {
            "tags": []
          },
          "execution_count": 95
        }
      ]
    },
    {
      "cell_type": "markdown",
      "metadata": {
        "id": "RcjECy1CcaAU"
      },
      "source": [
        "## Modélisation – prenez scikit-learnn essayez plusieurs algorithmes, changez les hyper paramètres, faites une grille de recherche, comparez les résultats de vos modèles"
      ]
    },
    {
      "cell_type": "markdown",
      "metadata": {
        "id": "bJE0VLQf-YaG"
      },
      "source": [
        "## 7. Tune classifier models (Knn, Adaboost, random forest)"
      ]
    },
    {
      "cell_type": "code",
      "metadata": {
        "colab": {
          "base_uri": "https://localhost:8080/"
        },
        "id": "TafMBb8IjCtK",
        "outputId": "ec3f5d94-8702-4ff7-fca4-aaff1c02699a"
      },
      "source": [
        "def print_time():\r\n",
        "    \"\"\"\r\n",
        "    Affiche et retourne l'heure de la machine.\r\n",
        "    Utilisé pour mesurer le temps d'execution du classifieur.\r\n",
        "    \"\"\"\r\n",
        "    import time\r\n",
        "    import datetime\r\n",
        "    t = datetime.datetime.now().time()\r\n",
        "    print(t.isoformat()[:8])\r\n",
        "    return time.time()\r\n",
        "print_time()"
      ],
      "execution_count": 96,
      "outputs": [
        {
          "output_type": "stream",
          "text": [
            "20:12:25\n"
          ],
          "name": "stdout"
        },
        {
          "output_type": "execute_result",
          "data": {
            "text/plain": [
              "1610309545.930348"
            ]
          },
          "metadata": {
            "tags": []
          },
          "execution_count": 96
        }
      ]
    },
    {
      "cell_type": "markdown",
      "metadata": {
        "id": "DX0IIP1j9U6t"
      },
      "source": [
        "Ici nous allons passé à la définition des modèles de classification.\r\n",
        "Nous avons décidé d'utiliser plusieurs modèles:\r\n",
        "\r\n",
        "\r\n",
        "*   Random Forest Classifier\r\n",
        "*   K Nearest Neighbors (KNN)\r\n",
        "*   Gradient Boost Classifier\r\n",
        "*   Adaboost\r\n",
        "\r\n"
      ]
    },
    {
      "cell_type": "code",
      "metadata": {
        "id": "lHeim-LGS_jM"
      },
      "source": [
        "X = data_set_strd\r\n",
        "y = shares_labels\r\n",
        "X_train, X_test, y_train, y_test = train_test_split(X, y, test_size=0.25, random_state=42)\r\n",
        "\r\n",
        "## use non-normalized data for knn because prediction not work for this model\r\n",
        "X_knn = onlineNewsPopularity_features\r\n",
        "y_knn = shares_labels\r\n",
        "X_train_knn, X_test_knn, y_train_knn, y_test_knn = train_test_split(X_knn, y_knn, test_size=0.25, random_state=42)\r\n",
        "\r\n"
      ],
      "execution_count": 97,
      "outputs": []
    },
    {
      "cell_type": "code",
      "metadata": {
        "colab": {
          "base_uri": "https://localhost:8080/"
        },
        "id": "NmuioNZiTEn7",
        "outputId": "e8b861c2-f8af-49c9-e721-b313032175dc"
      },
      "source": [
        "print(\"X_train shape = \" + str(X_train.shape))\r\n",
        "print(\"X_test shape = \" + str(X_test.shape))\r\n",
        "print(\"y_train shape = \" + str(y_train.shape))\r\n",
        "print(\"y_test shape = \" + str(y_test.shape))"
      ],
      "execution_count": 98,
      "outputs": [
        {
          "output_type": "stream",
          "text": [
            "X_train shape = (29733, 33)\n",
            "X_test shape = (9911, 33)\n",
            "y_train shape = (29733,)\n",
            "y_test shape = (9911,)\n"
          ],
          "name": "stdout"
        }
      ]
    },
    {
      "cell_type": "markdown",
      "metadata": {
        "id": "wQKSHvqGkAhw"
      },
      "source": [
        "### Random Forest Classifier"
      ]
    },
    {
      "cell_type": "code",
      "metadata": {
        "id": "hbjDMV2mTF5x"
      },
      "source": [
        "def RandomForest_grid_search(df, Y):\r\n",
        "    \"\"\"\r\n",
        "    Réglage des hyper-paramètres du classifieur Random Forest\r\n",
        "    \"\"\"\r\n",
        "    import sys, pickle\r\n",
        "    from sklearn.ensemble          import RandomForestClassifier\r\n",
        "    from sklearn.model_selection   import GridSearchCV\r\n",
        "    from sklearn.metrics           import make_scorer\r\n",
        "    from sklearn.preprocessing     import label_binarize\r\n",
        "    from sklearn.multiclass        import OneVsRestClassifier\r\n",
        "    #grid search :\r\n",
        "\r\n",
        "    parameters = {\r\n",
        "                  \"criterion\": [\"entropy\"],\r\n",
        "                  'max_samples' : [3000,6000,8000],\r\n",
        "                  'max_features' : [5,8,9,18,19],\r\n",
        "                  'max_depth' : [12,15,18,21]\r\n",
        "                  }\r\n",
        "    \r\n",
        "    grid_type = \"RandomForestClassifier\"\r\n",
        "    \r\n",
        "    print (\"-\"*30, \"\\n %s\"%grid_type); sys.stdout.flush()\r\n",
        "    \"\"\"\r\n",
        "        Search \r\n",
        "    \"\"\"\r\n",
        "    \r\n",
        "    # Exhaustive Grid Search : will try all parameters combinations\r\n",
        "    # vs RandomizedSeachCV where the model test random combinations.\r\n",
        "    \r\n",
        "    grid         = GridSearchCV(RandomForestClassifier(), parameters, verbose=10, n_jobs=-1)\r\n",
        "    \r\n",
        "    try :grid.fit(df, Y)\r\n",
        "    except Exception as e : print (\"[%s - 2] : %s\"%(grid_type,e) )\r\n",
        "    \r\n",
        "    print (\" best_score_ %s with =  %s \"%( grid.best_score_,  grid.best_estimator_ ) ); sys.stdout.flush()    \r\n",
        "    return grid.best_estimator_"
      ],
      "execution_count": 99,
      "outputs": []
    },
    {
      "cell_type": "code",
      "metadata": {
        "id": "2XMADIviUBmu",
        "colab": {
          "base_uri": "https://localhost:8080/"
        },
        "outputId": "afe9a9e3-07b1-4999-ba27-9c1aa4cc2b55"
      },
      "source": [
        "# Apprentissage du classifieur RF sur le training data\r\n",
        "start_time = print_time()\r\n",
        "rf = RandomForest_grid_search(X_train, y_train)\r\n",
        "end_time = print_time()\r\n",
        "print (\"\\nDuration time :\", end_time - start_time)"
      ],
      "execution_count": 100,
      "outputs": [
        {
          "output_type": "stream",
          "text": [
            "20:12:26\n",
            "------------------------------ \n",
            " RandomForestClassifier\n",
            "Fitting 5 folds for each of 60 candidates, totalling 300 fits\n"
          ],
          "name": "stdout"
        },
        {
          "output_type": "stream",
          "text": [
            "[Parallel(n_jobs=-1)]: Using backend LokyBackend with 2 concurrent workers.\n",
            "[Parallel(n_jobs=-1)]: Done   1 tasks      | elapsed:    5.7s\n",
            "[Parallel(n_jobs=-1)]: Done   4 tasks      | elapsed:    9.9s\n",
            "[Parallel(n_jobs=-1)]: Done   9 tasks      | elapsed:   27.8s\n",
            "[Parallel(n_jobs=-1)]: Done  14 tasks      | elapsed:   48.8s\n",
            "[Parallel(n_jobs=-1)]: Done  21 tasks      | elapsed:  1.3min\n",
            "[Parallel(n_jobs=-1)]: Done  28 tasks      | elapsed:  1.9min\n",
            "[Parallel(n_jobs=-1)]: Done  37 tasks      | elapsed:  2.6min\n",
            "[Parallel(n_jobs=-1)]: Done  46 tasks      | elapsed:  3.6min\n",
            "[Parallel(n_jobs=-1)]: Done  57 tasks      | elapsed:  5.5min\n",
            "[Parallel(n_jobs=-1)]: Done  68 tasks      | elapsed:  7.3min\n",
            "[Parallel(n_jobs=-1)]: Done  81 tasks      | elapsed:  9.1min\n",
            "[Parallel(n_jobs=-1)]: Done  94 tasks      | elapsed: 10.0min\n",
            "[Parallel(n_jobs=-1)]: Done 109 tasks      | elapsed: 11.4min\n",
            "[Parallel(n_jobs=-1)]: Done 124 tasks      | elapsed: 13.1min\n",
            "[Parallel(n_jobs=-1)]: Done 141 tasks      | elapsed: 16.5min\n",
            "[Parallel(n_jobs=-1)]: Done 158 tasks      | elapsed: 19.0min\n",
            "[Parallel(n_jobs=-1)]: Done 177 tasks      | elapsed: 20.8min\n",
            "[Parallel(n_jobs=-1)]: Done 196 tasks      | elapsed: 22.9min\n",
            "[Parallel(n_jobs=-1)]: Done 217 tasks      | elapsed: 26.8min\n",
            "[Parallel(n_jobs=-1)]: Done 238 tasks      | elapsed: 29.9min\n",
            "[Parallel(n_jobs=-1)]: Done 261 tasks      | elapsed: 32.1min\n",
            "[Parallel(n_jobs=-1)]: Done 284 tasks      | elapsed: 36.2min\n",
            "[Parallel(n_jobs=-1)]: Done 300 out of 300 | elapsed: 39.6min finished\n"
          ],
          "name": "stderr"
        },
        {
          "output_type": "stream",
          "text": [
            " best_score_ 0.6602762851199724 with =  RandomForestClassifier(bootstrap=True, ccp_alpha=0.0, class_weight=None,\n",
            "                       criterion='entropy', max_depth=18, max_features=8,\n",
            "                       max_leaf_nodes=None, max_samples=6000,\n",
            "                       min_impurity_decrease=0.0, min_impurity_split=None,\n",
            "                       min_samples_leaf=1, min_samples_split=2,\n",
            "                       min_weight_fraction_leaf=0.0, n_estimators=100,\n",
            "                       n_jobs=None, oob_score=False, random_state=None,\n",
            "                       verbose=0, warm_start=False) \n",
            "20:52:12\n",
            "\n",
            "Duration time : 2386.3439910411835\n"
          ],
          "name": "stdout"
        }
      ]
    },
    {
      "cell_type": "markdown",
      "metadata": {
        "id": "3qW1h-nskGrv"
      },
      "source": [
        "### K Nearest Neighbors"
      ]
    },
    {
      "cell_type": "code",
      "metadata": {
        "id": "Msmn-INSUe3y"
      },
      "source": [
        "def knn_grid_search(df, Y):\r\n",
        "    \"\"\"\r\n",
        "    Réglage des hyper-paramètres du classifieur K Nearest Neighbors\r\n",
        "    Plusieurs hyper-paramètres sont disponibles\r\n",
        "    L'entrainement du modèle va s'effectuer sur plusieurs paramètres\r\n",
        "    Le best_score représentera le modèle avec les meilleurs paramètres\r\n",
        "    \"\"\"\r\n",
        "    import sys\r\n",
        "    from sklearn.model_selection   import GridSearchCV\r\n",
        "    from sklearn.neighbors         import KNeighborsClassifier\r\n",
        "    \r\n",
        "    import pickle\r\n",
        "\r\n",
        "    parameters = {  \"n_neighbors\"    : [10, 50, 100]                         , \r\n",
        "                    \"weights\"         : ['uniform', 'distance']                  ,\r\n",
        "                    \"algorithm\"      : ['auto', 'ball_tree', 'kd_tree', 'brute'] , \r\n",
        "                    \"leaf_size\"      : [1,3 ]                                    }\r\n",
        "    \r\n",
        "    \r\n",
        "    grid_type = \"knn_grid_search\"\r\n",
        "    print (\"-\"*30, \"\\n %s\"%grid_type); sys.stdout.flush()\r\n",
        "    \"\"\"\r\n",
        "        Search Grid\r\n",
        "    \"\"\"\r\n",
        "    print (parameters);sys.stdout.flush()\r\n",
        "    grid    = GridSearchCV(KNeighborsClassifier(), parameters, verbose=10, n_jobs=-1, scoring='f1_weighted')\r\n",
        "    try :grid.fit(df, Y)\r\n",
        "    except Exception as e : print (\"Error : [%s - 2] : %s\"%(grid_type,e) ); return -1\r\n",
        "\r\n",
        "    \r\n",
        "    print (\" best_score_ = %.2f with =  %s \"%(grid.best_score_, grid.best_estimator_ ) ); sys.stdout.flush()    \r\n",
        "    return grid"
      ],
      "execution_count": 101,
      "outputs": []
    },
    {
      "cell_type": "code",
      "metadata": {
        "id": "WO609m2fs5-7",
        "colab": {
          "base_uri": "https://localhost:8080/"
        },
        "outputId": "f38d506d-bb53-4253-c084-48da3ebec1a8"
      },
      "source": [
        "# Apprentissage du classifieur RF sur le training data\r\n",
        "start_time = print_time()\r\n",
        "knn = knn_grid_search(X_train_knn, y_train_knn)\r\n",
        "end_time = print_time()\r\n",
        "print (\"\\nDuration time :\", end_time - start_time)"
      ],
      "execution_count": 102,
      "outputs": [
        {
          "output_type": "stream",
          "text": [
            "20:52:12\n",
            "------------------------------ \n",
            " knn_grid_search\n",
            "{'n_neighbors': [10, 50, 100], 'weights': ['uniform', 'distance'], 'algorithm': ['auto', 'ball_tree', 'kd_tree', 'brute'], 'leaf_size': [1, 3]}\n",
            "Fitting 5 folds for each of 48 candidates, totalling 240 fits\n"
          ],
          "name": "stdout"
        },
        {
          "output_type": "stream",
          "text": [
            "[Parallel(n_jobs=-1)]: Using backend LokyBackend with 2 concurrent workers.\n",
            "[Parallel(n_jobs=-1)]: Done   1 tasks      | elapsed:    1.6s\n",
            "[Parallel(n_jobs=-1)]: Done   4 tasks      | elapsed:    3.1s\n",
            "[Parallel(n_jobs=-1)]: Done   9 tasks      | elapsed:    6.6s\n",
            "[Parallel(n_jobs=-1)]: Done  14 tasks      | elapsed:   11.9s\n",
            "[Parallel(n_jobs=-1)]: Done  21 tasks      | elapsed:   22.8s\n",
            "[Parallel(n_jobs=-1)]: Done  28 tasks      | elapsed:   33.9s\n",
            "[Parallel(n_jobs=-1)]: Done  37 tasks      | elapsed:   41.2s\n",
            "[Parallel(n_jobs=-1)]: Done  46 tasks      | elapsed:   46.6s\n",
            "[Parallel(n_jobs=-1)]: Done  57 tasks      | elapsed:   57.0s\n",
            "[Parallel(n_jobs=-1)]: Done  68 tasks      | elapsed:  1.1min\n",
            "[Parallel(n_jobs=-1)]: Done  81 tasks      | elapsed:  1.3min\n",
            "[Parallel(n_jobs=-1)]: Done  94 tasks      | elapsed:  1.5min\n",
            "[Parallel(n_jobs=-1)]: Done 109 tasks      | elapsed:  1.6min\n",
            "[Parallel(n_jobs=-1)]: Done 124 tasks      | elapsed:  1.8min\n",
            "[Parallel(n_jobs=-1)]: Done 141 tasks      | elapsed:  2.2min\n",
            "[Parallel(n_jobs=-1)]: Done 158 tasks      | elapsed:  2.5min\n",
            "[Parallel(n_jobs=-1)]: Done 177 tasks      | elapsed:  2.7min\n",
            "/usr/local/lib/python3.6/dist-packages/joblib/externals/loky/process_executor.py:691: UserWarning: A worker stopped while some jobs were given to the executor. This can be caused by a too short worker timeout or by a memory leak.\n",
            "  \"timeout or by a memory leak.\", UserWarning\n",
            "[Parallel(n_jobs=-1)]: Done 196 tasks      | elapsed:  3.4min\n",
            "[Parallel(n_jobs=-1)]: Done 217 tasks      | elapsed:  4.2min\n",
            "[Parallel(n_jobs=-1)]: Done 240 out of 240 | elapsed:  4.9min finished\n"
          ],
          "name": "stderr"
        },
        {
          "output_type": "stream",
          "text": [
            " best_score_ = 0.60 with =  KNeighborsClassifier(algorithm='auto', leaf_size=1, metric='minkowski',\n",
            "                     metric_params=None, n_jobs=None, n_neighbors=100, p=2,\n",
            "                     weights='distance') \n",
            "20:57:08\n",
            "\n",
            "Duration time : 296.0129289627075\n"
          ],
          "name": "stdout"
        }
      ]
    },
    {
      "cell_type": "markdown",
      "metadata": {
        "id": "-3rFRtwskKWy"
      },
      "source": [
        "### Gradient Boost Classifier"
      ]
    },
    {
      "cell_type": "code",
      "metadata": {
        "id": "pawdQG8bUhcc"
      },
      "source": [
        "def gbc_grid_search(df, Y):\r\n",
        "    \"\"\"\r\n",
        "    Réglage des hyper-paramètres du Classifier Gradient Boosting\r\n",
        "    \"\"\"\r\n",
        "    import sys\r\n",
        "    from sklearn.model_selection   import GridSearchCV\r\n",
        "    from sklearn.neighbors         import KNeighborsClassifier\r\n",
        "    from sklearn import ensemble\r\n",
        "    from sklearn import datasets\r\n",
        "    from sklearn.utils import shuffle\r\n",
        "    from sklearn.metrics import mean_squared_error\r\n",
        "    from sklearn.datasets import make_hastie_10_2\r\n",
        "    from sklearn.ensemble import GradientBoostingClassifier\r\n",
        "    \r\n",
        "    import pickle\r\n",
        "\r\n",
        "    parameters = {'learning_rate': [0.01, 0.075],\r\n",
        "                  'subsample'    : [0.9,],\r\n",
        "                  'n_estimators' : [10, 20, 30],\r\n",
        "                  'max_depth'    : [4, 8] \r\n",
        "                 }\r\n",
        "    \r\n",
        "    grid_type = \"gbc_grid_search\"\r\n",
        "    print (\"-\"*30, \"\\n %s\"%grid_type); sys.stdout.flush()\r\n",
        "    \"\"\"\r\n",
        "        Search Grid\r\n",
        "    \"\"\"\r\n",
        "    print (parameters);sys.stdout.flush()\r\n",
        "    \r\n",
        "    \r\n",
        "    grid = GridSearchCV(GradientBoostingClassifier(), parameters, n_jobs=-1, verbose=10)\r\n",
        "    try :grid.fit(df, Y)\r\n",
        "    except Exception as e : print (\"Error : [%s - 2] : %s\"%(grid_type,e) ); return -1\r\n",
        "    print (\" best_score_ = %.2f with =  %s \"%(grid.best_score_, grid.best_estimator_ ) ); sys.stdout.flush()    \r\n",
        "    return grid"
      ],
      "execution_count": 103,
      "outputs": []
    },
    {
      "cell_type": "code",
      "metadata": {
        "id": "HTgWTbUfs6gC",
        "colab": {
          "base_uri": "https://localhost:8080/"
        },
        "outputId": "5acf5cfa-0ae0-4ec3-f011-30c570961e3d"
      },
      "source": [
        "# Apprentissage du classifieur RF sur le training data\r\n",
        "start_time = print_time()\r\n",
        "gbc = gbc_grid_search(X_train, y_train)\r\n",
        "end_time = print_time()\r\n",
        "print (\"\\nDuration time :\", end_time - start_time)"
      ],
      "execution_count": 104,
      "outputs": [
        {
          "output_type": "stream",
          "text": [
            "20:57:08\n",
            "------------------------------ \n",
            " gbc_grid_search\n",
            "{'learning_rate': [0.01, 0.075], 'subsample': [0.9], 'n_estimators': [10, 20, 30], 'max_depth': [4, 8]}\n",
            "Fitting 5 folds for each of 12 candidates, totalling 60 fits\n"
          ],
          "name": "stdout"
        },
        {
          "output_type": "stream",
          "text": [
            "[Parallel(n_jobs=-1)]: Using backend LokyBackend with 2 concurrent workers.\n",
            "[Parallel(n_jobs=-1)]: Done   1 tasks      | elapsed:    3.4s\n",
            "[Parallel(n_jobs=-1)]: Done   4 tasks      | elapsed:    7.0s\n",
            "[Parallel(n_jobs=-1)]: Done   9 tasks      | elapsed:   23.9s\n",
            "[Parallel(n_jobs=-1)]: Done  14 tasks      | elapsed:   47.9s\n",
            "[Parallel(n_jobs=-1)]: Done  21 tasks      | elapsed:  1.4min\n",
            "[Parallel(n_jobs=-1)]: Done  28 tasks      | elapsed:  2.2min\n",
            "[Parallel(n_jobs=-1)]: Done  37 tasks      | elapsed:  2.8min\n",
            "[Parallel(n_jobs=-1)]: Done  46 tasks      | elapsed:  3.4min\n",
            "[Parallel(n_jobs=-1)]: Done  57 tasks      | elapsed:  4.7min\n",
            "[Parallel(n_jobs=-1)]: Done  60 out of  60 | elapsed:  5.1min finished\n"
          ],
          "name": "stderr"
        },
        {
          "output_type": "stream",
          "text": [
            " best_score_ = 0.66 with =  GradientBoostingClassifier(ccp_alpha=0.0, criterion='friedman_mse', init=None,\n",
            "                           learning_rate=0.075, loss='deviance', max_depth=8,\n",
            "                           max_features=None, max_leaf_nodes=None,\n",
            "                           min_impurity_decrease=0.0, min_impurity_split=None,\n",
            "                           min_samples_leaf=1, min_samples_split=2,\n",
            "                           min_weight_fraction_leaf=0.0, n_estimators=30,\n",
            "                           n_iter_no_change=None, presort='deprecated',\n",
            "                           random_state=None, subsample=0.9, tol=0.0001,\n",
            "                           validation_fraction=0.1, verbose=0,\n",
            "                           warm_start=False) \n",
            "21:02:30\n",
            "\n",
            "Duration time : 321.73666858673096\n"
          ],
          "name": "stdout"
        }
      ]
    },
    {
      "cell_type": "markdown",
      "metadata": {
        "id": "8giI7pxo1HuC"
      },
      "source": [
        "### Adaboost"
      ]
    },
    {
      "cell_type": "code",
      "metadata": {
        "id": "AnyXjiOH1KZh"
      },
      "source": [
        "def adaboost_grid_search(df, Y):\r\n",
        "    \"\"\"\r\n",
        "    Réglage des hyper-paramètres du classifier adaboost\r\n",
        "    \"\"\"\r\n",
        "    import sys\r\n",
        "    from sklearn.model_selection   import GridSearchCV\r\n",
        "    from sklearn.ensemble import AdaBoostClassifier\r\n",
        "    from sklearn import ensemble\r\n",
        "    from sklearn import datasets\r\n",
        "    from sklearn.utils import shuffle\r\n",
        "    from sklearn.metrics import mean_squared_error\r\n",
        "    from sklearn.datasets import make_hastie_10_2\r\n",
        "    from sklearn.ensemble import GradientBoostingClassifier\r\n",
        "    \r\n",
        "    import pickle\r\n",
        "\r\n",
        "    parameters = {'learning_rate': [0.01, 0.1, 0.5],\r\n",
        "                  'n_estimators' : [10, 20, 30],\r\n",
        "                 }\r\n",
        "    \r\n",
        "    grid_type = \"ada_grid_search\"\r\n",
        "    print (\"-\"*30, \"\\n %s\"%grid_type); sys.stdout.flush()\r\n",
        "    \"\"\"\r\n",
        "        Search Grid\r\n",
        "    \"\"\"\r\n",
        "    print (parameters);sys.stdout.flush()\r\n",
        "    \r\n",
        "    grid = GridSearchCV(AdaBoostClassifier(), parameters, n_jobs=-1, verbose=10)\r\n",
        "    try :grid.fit(df, Y)\r\n",
        "    except Exception as e : print (\"Error : [%s - 2] : %s\"%(grid_type,e) ); return -1\r\n",
        "    print (\" best_score_ = %.2f with =  %s \"%(grid.best_score_, grid.best_estimator_ ) ); sys.stdout.flush()    \r\n",
        "    return grid"
      ],
      "execution_count": 105,
      "outputs": []
    },
    {
      "cell_type": "code",
      "metadata": {
        "id": "_4qHIT9Y15zU",
        "colab": {
          "base_uri": "https://localhost:8080/"
        },
        "outputId": "737bac05-94ca-44af-9a83-df10a6fe0508"
      },
      "source": [
        "# Apprentissage du classifieur RF sur le training data\r\n",
        "start_time = print_time()\r\n",
        "ada = adaboost_grid_search(X_train, y_train)\r\n",
        "end_time = print_time()\r\n",
        "print (\"\\nDuration time :\", end_time - start_time)"
      ],
      "execution_count": 106,
      "outputs": [
        {
          "output_type": "stream",
          "text": [
            "21:02:30\n",
            "------------------------------ \n",
            " ada_grid_search\n",
            "{'learning_rate': [0.01, 0.1, 0.5], 'n_estimators': [10, 20, 30]}\n",
            "Fitting 5 folds for each of 9 candidates, totalling 45 fits\n"
          ],
          "name": "stdout"
        },
        {
          "output_type": "stream",
          "text": [
            "[Parallel(n_jobs=-1)]: Using backend LokyBackend with 2 concurrent workers.\n",
            "[Parallel(n_jobs=-1)]: Done   1 tasks      | elapsed:    1.3s\n",
            "[Parallel(n_jobs=-1)]: Done   4 tasks      | elapsed:    2.5s\n",
            "[Parallel(n_jobs=-1)]: Done   9 tasks      | elapsed:    8.5s\n",
            "[Parallel(n_jobs=-1)]: Done  14 tasks      | elapsed:   17.0s\n",
            "[Parallel(n_jobs=-1)]: Done  21 tasks      | elapsed:   23.0s\n",
            "[Parallel(n_jobs=-1)]: Done  28 tasks      | elapsed:   33.7s\n",
            "[Parallel(n_jobs=-1)]: Done  37 tasks      | elapsed:   42.1s\n",
            "[Parallel(n_jobs=-1)]: Done  45 out of  45 | elapsed:   54.5s finished\n"
          ],
          "name": "stderr"
        },
        {
          "output_type": "stream",
          "text": [
            " best_score_ = 0.65 with =  AdaBoostClassifier(algorithm='SAMME.R', base_estimator=None, learning_rate=0.5,\n",
            "                   n_estimators=30, random_state=None) \n",
            "21:03:27\n",
            "\n",
            "Duration time : 57.695377826690674\n"
          ],
          "name": "stdout"
        }
      ]
    },
    {
      "cell_type": "markdown",
      "metadata": {
        "id": "fR9L9s7tOonk"
      },
      "source": [
        "## 8. Analyse des modèles (RFC, SVM, KNN, GBC)"
      ]
    },
    {
      "cell_type": "markdown",
      "metadata": {
        "id": "akMFXshGJWbC"
      },
      "source": [
        "#### Define models with best parameters"
      ]
    },
    {
      "cell_type": "code",
      "metadata": {
        "id": "F3sb9vfeJdUG"
      },
      "source": [
        "# we now define models with best params to not repeat gridSearch everytime when load the ipynb\r\n",
        "\r\n",
        "from sklearn.ensemble import RandomForestClassifier\r\n",
        "from sklearn.ensemble import AdaBoostClassifier\r\n",
        "from sklearn.ensemble import GradientBoostingClassifier\r\n",
        "from sklearn.neighbors import KNeighborsClassifier\r\n",
        "\r\n",
        "# load random forest model with best params\r\n",
        "rf = RandomForestClassifier(bootstrap=True, ccp_alpha=0.0, class_weight=None,\r\n",
        "                       criterion='entropy', max_depth=18, max_features=8,\r\n",
        "                       max_leaf_nodes=None, max_samples=6000,\r\n",
        "                       min_impurity_decrease=0.0, min_impurity_split=None,\r\n",
        "                       min_samples_leaf=1, min_samples_split=2,\r\n",
        "                       min_weight_fraction_leaf=0.0, n_estimators=100,\r\n",
        "                       n_jobs=None, oob_score=False, random_state=None,\r\n",
        "                       verbose=0, warm_start=False)\r\n",
        "\r\n",
        "\r\n",
        "# load knn model with best params\r\n",
        "knn = KNeighborsClassifier(algorithm='auto', leaf_size=1, metric='minkowski',\r\n",
        "                     metric_params=None, n_jobs=None, n_neighbors=100, p=2,\r\n",
        "                     weights='distance')\r\n",
        "\r\n",
        "# load gradient model with best params\r\n",
        "gbc = GradientBoostingClassifier(ccp_alpha=0.0, criterion='friedman_mse', init=None,\r\n",
        "                           learning_rate=0.075, loss='deviance', max_depth=8,\r\n",
        "                           max_features=None, max_leaf_nodes=None,\r\n",
        "                           min_impurity_decrease=0.0, min_impurity_split=None,\r\n",
        "                           min_samples_leaf=1, min_samples_split=2,\r\n",
        "                           min_weight_fraction_leaf=0.0, n_estimators=30,\r\n",
        "                           n_iter_no_change=None, presort='deprecated',\r\n",
        "                           random_state=None, subsample=0.9, tol=0.0001,\r\n",
        "                           validation_fraction=0.1, verbose=0,\r\n",
        "                           warm_start=False)\r\n",
        "\r\n",
        "# load adaboost model with best params\r\n",
        "ada = AdaBoostClassifier(algorithm='SAMME.R', base_estimator=None, learning_rate=0.5,\r\n",
        "                   n_estimators=30, random_state=None)"
      ],
      "execution_count": 107,
      "outputs": []
    },
    {
      "cell_type": "code",
      "metadata": {
        "colab": {
          "base_uri": "https://localhost:8080/"
        },
        "id": "HUGlvZHDooyn",
        "outputId": "b43a184c-9ec2-40c0-f140-48c358beed7a"
      },
      "source": [
        "# fit all models\r\n",
        "rf.fit(X_train, y_train)\r\n",
        "knn.fit(X_train_knn, y_train_knn)\r\n",
        "gbc.fit(X_train, y_train)\r\n",
        "ada.fit(X_train, y_train)"
      ],
      "execution_count": 108,
      "outputs": [
        {
          "output_type": "execute_result",
          "data": {
            "text/plain": [
              "AdaBoostClassifier(algorithm='SAMME.R', base_estimator=None, learning_rate=0.5,\n",
              "                   n_estimators=30, random_state=None)"
            ]
          },
          "metadata": {
            "tags": []
          },
          "execution_count": 108
        }
      ]
    },
    {
      "cell_type": "markdown",
      "metadata": {
        "id": "sXgufV8HZxSP"
      },
      "source": [
        "#### Confusion matrix and ROC curve"
      ]
    },
    {
      "cell_type": "code",
      "metadata": {
        "id": "zTi263jtOizt"
      },
      "source": [
        "def draw_confusion_matrix(y_test, predictions, title):\r\n",
        "    \"\"\"\r\n",
        "    Créé et affiche la matrice de confusion des données de Y_test et de celles sur lesquelles on a fait la prédiction.\r\n",
        "    Permet d'évaluer la qualité de la classification souhaitée.\r\n",
        "    Plus les valeurs diagonales sont élevées, plus le classifieur prédit correctement.\r\n",
        "    \"\"\"\r\n",
        "    from sklearn.metrics import confusion_matrix,accuracy_score\r\n",
        "    import matplotlib.pyplot as plt\r\n",
        "    cm    = confusion_matrix(y_test, predictions)\r\n",
        "    accur = accuracy_score(y_test, predictions)\r\n",
        "    \r\n",
        "    plt.matshow(cm)\r\n",
        "    plt.ylabel('True Label')\r\n",
        "    plt.xlabel('Predicted Label')\r\n",
        "    plt.suptitle('Confusion matrix (Accuracy of %.2f) for [%s]'%(accur,title))\r\n",
        "    plt.colorbar()\r\n",
        "    plt.show()"
      ],
      "execution_count": 109,
      "outputs": []
    },
    {
      "cell_type": "code",
      "metadata": {
        "id": "ISNdW33lfdO0"
      },
      "source": [
        "def draw_roc_curve(fitted_c, x_test, y_test, title):\r\n",
        "    \"\"\"\r\n",
        "    Créé et affiche la courbe ROC des données de test X et Y selon un classifieur.\r\n",
        "    Permet de représenter l'évolution de la vitesse d'apprentissage du classifieur.\r\n",
        "    Plus l'aire sous la courbe est grande, plus le classifieur est idéal.\r\n",
        "    \"\"\"\r\n",
        "    from sklearn.metrics import roc_curve, auc\r\n",
        "    import matplotlib.pyplot as plt\r\n",
        "    c                                        = fitted_c\r\n",
        "    probas                                   = c.predict_proba(x_test)\r\n",
        "    false_positive_rate, recall_, thresholds = roc_curve(y_test, probas[:,1])\r\n",
        "    roc_auc                                  = auc(false_positive_rate, recall_)\r\n",
        "    \r\n",
        "    plt.title('ROC %.2f %s'%(roc_auc, title))\r\n",
        "    plt.legend(loc=\"lower right\")\r\n",
        "    plt.plot([0,1],[0,1], \"r--\")\r\n",
        "    plt.plot(false_positive_rate, recall_, 'b', label='AUC = %.2f'%roc_auc)\r\n",
        "    plt.xlim([0.0,1.1])\r\n",
        "    plt.ylim([0.0,1.1])\r\n",
        "    plt.ylabel('Recall')\r\n",
        "    plt.xlabel('Fall-out')\r\n",
        "    plt.show()"
      ],
      "execution_count": 110,
      "outputs": []
    },
    {
      "cell_type": "code",
      "metadata": {
        "colab": {
          "base_uri": "https://localhost:8080/",
          "height": 582
        },
        "id": "nPXtKbHBOoIF",
        "outputId": "0501b061-029d-4510-92a8-af72667e74ba"
      },
      "source": [
        "# matrice de confusion KNN\r\n",
        "\r\n",
        "draw_confusion_matrix(y_test_knn, knn.predict(X_test_knn), \"\")\r\n",
        "draw_roc_curve(knn, X_test_knn, y_test_knn, \"share prediction by knn\")"
      ],
      "execution_count": 111,
      "outputs": [
        {
          "output_type": "display_data",
          "data": {
            "image/png": "[encoded data removed]",
            "text/plain": [
              "<Figure size 288x288 with 2 Axes>"
            ]
          },
          "metadata": {
            "tags": [],
            "needs_background": "light"
          }
        },
        {
          "output_type": "stream",
          "text": [
            "No handles with labels found to put in legend.\n"
          ],
          "name": "stderr"
        },
        {
          "output_type": "display_data",
          "data": {
            "image/png": "[encoded data removed]",
            "text/plain": [
              "<Figure size 432x288 with 1 Axes>"
            ]
          },
          "metadata": {
            "tags": [],
            "needs_background": "light"
          }
        }
      ]
    },
    {
      "cell_type": "code",
      "metadata": {
        "colab": {
          "base_uri": "https://localhost:8080/",
          "height": 582
        },
        "id": "182Txn7TnWDs",
        "outputId": "59a0c493-2d34-409c-c7bc-00c1058f016f"
      },
      "source": [
        "# matrice de confusion gradient boosting classifier\r\n",
        "\r\n",
        "draw_confusion_matrix(y_test, gbc.predict(X_test), \"\")\r\n",
        "draw_roc_curve(gbc, X_test, y_test, \"share prediction by gradient boosting\")"
      ],
      "execution_count": 112,
      "outputs": [
        {
          "output_type": "display_data",
          "data": {
            "image/png": "[encoded data removed]",
            "text/plain": [
              "<Figure size 288x288 with 2 Axes>"
            ]
          },
          "metadata": {
            "tags": [],
            "needs_background": "light"
          }
        },
        {
          "output_type": "stream",
          "text": [
            "No handles with labels found to put in legend.\n"
          ],
          "name": "stderr"
        },
        {
          "output_type": "display_data",
          "data": {
            "image/png": "[encoded data removed]",
            "text/plain": [
              "<Figure size 432x288 with 1 Axes>"
            ]
          },
          "metadata": {
            "tags": [],
            "needs_background": "light"
          }
        }
      ]
    },
    {
      "cell_type": "code",
      "metadata": {
        "colab": {
          "base_uri": "https://localhost:8080/",
          "height": 582
        },
        "id": "M5gxReBmnb6K",
        "outputId": "a62632e3-46be-477f-eac1-b4170a12c23a"
      },
      "source": [
        "# matrice de confusion random forest\r\n",
        "draw_confusion_matrix(y_test, rf.predict(X_test), \"\")\r\n",
        "draw_roc_curve(rf, X_test, y_test, \"share prediction by Random Forest\")"
      ],
      "execution_count": 113,
      "outputs": [
        {
          "output_type": "display_data",
          "data": {
            "image/png": "[encoded data removed]",
            "text/plain": [
              "<Figure size 288x288 with 2 Axes>"
            ]
          },
          "metadata": {
            "tags": [],
            "needs_background": "light"
          }
        },
        {
          "output_type": "stream",
          "text": [
            "No handles with labels found to put in legend.\n"
          ],
          "name": "stderr"
        },
        {
          "output_type": "display_data",
          "data": {
            "image/png": "[encoded data removed]",
            "text/plain": [
              "<Figure size 432x288 with 1 Axes>"
            ]
          },
          "metadata": {
            "tags": [],
            "needs_background": "light"
          }
        }
      ]
    },
    {
      "cell_type": "code",
      "metadata": {
        "colab": {
          "base_uri": "https://localhost:8080/",
          "height": 582
        },
        "id": "f2TjvznQ5eT0",
        "outputId": "2cf59c30-b4d8-4fea-cd3b-acaf56f02ce7"
      },
      "source": [
        "# matrice de confusion adaboost\r\n",
        "\r\n",
        "draw_confusion_matrix(y_test, ada.predict(X_test), \"\")\r\n",
        "draw_roc_curve(ada, X_test, y_test, \"share prediction by Adaboost\")\r\n"
      ],
      "execution_count": 114,
      "outputs": [
        {
          "output_type": "display_data",
          "data": {
            "image/png": "[encoded data removed]",
            "text/plain": [
              "<Figure size 288x288 with 2 Axes>"
            ]
          },
          "metadata": {
            "tags": [],
            "needs_background": "light"
          }
        },
        {
          "output_type": "stream",
          "text": [
            "No handles with labels found to put in legend.\n"
          ],
          "name": "stderr"
        },
        {
          "output_type": "display_data",
          "data": {
            "image/png": "[encoded data removed]",
            "text/plain": [
              "<Figure size 432x288 with 1 Axes>"
            ]
          },
          "metadata": {
            "tags": [],
            "needs_background": "light"
          }
        }
      ]
    },
    {
      "cell_type": "markdown",
      "metadata": {
        "id": "FW9oFZccZIdl"
      },
      "source": [
        "Nos meilleures prédictions sont faites avec le random forest classifier et le gradient boost classifier.\r\n",
        "Elles ont une accuracy de seulement 66%. Cela est un peu en dessous des résultats obtenue par [K. Fernandes](https://www.researchgate.net/publication/283510525_A_Proactive_Intelligent_Decision_Support_System_for_Predicting_the_Popularity_of_Online_News) aillant travailler sur ce dataset.\r\n",
        "\r\n"
      ]
    },
    {
      "cell_type": "markdown",
      "metadata": {
        "id": "RbHFy8hegBcw"
      },
      "source": [
        "On peut remarquer que la plupart des modèles peuvent être améliorés (jusqu'a 72% environs)"
      ]
    },
    {
      "cell_type": "markdown",
      "metadata": {
        "id": "EPRdwzDJwqJY"
      },
      "source": [
        "## 9. Save best model and test data to CSV"
      ]
    },
    {
      "cell_type": "code",
      "metadata": {
        "id": "TpTUdmMzws_K"
      },
      "source": [
        "import pickle"
      ],
      "execution_count": 115,
      "outputs": []
    },
    {
      "cell_type": "code",
      "metadata": {
        "id": "CoiIoyIPwxe-"
      },
      "source": [
        "# save the model to disk\r\n",
        "filename = 'best_model.pkl'\r\n",
        "## Sauvegarde du random forest classifier car il nous donne les meilleurs résultats.\r\n",
        "pickle.dump(rf, open(filename, 'wb'))"
      ],
      "execution_count": 116,
      "outputs": []
    },
    {
      "cell_type": "code",
      "metadata": {
        "id": "kloWUnepzskF"
      },
      "source": [
        "# Sauvegarde des donnees de train sur lesquelles le dataset ne s'est pas entrainé\r\n",
        "# Nous allons utilisé ce fichier dans l'api afin de faire des prédictions sur lesquelles on ne s'est pas entrainé\r\n",
        "# De plus cela nous permet de garder la même structure de data pour l'api (ajout/suppression de colonne, normalisation des données ect...)\r\n",
        "pd.DataFrame(X_test).to_csv('OnlineNewsPopularity/x_test.csv', sep=\";\")"
      ],
      "execution_count": 117,
      "outputs": []
    },
    {
      "cell_type": "code",
      "metadata": {
        "id": "fucXh0ND0WWB"
      },
      "source": [
        "pd.DataFrame(y_test).to_csv('OnlineNewsPopularity/y_test.csv', sep=\";\")"
      ],
      "execution_count": 118,
      "outputs": []
    }
  ]
}